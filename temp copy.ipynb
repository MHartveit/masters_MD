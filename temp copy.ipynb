{
 "cells": [
  {
   "cell_type": "code",
   "execution_count": 1,
   "metadata": {},
   "outputs": [],
   "source": [
    "import numpy as np\n",
    "import utils\n",
    "import pandas as pd\n",
    "from pathlib import Path\n",
    "RESPONSE = \"two_year_recid\""
   ]
  },
  {
   "cell_type": "code",
   "execution_count": 2,
   "metadata": {},
   "outputs": [
    {
     "name": "stderr",
     "output_type": "stream",
     "text": [
      "100%|██████████| 2/2 [14:26<00:00, 433.30s/it]\n"
     ]
    }
   ],
   "source": [
    "#percentiles = [p for p in range(0,20,2)]+[p for p in range(20,80, 10)]\n",
    "percentiles = [0, 50]\n",
    "#TODO test missing = Sensitive in case code crashes\n",
    "missing=[\"priors_count\"]# \"is_Caucasian\"]#, \"gender_factor\", ]\n",
    "all_results2 = {\"Full data\": {}, \"Averaged results\": {} }\n",
    "RUNS = 2\n",
    "for miss in missing:\n",
    "    for sensitive in [\"gender_factor\"]:\n",
    "        recid_results = utils.test_bench(data = \"compas\", pred = RESPONSE, missing = miss, sensitive=sensitive,\n",
    "                            percentiles = percentiles, n_runs=RUNS, differencing=False)\n",
    "        all_results2[\"Full data\"][miss+\"_\"+sensitive+\"_\"+\"recid\"] = recid_results[\"Full data\"]\n",
    "        all_results2[\"Averaged results\"][miss+\"_\"+sensitive+\"_\"+\"recid\"] = recid_results[\"Averaged results\"]"
   ]
  },
  {
   "cell_type": "code",
   "execution_count": 3,
   "metadata": {},
   "outputs": [],
   "source": [
    "res = {}\n",
    "IMPUTATIONS = [\"fair_reg_995\", \"cca\", \"fair_reg_985\", \"mean\", \"mice_def\", \"coldel\"]\n",
    "for k in IMPUTATIONS:  \n",
    "    res[k] = all_results2[\"Averaged results\"][\"age_factor_Greater than 45_age_factor_Less than 25_recid\"][\"mar|spd|log_reg|\"+k]"
   ]
  },
  {
   "cell_type": "code",
   "execution_count": 4,
   "metadata": {},
   "outputs": [
    {
     "data": {
      "text/plain": [
       "{'fair_reg_995': [],\n",
       " 'cca': [0.10838268765098127, 0.2534068396772602],\n",
       " 'fair_reg_985': [0.10838268765098127, 0.11424962313485224],\n",
       " 'mean': [0.10838268765098127, 0.14641676418482055],\n",
       " 'mice_def': [0.10838268765098127, 0.050382899875089954],\n",
       " 'coldel': [0.18746396532334056, 0.18746396532334056]}"
      ]
     },
     "execution_count": 4,
     "metadata": {},
     "output_type": "execute_result"
    }
   ],
   "source": [
    "res"
   ]
  },
  {
   "cell_type": "code",
   "execution_count": 8,
   "metadata": {},
   "outputs": [],
   "source": [
    "res = {}\n",
    "IMPUTATIONS = [\"fair_reg_995\", \"cca\", \"fair_reg_985\", \"mean\", \"mice_def\", \"coldel\"]\n",
    "for k in IMPUTATIONS:  \n",
    "    res[k] = all_results2[\"Averaged results\"][\"age_factor_Greater than 45_age_factor_Less than 25_recid\"][\"mar|eosum|log_reg|\"+k]"
   ]
  },
  {
   "cell_type": "code",
   "execution_count": 9,
   "metadata": {},
   "outputs": [
    {
     "data": {
      "text/plain": [
       "{'fair_reg_995': [],\n",
       " 'cca': [0.15041264540279561, 0.49471819926512317],\n",
       " 'fair_reg_985': [0.15041264540279561, 0.1708649027402989],\n",
       " 'mean': [0.15041264540279561, 0.23053485818579025],\n",
       " 'mice_def': [0.15041264540279561, 0.03347941117483144],\n",
       " 'coldel': [0.31723181587896476, 0.31723181587896476]}"
      ]
     },
     "execution_count": 9,
     "metadata": {},
     "output_type": "execute_result"
    }
   ],
   "source": [
    "res"
   ]
  },
  {
   "cell_type": "code",
   "execution_count": 3,
   "metadata": {},
   "outputs": [],
   "source": [
    "\"\"\"import json\n",
    "with open(Path(\"raw_data/self_run_14_08.json\"), 'w') as f:\n",
    "    json.dump(all_results2, f)\"\"\""
   ]
  },
  {
   "cell_type": "code",
   "execution_count": null,
   "metadata": {},
   "outputs": [],
   "source": []
  },
  {
   "cell_type": "code",
   "execution_count": 5,
   "metadata": {},
   "outputs": [],
   "source": [
    "import matplotlib.pyplot as plt\n",
    "NAME_KEYS = {\"coldel\": \"Column deletion\",\n",
    "             \"cca\": \"CCA\",\n",
    "             \"mice_def\": \"Chained Eqaution\",\n",
    "             \"mean\": \"Mean\",\n",
    "             \"log_reg\": \"Logistic Regression\",\n",
    "             \"svm\": \"SVM\",\n",
    "             \"knn\": \"KNN\",\n",
    "             \"rf_cat\": \"Random Forest\",\n",
    "             \"fair_reg_995\": \"Fairness aware imputation lambda = 0.995\",\n",
    "             \"fair_reg_985\": \"Fairness aware imputation lambda = 0.985\",\n",
    "             \"eosum\": \"Sum of eqality of odds\",\n",
    "             \"acc\":\"Accuracy\",\n",
    "             \"pp\": \"Predictive Parity\",\n",
    "             \"spd\": \"Statistical Parity Difference\",\n",
    "             \"tpr0\": \"True positive rate Z=0\",\n",
    "             \"tpr1\": \"True positive rate Z=1\",\n",
    "             \"tnr0\": \"True negative rate Z=0\",\n",
    "             \"tnr1\": \"True negative rate Z=1\",\n",
    "             \"eo0\":\"Equality of odds Y=0\",\n",
    "             \"eo1\":\"Equality of odds Y=1\"}\n",
    "\n",
    "font = {'family': 'normal',\n",
    "        'weight': 'bold',\n",
    "        'size': 25}\n",
    "\n",
    "plt.rc('font', **font)"
   ]
  },
  {
   "cell_type": "code",
   "execution_count": 6,
   "metadata": {},
   "outputs": [],
   "source": [
    "IMPUTATIONS = [\"fair_reg_995\", \"cca\", \"fair_reg_985\", \"mean\", \"mice_def\", \"coldel\"]\n",
    "MODELS = [\"log_reg\", \"rf_cat\", \"svm\", \"knn\"]\n",
    "METRICS = [\"spd\", \"eo0\",\"eo1\", \"eosum\", \"pp\", \"acc\", \"tpr0\", \"tpr1\", \"tnr0\", \"tnr1\"]"
   ]
  },
  {
   "cell_type": "code",
   "execution_count": null,
   "metadata": {},
   "outputs": [],
   "source": [
    "missing=[\"priors_count\", 'age_factor_Greater than 45', \"is_Caucasian\"]#, \"gender_factor\", ]\n",
    "all_results2 = {\"Full data\": {}, \"Averaged results\": {} }\n",
    "RUNS = 6\n",
    "a = [\"is_Caucasian\", \"gender_factor\"]"
   ]
  },
  {
   "cell_type": "code",
   "execution_count": 9,
   "metadata": {},
   "outputs": [
    {
     "data": {
      "text/plain": [
       "<Figure size 1620x900 with 0 Axes>"
      ]
     },
     "metadata": {},
     "output_type": "display_data"
    }
   ],
   "source": [
    "for miss in [\"mcar\", \"mar\"]:\n",
    "    for metr in METRICS:\n",
    "        for mod in MODELS:\n",
    "            fig = plt.gcf()\n",
    "            fig.set_size_inches(22.5, 12.5)\n",
    "            for imp in IMPUTATIONS:\n",
    "                key = \"|\".join([miss,metr,mod,imp])\n",
    "                data = all_results2[\"Full data\"][\"priors_count_is_Caucasian_recid\"][\"0\"][miss][metr][mod][imp]\n",
    "                plt.plot(percentiles, data,\n",
    "                 label=NAME_KEYS[imp])\n",
    "            plt.title(\"Average performance of imputation techniques on COMPAS for \"+ NAME_KEYS[mod])\n",
    "            plt.xlabel(\"Missingness percent\")\n",
    "            plt.ylabel(NAME_KEYS[metr])\n",
    "            #plt.ylim(0.6, 1.01)\n",
    "            plt.legend()\n",
    "            plt.savefig(Path(\"temp2/\"+miss+\"_\"+metr+\"_\"+mod+\"_\"+miss+\".png\"))\n",
    "            plt.clf()"
   ]
  },
  {
   "cell_type": "code",
   "execution_count": 7,
   "metadata": {},
   "outputs": [
    {
     "name": "stderr",
     "output_type": "stream",
     "text": [
      "findfont: Font family ['normal'] not found. Falling back to DejaVu Sans.\n",
      "findfont: Font family ['normal'] not found. Falling back to DejaVu Sans.\n",
      "findfont: Font family ['normal'] not found. Falling back to DejaVu Sans.\n"
     ]
    },
    {
     "data": {
      "text/plain": [
       "<Figure size 1620x900 with 0 Axes>"
      ]
     },
     "metadata": {},
     "output_type": "display_data"
    }
   ],
   "source": [
    "for miss in [\"mcar\", \"mar\"]:\n",
    "    for metr in METRICS:\n",
    "        for mod in MODELS:\n",
    "            fig = plt.gcf()\n",
    "            fig.set_size_inches(22.5, 12.5)\n",
    "            for imp in IMPUTATIONS:\n",
    "                key = \"|\".join([miss,metr,mod,imp])\n",
    "                data = all_results2[\"Averaged results\"][\"priors_count_is_Caucasian_recid\"][key]\n",
    "                plt.plot(percentiles, data,\n",
    "                 label=NAME_KEYS[imp])\n",
    "            plt.title(\"Average performance of imputation techniques on COMPAS for \"+ NAME_KEYS[mod])\n",
    "            plt.xlabel(\"Missingness percent\")\n",
    "            plt.ylabel(NAME_KEYS[metr])\n",
    "            #plt.ylim(0.6, 1.01)\n",
    "            plt.legend()\n",
    "            plt.savefig(Path(\"temp2/\"+miss+\"_\"+metr+\"_\"+mod+\"_\"+miss+\".png\"))\n",
    "            plt.clf()"
   ]
  },
  {
   "cell_type": "code",
   "execution_count": null,
   "metadata": {},
   "outputs": [],
   "source": [
    "try:\n",
    "    for miss in [\"x_2\", \"x_5\"]:\n",
    "        sensitive = \"x_1\"\n",
    "        RESPONSE = \"y\"\n",
    "        synth_results = utils.test_bench(data = \"simple\", pred = RESPONSE, missing = miss, sensitive=sensitive,\n",
    "                                    percentiles = percentiles, n_runs=RUNS, differencing=False)\n",
    "        all_results2[\"Full data\"][miss+\"_\"+sensitive+\"_\"+\"synth\"] = synth_results[\"Full data\"]\n",
    "        all_results2[\"Averaged results\"][miss+\"_\"+sensitive+\"_\"+\"synth\"] = synth_results[\"Averaged results\"]\n",
    "except Exception as e:\n",
    "    print(\"Exception:\", e)\n",
    "    print(\"SIMPLE SYNTH\")\n",
    "    pass"
   ]
  },
  {
   "cell_type": "code",
   "execution_count": null,
   "metadata": {},
   "outputs": [],
   "source": []
  },
  {
   "cell_type": "code",
   "execution_count": null,
   "metadata": {},
   "outputs": [
    {
     "data": {
      "text/plain": [
       "5065"
      ]
     },
     "execution_count": 9,
     "metadata": {},
     "output_type": "execute_result"
    }
   ],
   "source": []
  }
 ],
 "metadata": {
  "kernelspec": {
   "display_name": "Python 3.9.6 64-bit",
   "language": "python",
   "name": "python3"
  },
  "language_info": {
   "codemirror_mode": {
    "name": "ipython",
    "version": 3
   },
   "file_extension": ".py",
   "mimetype": "text/x-python",
   "name": "python",
   "nbconvert_exporter": "python",
   "pygments_lexer": "ipython3",
   "version": "3.9.6"
  },
  "orig_nbformat": 4,
  "vscode": {
   "interpreter": {
    "hash": "f6b5d6a7d9324dc6141b12d74f79997d922c129aaadb2c82c0fa5c003a2c41f2"
   }
  }
 },
 "nbformat": 4,
 "nbformat_minor": 2
}
