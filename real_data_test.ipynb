{
 "cells": [
  {
   "cell_type": "code",
   "execution_count": 16,
   "metadata": {},
   "outputs": [],
   "source": [
    "import numpy as np\n",
    "import pandas as pd\n",
    "import utils"
   ]
  },
  {
   "cell_type": "code",
   "execution_count": 17,
   "metadata": {},
   "outputs": [],
   "source": [
    "cols = [\"days_b_screening_arrest\",\n",
    "    \"is_recid\",\n",
    "    \"c_charge_degree\",\n",
    "    \"c_jail_out\",\n",
    "    \"c_jail_in\",\n",
    "    \"age_cat\",\n",
    "    \"race\",\n",
    "    \"sex\",\n",
    "    \"two_year_recid\",\n",
    "    ]\n",
    "recid = pd.read_csv(\"./compas_recid.csv\", usecols=cols+[\"score_text\"])\n",
    "violent_recid = pd.read_csv(\"./compas_violent_recid.csv\", usecols=cols+[\"v_score_text\"])"
   ]
  },
  {
   "cell_type": "code",
   "execution_count": null,
   "metadata": {},
   "outputs": [],
   "source": []
  },
  {
   "cell_type": "code",
   "execution_count": 18,
   "metadata": {},
   "outputs": [],
   "source": [
    "def compas_cleaning(df, score_factor):\n",
    "    new_df = df.dropna()\n",
    "    new_df = new_df[(new_df[\"days_b_screening_arrest\"]<=30)&\n",
    "                    (new_df[\"days_b_screening_arrest\"]>=-30)&\n",
    "                    (new_df[\"is_recid\"]!=-1)&\n",
    "                    (new_df[\"c_charge_degree\"]!=\"O\")]\n",
    "    new_df[\"length_of_stay\"] = ((pd.to_datetime(df[\"c_jail_out\"])-pd.to_datetime(df[\"c_jail_in\"])).dt.days)\n",
    "    new_df[\"length_of_stay\"] = new_df[\"length_of_stay\"].astype(int)\n",
    "    new_df.drop(labels = [\"c_jail_out\", \"c_jail_in\", \"days_b_screening_arrest\"],axis = 1, inplace = True)\n",
    "    new_df[score_factor] = new_df[score_factor].apply(lambda x: 1 if x==\"High\" else 0)\n",
    "    new_df = pd.get_dummies(new_df, \n",
    "                            columns = [\"c_charge_degree\",\n",
    "                                        \"age_cat\",\n",
    "                                        \"race\",\n",
    "                                        \"sex\"],\n",
    "                            drop_first=True)\n",
    "    return new_df\n",
    "\n",
    "    "
   ]
  },
  {
   "cell_type": "code",
   "execution_count": 19,
   "metadata": {},
   "outputs": [],
   "source": [
    "recid = compas_cleaning(recid, \"score_text\")\n",
    "violent_recid = compas_cleaning(violent_recid, \"v_score_text\")"
   ]
  },
  {
   "cell_type": "code",
   "execution_count": 20,
   "metadata": {},
   "outputs": [
    {
     "data": {
      "text/html": [
       "<div>\n",
       "<style scoped>\n",
       "    .dataframe tbody tr th:only-of-type {\n",
       "        vertical-align: middle;\n",
       "    }\n",
       "\n",
       "    .dataframe tbody tr th {\n",
       "        vertical-align: top;\n",
       "    }\n",
       "\n",
       "    .dataframe thead th {\n",
       "        text-align: right;\n",
       "    }\n",
       "</style>\n",
       "<table border=\"1\" class=\"dataframe\">\n",
       "  <thead>\n",
       "    <tr style=\"text-align: right;\">\n",
       "      <th></th>\n",
       "      <th>is_recid</th>\n",
       "      <th>score_text</th>\n",
       "      <th>two_year_recid</th>\n",
       "      <th>length_of_stay</th>\n",
       "      <th>c_charge_degree_M</th>\n",
       "      <th>age_cat_Greater than 45</th>\n",
       "      <th>age_cat_Less than 25</th>\n",
       "      <th>race_Asian</th>\n",
       "      <th>race_Caucasian</th>\n",
       "      <th>race_Hispanic</th>\n",
       "      <th>race_Native American</th>\n",
       "      <th>race_Other</th>\n",
       "      <th>sex_Male</th>\n",
       "    </tr>\n",
       "  </thead>\n",
       "  <tbody>\n",
       "    <tr>\n",
       "      <th>0</th>\n",
       "      <td>0</td>\n",
       "      <td>0</td>\n",
       "      <td>0</td>\n",
       "      <td>0</td>\n",
       "      <td>0</td>\n",
       "      <td>1</td>\n",
       "      <td>0</td>\n",
       "      <td>0</td>\n",
       "      <td>0</td>\n",
       "      <td>0</td>\n",
       "      <td>0</td>\n",
       "      <td>1</td>\n",
       "      <td>1</td>\n",
       "    </tr>\n",
       "    <tr>\n",
       "      <th>1</th>\n",
       "      <td>1</td>\n",
       "      <td>0</td>\n",
       "      <td>1</td>\n",
       "      <td>10</td>\n",
       "      <td>0</td>\n",
       "      <td>0</td>\n",
       "      <td>0</td>\n",
       "      <td>0</td>\n",
       "      <td>0</td>\n",
       "      <td>0</td>\n",
       "      <td>0</td>\n",
       "      <td>0</td>\n",
       "      <td>1</td>\n",
       "    </tr>\n",
       "    <tr>\n",
       "      <th>2</th>\n",
       "      <td>1</td>\n",
       "      <td>0</td>\n",
       "      <td>1</td>\n",
       "      <td>1</td>\n",
       "      <td>0</td>\n",
       "      <td>0</td>\n",
       "      <td>1</td>\n",
       "      <td>0</td>\n",
       "      <td>0</td>\n",
       "      <td>0</td>\n",
       "      <td>0</td>\n",
       "      <td>0</td>\n",
       "      <td>1</td>\n",
       "    </tr>\n",
       "    <tr>\n",
       "      <th>5</th>\n",
       "      <td>0</td>\n",
       "      <td>0</td>\n",
       "      <td>0</td>\n",
       "      <td>1</td>\n",
       "      <td>1</td>\n",
       "      <td>0</td>\n",
       "      <td>0</td>\n",
       "      <td>0</td>\n",
       "      <td>0</td>\n",
       "      <td>0</td>\n",
       "      <td>0</td>\n",
       "      <td>1</td>\n",
       "      <td>1</td>\n",
       "    </tr>\n",
       "    <tr>\n",
       "      <th>6</th>\n",
       "      <td>1</td>\n",
       "      <td>0</td>\n",
       "      <td>1</td>\n",
       "      <td>6</td>\n",
       "      <td>0</td>\n",
       "      <td>0</td>\n",
       "      <td>0</td>\n",
       "      <td>0</td>\n",
       "      <td>1</td>\n",
       "      <td>0</td>\n",
       "      <td>0</td>\n",
       "      <td>0</td>\n",
       "      <td>1</td>\n",
       "    </tr>\n",
       "  </tbody>\n",
       "</table>\n",
       "</div>"
      ],
      "text/plain": [
       "   is_recid  score_text  two_year_recid  length_of_stay  c_charge_degree_M  \\\n",
       "0         0           0               0               0                  0   \n",
       "1         1           0               1              10                  0   \n",
       "2         1           0               1               1                  0   \n",
       "5         0           0               0               1                  1   \n",
       "6         1           0               1               6                  0   \n",
       "\n",
       "   age_cat_Greater than 45  age_cat_Less than 25  race_Asian  race_Caucasian  \\\n",
       "0                        1                     0           0               0   \n",
       "1                        0                     0           0               0   \n",
       "2                        0                     1           0               0   \n",
       "5                        0                     0           0               0   \n",
       "6                        0                     0           0               1   \n",
       "\n",
       "   race_Hispanic  race_Native American  race_Other  sex_Male  \n",
       "0              0                     0           1         1  \n",
       "1              0                     0           0         1  \n",
       "2              0                     0           0         1  \n",
       "5              0                     0           1         1  \n",
       "6              0                     0           0         1  "
      ]
     },
     "execution_count": 20,
     "metadata": {},
     "output_type": "execute_result"
    }
   ],
   "source": [
    "recid.head()"
   ]
  },
  {
   "cell_type": "code",
   "execution_count": 21,
   "metadata": {},
   "outputs": [
    {
     "name": "stdout",
     "output_type": "stream",
     "text": [
      "SPD:  0.12030654752827094\n"
     ]
    }
   ],
   "source": [
    "print(\"SPD: \", utils.spd(recid[\"score_text\"], recid[\"race_Caucasian\"]))"
   ]
  },
  {
   "cell_type": "code",
   "execution_count": 26,
   "metadata": {},
   "outputs": [],
   "source": [
    "from sklearn.model_selection import train_test_split\n",
    "x_train, x_test, y_train, y_test = train_test_split(recid.drop(\"score_text\", axis = 1),recid[\"score_text\"], test_size=0.33, random_state=0)\n",
    "x_train[\"score_text\"] = y_train\n",
    "x_test[\"score_text\"] = y_test"
   ]
  },
  {
   "cell_type": "code",
   "execution_count": 39,
   "metadata": {},
   "outputs": [
    {
     "name": "stderr",
     "output_type": "stream",
     "text": [
      "C:\\Users\\mariu\\AppData\\Local\\Programs\\Python\\Python39\\lib\\site-packages\\sklearn\\linear_model\\_logistic.py:763: ConvergenceWarning: lbfgs failed to converge (status=1):\n",
      "STOP: TOTAL NO. of ITERATIONS REACHED LIMIT.\n",
      "\n",
      "Increase the number of iterations (max_iter) or scale the data as shown in:\n",
      "    https://scikit-learn.org/stable/modules/preprocessing.html\n",
      "Please also refer to the documentation for alternative solver options:\n",
      "    https://scikit-learn.org/stable/modules/linear_model.html#logistic-regression\n",
      "  n_iter_i = _check_optimize_result(\n"
     ]
    }
   ],
   "source": [
    "data = utils.data_remover_cat(x_train, \"two_year_recid\", 40, impute = \"mean\")"
   ]
  },
  {
   "cell_type": "code",
   "execution_count": 40,
   "metadata": {},
   "outputs": [
    {
     "name": "stdout",
     "output_type": "stream",
     "text": [
      "SPD:  0.12455937474245786\n"
     ]
    }
   ],
   "source": [
    "print(\"SPD: \", utils.spd(data[\"score_text\"], data[\"race_Caucasian\"]))"
   ]
  },
  {
   "cell_type": "code",
   "execution_count": 41,
   "metadata": {},
   "outputs": [],
   "source": [
    "from sklearn.linear_model import LogisticRegression\n",
    "model = LogisticRegression(random_state=0, max_iter=500)\n",
    "preds = model.fit(data.drop(\"score_text\", axis = 1),\n",
    "                data[\"score_text\"]).predict(x_test.drop(\"score_text\", axis = 1))"
   ]
  },
  {
   "cell_type": "code",
   "execution_count": 42,
   "metadata": {},
   "outputs": [
    {
     "data": {
      "text/plain": [
       "0.023297215111915164"
      ]
     },
     "execution_count": 42,
     "metadata": {},
     "output_type": "execute_result"
    }
   ],
   "source": [
    "utils.spd(preds, x_test[\"race_Caucasian\"])"
   ]
  },
  {
   "cell_type": "code",
   "execution_count": null,
   "metadata": {},
   "outputs": [],
   "source": []
  }
 ],
 "metadata": {
  "interpreter": {
   "hash": "eae8805b7a60ca00ec391bf13e71294753b9bf81b6b5d55c56d2d16aa9c3e739"
  },
  "kernelspec": {
   "display_name": "Python 3.9.6 64-bit",
   "language": "python",
   "name": "python3"
  },
  "language_info": {
   "codemirror_mode": {
    "name": "ipython",
    "version": 3
   },
   "file_extension": ".py",
   "mimetype": "text/x-python",
   "name": "python",
   "nbconvert_exporter": "python",
   "pygments_lexer": "ipython3",
   "version": "3.9.6"
  },
  "orig_nbformat": 4
 },
 "nbformat": 4,
 "nbformat_minor": 2
}
