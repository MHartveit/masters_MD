{
 "cells": [
  {
   "cell_type": "code",
   "execution_count": 1,
   "metadata": {},
   "outputs": [],
   "source": [
    "import numpy as np\n",
    "import utils\n",
    "import pandas as pd"
   ]
  },
  {
   "cell_type": "code",
   "execution_count": 17,
   "metadata": {},
   "outputs": [
    {
     "data": {
      "text/plain": [
       "array([[0.25, 2.  ],\n",
       "       [0.75, 3.  ]])"
      ]
     },
     "execution_count": 17,
     "metadata": {},
     "output_type": "execute_result"
    }
   ],
   "source": [
    "a = np.array([[-1.0,2.0],[-3.0,-3.0]])\n",
    "a[a<0]=0.0\n",
    "a = np.array([[1.0,2.0],[3.0,3.0]])\n",
    "a[:,0] /= np.sum(a[:,0])\n",
    "a\n"
   ]
  },
  {
   "cell_type": "code",
   "execution_count": 19,
   "metadata": {},
   "outputs": [
    {
     "data": {
      "text/plain": [
       "12"
      ]
     },
     "execution_count": 19,
     "metadata": {},
     "output_type": "execute_result"
    }
   ],
   "source": [
    "np.sum(np.sum(np.array([[1,2],[4,5]]), axis = 0))"
   ]
  },
  {
   "cell_type": "code",
   "execution_count": 22,
   "metadata": {},
   "outputs": [
    {
     "data": {
      "text/plain": [
       "array([[0.26497221, 0.33683941],\n",
       "       [0.159091  , 0.95982588]])"
      ]
     },
     "execution_count": 22,
     "metadata": {},
     "output_type": "execute_result"
    }
   ],
   "source": [
    "np.random.uniform(0,1,size=(2,2))"
   ]
  },
  {
   "cell_type": "code",
   "execution_count": 10,
   "metadata": {},
   "outputs": [
    {
     "name": "stdout",
     "output_type": "stream",
     "text": [
      "   a  b\n",
      "0  1  3\n",
      "1  2  4\n",
      "2  3  5\n",
      "-------------\n",
      "a     6\n",
      "b    12\n",
      "dtype: int64\n",
      "-------------\n",
      "[ 7 14]\n"
     ]
    }
   ],
   "source": [
    "data = pd.DataFrame({\"a\":[1,2,3], \"b\":[3,4,5]}, columns=[\"a\",\"b\"])\n",
    "print(data.head())\n",
    "print(\"-------------\")\n",
    "print(data.sum())\n",
    "print(\"-------------\")\n",
    "print(np.array(np.array([1,2])+data.sum()))\n"
   ]
  },
  {
   "cell_type": "code",
   "execution_count": null,
   "metadata": {},
   "outputs": [],
   "source": []
  },
  {
   "cell_type": "code",
   "execution_count": null,
   "metadata": {},
   "outputs": [],
   "source": []
  },
  {
   "cell_type": "code",
   "execution_count": null,
   "metadata": {},
   "outputs": [],
   "source": []
  },
  {
   "cell_type": "code",
   "execution_count": null,
   "metadata": {},
   "outputs": [],
   "source": []
  },
  {
   "cell_type": "code",
   "execution_count": null,
   "metadata": {},
   "outputs": [],
   "source": []
  },
  {
   "cell_type": "code",
   "execution_count": 2,
   "metadata": {},
   "outputs": [],
   "source": [
    "from itertools import permutations\n",
    "\n",
    "\n",
    "IMPUTATIONS = [\"cca\", \"mean\", \"mice_def\", \"coldel\"]  # , \"reg\"]\n",
    "IMPUTATION_COMBOS = [perm[0]+perm[1] for perm in permutations(IMPUTATIONS, 2)]"
   ]
  },
  {
   "cell_type": "code",
   "execution_count": 3,
   "metadata": {},
   "outputs": [],
   "source": [
    "synth_regular = utils.load_synthetic()\n",
    "compas = utils.load_compas_alt()\n",
    "RESPONSE = \"two_year_recid\""
   ]
  },
  {
   "cell_type": "code",
   "execution_count": 4,
   "metadata": {},
   "outputs": [
    {
     "name": "stdout",
     "output_type": "stream",
     "text": [
      "Key:  test\n",
      "Caucasian = 1:  0.33483483483483484 \n",
      "Caucasian = 0:  0.6651651651651652\n",
      "Male = 1:  0.8263263263263263 \n",
      "Male = 0:  0.17367367367367367\n",
      "After 30% missing: \n",
      "Caucasian = 1:  0.3186915887850467 \n",
      "Caucasian = 0:  0.6813084112149532\n",
      "Male = 1:  0.7682242990654206 \n",
      "Male = 0:  0.23177570093457944\n",
      "Key:  train\n",
      "Caucasian = 1:  0.34507746126936534 \n",
      "Caucasian = 0:  0.6549225387306347\n",
      "Male = 1:  0.8168415792103948 \n",
      "Male = 0:  0.1831584207896052\n",
      "After 30% missing: \n",
      "Caucasian = 1:  0.3237350884409708 \n",
      "Caucasian = 0:  0.6762649115590292\n",
      "Male = 1:  0.7708761826408885 \n",
      "Male = 0:  0.22912381735911147\n"
     ]
    }
   ],
   "source": [
    "#Checking that the classes don't become too much more imbalanced when data is removed.\n",
    "\n",
    "#Synthetic data\n",
    "for key, value in synth_regular.items():\n",
    "    #print(value.columns)\n",
    "    print(\"Key: \", key)\n",
    "    print(\"Caucasian = 1: \",len(value[value[\"is_Caucasian\"]==1])/len(value) ,\n",
    "    \"\\nCaucasian = 0: \", len(value[value[\"is_Caucasian\"]==0])/len(value))\n",
    "    print(\"Male = 1: \",len(value[value[\"gender_factor\"]==1])/len(value) ,\n",
    "    \"\\nMale = 0: \", len(value[value[\"gender_factor\"]==0])/len(value))\n",
    "    print(\"After 30% missing: \")\n",
    "    temp = value.copy()\n",
    "    temp = utils.impute(utils.data_remover_cat(temp, \"is_Caucasian\", 30), \"is_Caucasian\")\n",
    "    print(\"Caucasian = 1: \",len(temp[temp[\"is_Caucasian\"]==1])/len(temp) ,\n",
    "        \"\\nCaucasian = 0: \", len(temp[temp[\"is_Caucasian\"]==0])/len(temp))\n",
    "    print(\"Male = 1: \",len(temp[temp[\"gender_factor\"]==1])/len(temp) ,\n",
    "        \"\\nMale = 0: \", len(temp[temp[\"gender_factor\"]==0])/len(temp))"
   ]
  },
  {
   "cell_type": "code",
   "execution_count": 5,
   "metadata": {},
   "outputs": [
    {
     "name": "stdout",
     "output_type": "stream",
     "text": [
      "Key:  train\n",
      "Caucasian = 1:  0.3388149939540508 \n",
      "Caucasian = 0:  0.6611850060459492\n",
      "Male = 1:  0.8099153567110037 \n",
      "Male = 0:  0.19008464328899638\n",
      "Response:  0.5429262394195888\n",
      "After 90% missing: \n",
      "sum 171\n",
      "Caucasian = 1:  0.353125 \n",
      "Caucasian = 0:  0.646875\n",
      "Male = 1:  0.69375 \n",
      "Male = 0:  0.30625\n",
      "Response:  0.534375\n",
      "Key:  test\n",
      "Caucasian = 1:  0.3446244477172312 \n",
      "Caucasian = 0:  0.6553755522827688\n",
      "Male = 1:  0.8090328915071183 \n",
      "Male = 0:  0.19096710849288168\n",
      "Response:  0.5488463426607757\n",
      "After 90% missing: \n",
      "sum 104\n",
      "Caucasian = 1:  0.3741935483870968 \n",
      "Caucasian = 0:  0.6258064516129033\n",
      "Male = 1:  0.7483870967741936 \n",
      "Male = 0:  0.25161290322580643\n",
      "Response:  0.6709677419354839\n"
     ]
    }
   ],
   "source": [
    "#Compas data\n",
    "\"\"\"for ver in [\"standard\", \"violent\"]:\n",
    "    print(\"Compas dataset type: \", ver)\"\"\"\n",
    "for key, value in compas.items():\n",
    "    #print(value.columns)\n",
    "    print(\"Key: \", key)\n",
    "    print(\"Caucasian = 1: \",len(value[value[\"is_Caucasian\"]==1])/len(value) ,\n",
    "    \"\\nCaucasian = 0: \", len(value[value[\"is_Caucasian\"]==0])/len(value))\n",
    "    print(\"Male = 1: \",len(value[value[\"gender_factor\"]==1])/len(value) ,\n",
    "    \"\\nMale = 0: \", len(value[value[\"gender_factor\"]==0])/len(value))\n",
    "    print(\"Response: \", len(value[value[\"two_year_recid\"]==1])/len(value))\n",
    "    print(\"After 90% missing: \")\n",
    "    temp = value.copy()\n",
    "    temp = utils.impute(utils.data_remover_cat(temp, \"is_Caucasian\", 90), \"is_Caucasian\")\n",
    "    print(\"sum\", temp[\"two_year_recid\"].sum())\n",
    "    print(\"Caucasian = 1: \",len(temp[temp[\"is_Caucasian\"]==1])/len(temp) ,\n",
    "        \"\\nCaucasian = 0: \", len(temp[temp[\"is_Caucasian\"]==0])/len(temp))\n",
    "    print(\"Male = 1: \",len(temp[temp[\"gender_factor\"]==1])/len(temp) ,\n",
    "        \"\\nMale = 0: \", len(temp[temp[\"gender_factor\"]==0])/len(temp))\n",
    "    print(\"Response: \", len(temp[temp[\"two_year_recid\"]==1])/len(temp))\n"
   ]
  },
  {
   "cell_type": "code",
   "execution_count": 6,
   "metadata": {},
   "outputs": [],
   "source": [
    "IMPUTATIONS = [\"cca\", \"mean\", \"mice_def\", \"coldel\"]  # , \"reg\"]\n",
    "IMPUTATION_COMBOS = [perm[0]+\"|\"+perm[1] for perm in permutations(IMPUTATIONS, 2)]"
   ]
  },
  {
   "cell_type": "code",
   "execution_count": 7,
   "metadata": {},
   "outputs": [
    {
     "data": {
      "text/plain": [
       "['cca|mean',\n",
       " 'cca|mice_def',\n",
       " 'cca|coldel',\n",
       " 'mean|cca',\n",
       " 'mean|mice_def',\n",
       " 'mean|coldel',\n",
       " 'mice_def|cca',\n",
       " 'mice_def|mean',\n",
       " 'mice_def|coldel',\n",
       " 'coldel|cca',\n",
       " 'coldel|mean',\n",
       " 'coldel|mice_def']"
      ]
     },
     "execution_count": 7,
     "metadata": {},
     "output_type": "execute_result"
    }
   ],
   "source": [
    "IMPUTATION_COMBOS"
   ]
  },
  {
   "cell_type": "code",
   "execution_count": 10,
   "metadata": {},
   "outputs": [
    {
     "name": "stderr",
     "output_type": "stream",
     "text": [
      "  0%|          | 0/2 [00:00<?, ?it/s]"
     ]
    }
   ],
   "source": [
    "percentiles = [p for p in range(0,20,2)]+[p for p in range(20,80, 10)]\n",
    "#TODO test missing = Sensitive in case code crashes\n",
    "missing=[\"priors_count\"]#, \"two_year_recid\"]# \"is_Caucasian\"]#, \"gender_factor\", \"crime_factor\"]\n",
    "all_results = {\"Full data\": {}, \"Averaged results\": {} }\n",
    "RUNS = 2\n",
    "for miss in missing:\n",
    "    for sensitive in [\"is_Caucasian\"]:#, \"gender_factor\"]:\n",
    "        #try:\n",
    "        recid_results = utils.test_bench(data = \"compas\", pred = RESPONSE, missing = miss, sensitive=sensitive,\n",
    "                        percentiles = percentiles, n_runs=RUNS)\n",
    "        #synth_results = utils.test_bench(data = \"synthetic\", pred = RESPONSE, missing = miss, sensitive=sensitive,\n",
    "                            #percentiles = percentiles, n_runs=RUNS)\n",
    "        #TODO and remember to fix data v_recid_results = utils.test_bench(train = compas[\"standard\"][\"train\"],test = compas[\"standard\"][\"test\"], pred = RESPONSE, missing = miss, sensitive=sensitive,\n",
    "                        #percentiles = percentiles)\n",
    "        #all_results[miss+\"_\"+sensitive+\"_\"+\"synth\"] = synth_results \n",
    "        all_results[\"Full data\"][miss+\"_\"+sensitive+\"_\"+\"recid\"] = recid_results[\"Full data\"]\n",
    "        all_results[\"Averaged results\"][miss+\"_\"+sensitive+\"_\"+\"recid\"] = recid_results[\"Averaged results\"]\n",
    "        #except:\n",
    "            #print(\"failed at \" + sensitive + miss)\n",
    "        \"\"\"try:\n",
    "            synth_results = utils.test_bench(train = synth_regular[\"train\"],test = synth_regular[\"test\"], pred = RESPONSE, missing = miss, sensitive=sensitive,\n",
    "                            percentiles = percentiles)\n",
    "            recid_results = utils.test_bench(train = compas[\"train\"],test = compas[\"test\"], pred = RESPONSE, missing = miss, sensitive=sensitive,\n",
    "                            percentiles = percentiles)\n",
    "            #TODO and remember to fix data v_recid_results = utils.test_bench(train = compas[\"standard\"][\"train\"],test = compas[\"standard\"][\"test\"], pred = RESPONSE, missing = miss, sensitive=sensitive,\n",
    "                            #percentiles = percentiles)\n",
    "            all_results[miss+\"_\"+sensitive+\"_\"+\"synth\"] = synth_results \n",
    "            all_results[miss+\"_\"+sensitive+\"_\"+\"recid\"] = recid_results \n",
    "            #all_results[miss+\"_\"+sensitive+\"_\"+\"v_recid\"] = v_recid_results\n",
    "        except Exception as e:\n",
    "            print(\"Exception: \", e)\n",
    "            print(\"Parameters: \", sensitive+\"_\"+miss) \n",
    "        \"\"\""
   ]
  },
  {
   "cell_type": "code",
   "execution_count": 9,
   "metadata": {},
   "outputs": [],
   "source": [
    "import json\n",
    "from pathlib import Path\n",
    "with open(Path(\"raw_data/test.json\"), 'w') as f:\n",
    "            json.dump(all_results, f)"
   ]
  },
  {
   "cell_type": "code",
   "execution_count": null,
   "metadata": {},
   "outputs": [],
   "source": []
  }
 ],
 "metadata": {
  "interpreter": {
   "hash": "f6b5d6a7d9324dc6141b12d74f79997d922c129aaadb2c82c0fa5c003a2c41f2"
  },
  "kernelspec": {
   "display_name": "Python 3.9.6 64-bit",
   "language": "python",
   "name": "python3"
  },
  "language_info": {
   "codemirror_mode": {
    "name": "ipython",
    "version": 3
   },
   "file_extension": ".py",
   "mimetype": "text/x-python",
   "name": "python",
   "nbconvert_exporter": "python",
   "pygments_lexer": "ipython3",
   "version": "3.9.6"
  },
  "orig_nbformat": 4
 },
 "nbformat": 4,
 "nbformat_minor": 2
}
