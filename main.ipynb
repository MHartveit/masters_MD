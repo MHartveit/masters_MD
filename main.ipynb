{
 "cells": [
  {
   "cell_type": "code",
   "execution_count": 1,
   "metadata": {},
   "outputs": [],
   "source": [
    "import numpy as np\n",
    "import utils\n",
    "import pandas as pd"
   ]
  },
  {
   "cell_type": "code",
   "execution_count": 2,
   "metadata": {},
   "outputs": [],
   "source": [
    "synth_regular = utils.load_synthetic()\n",
    "compas = utils.load_compas()\n",
    "RESPONSE = \"score_text\""
   ]
  },
  {
   "cell_type": "code",
   "execution_count": 3,
   "metadata": {},
   "outputs": [
    {
     "data": {
      "text/plain": [
       "Index(['score_text', 'length_of_stay', 'two_year_recid', 'is_Caucasian',\n",
       "       'c_charge_degree_M', 'age_greater_than_45', 'age_less_than_25',\n",
       "       'sex_Male'],\n",
       "      dtype='object')"
      ]
     },
     "execution_count": 3,
     "metadata": {},
     "output_type": "execute_result"
    }
   ],
   "source": [
    "synth_regular[\"train\"].keys()"
   ]
  },
  {
   "cell_type": "code",
   "execution_count": 4,
   "metadata": {},
   "outputs": [
    {
     "data": {
      "text/plain": [
       "Index(['two_year_recid', 'length_of_stay', 'is_Caucasian', 'c_charge_degree_M',\n",
       "       'age_cat_Greater than 45', 'age_cat_Less than 25', 'sex_Male',\n",
       "       'score_text'],\n",
       "      dtype='object')"
      ]
     },
     "execution_count": 4,
     "metadata": {},
     "output_type": "execute_result"
    }
   ],
   "source": [
    "compas[\"standard\"][\"train\"].keys()"
   ]
  },
  {
   "cell_type": "code",
   "execution_count": 5,
   "metadata": {},
   "outputs": [
    {
     "name": "stdout",
     "output_type": "stream",
     "text": [
      "Key:  test\n",
      "Caucasian = 1:  0.3408408408408408 \n",
      "Caucasian = 0:  0.6591591591591591\n",
      "Male = 1:  0.8203203203203203 \n",
      "Male = 0:  0.17967967967967968\n",
      "After 30% missing: \n",
      "Caucasian = 1:  0.3333333333333333 \n",
      "Caucasian = 0:  0.6666666666666666\n",
      "Male = 1:  0.8454935622317596 \n",
      "Male = 0:  0.15450643776824036\n",
      "Key:  train\n",
      "Caucasian = 1:  0.34182908545727136 \n",
      "Caucasian = 0:  0.6581709145427287\n",
      "Male = 1:  0.8213393303348325 \n",
      "Male = 0:  0.17866066966516742\n",
      "After 30% missing: \n",
      "Caucasian = 1:  0.33785714285714286 \n",
      "Caucasian = 0:  0.6621428571428571\n",
      "Male = 1:  0.8203571428571429 \n",
      "Male = 0:  0.17964285714285713\n"
     ]
    }
   ],
   "source": [
    "#Checking that the classes don't become too much more imbalanced when data is removed.\n",
    "\n",
    "#Synthetic data\n",
    "for key, value in synth_regular.items():\n",
    "    #print(value.columns)\n",
    "    print(\"Key: \", key)\n",
    "    print(\"Caucasian = 1: \",len(value[value[\"is_Caucasian\"]==1])/len(value) ,\n",
    "    \"\\nCaucasian = 0: \", len(value[value[\"is_Caucasian\"]==0])/len(value))\n",
    "    print(\"Male = 1: \",len(value[value[\"sex_Male\"]==1])/len(value) ,\n",
    "    \"\\nMale = 0: \", len(value[value[\"sex_Male\"]==0])/len(value))\n",
    "    print(\"After 30% missing: \")\n",
    "    temp = value.copy()\n",
    "    temp = utils.impute(utils.data_remover_cat(temp, \"is_Caucasian\", 30), \"is_Caucasian\")\n",
    "    print(\"Caucasian = 1: \",len(temp[temp[\"is_Caucasian\"]==1])/len(temp) ,\n",
    "        \"\\nCaucasian = 0: \", len(temp[temp[\"is_Caucasian\"]==0])/len(temp))\n",
    "    print(\"Male = 1: \",len(temp[temp[\"sex_Male\"]==1])/len(temp) ,\n",
    "        \"\\nMale = 0: \", len(temp[temp[\"sex_Male\"]==0])/len(temp))"
   ]
  },
  {
   "cell_type": "code",
   "execution_count": 6,
   "metadata": {},
   "outputs": [
    {
     "name": "stdout",
     "output_type": "stream",
     "text": [
      "Compas dataset type:  standard\n",
      "Key:  train\n",
      "Caucasian = 1:  0.3388149939540508 \n",
      "Caucasian = 0:  0.6611850060459492\n",
      "Male = 1:  0.8099153567110037 \n",
      "Male = 0:  0.19008464328899638\n",
      "Score text:  0.8169286577992745\n",
      "After 30% missing: \n",
      "Caucasian = 1:  0.32894736842105265 \n",
      "Caucasian = 0:  0.6710526315789473\n",
      "Male = 1:  0.7932825484764543 \n",
      "Male = 0:  0.2067174515235457\n",
      "Score text:  0.8169286577992745\n",
      "Key:  test\n",
      "Caucasian = 1:  0.3446244477172312 \n",
      "Caucasian = 0:  0.6553755522827688\n",
      "Male = 1:  0.8090328915071183 \n",
      "Male = 0:  0.19096710849288168\n",
      "Score text:  0.8100147275405007\n",
      "After 30% missing: \n",
      "Caucasian = 1:  0.3368421052631579 \n",
      "Caucasian = 0:  0.6631578947368421\n",
      "Male = 1:  0.7922807017543859 \n",
      "Male = 0:  0.20771929824561403\n",
      "Score text:  0.8100147275405007\n",
      "Compas dataset type:  violent\n",
      "Key:  train\n",
      "Caucasian = 1:  0.36390642406238394 \n",
      "Caucasian = 0:  0.6360935759376161\n",
      "Male = 1:  0.7875974749350168 \n",
      "Male = 0:  0.21240252506498328\n",
      "Score text:  0.9324173783884144\n",
      "After 30% missing: \n",
      "Caucasian = 1:  0.34970318402590395 \n",
      "Caucasian = 0:  0.650296815974096\n",
      "Male = 1:  0.7722611980572045 \n",
      "Male = 0:  0.22773880194279547\n",
      "Score text:  0.9324173783884144\n",
      "Key:  test\n",
      "Caucasian = 1:  0.36096458176337604 \n",
      "Caucasian = 0:  0.6390354182366239\n",
      "Male = 1:  0.7972871137905049 \n",
      "Male = 0:  0.2027128862094951\n",
      "Score text:  0.9269027882441597\n",
      "After 30% missing: \n",
      "Caucasian = 1:  0.34316939890710385 \n",
      "Caucasian = 0:  0.6568306010928961\n",
      "Male = 1:  0.7890710382513662 \n",
      "Male = 0:  0.21092896174863388\n",
      "Score text:  0.9269027882441597\n"
     ]
    }
   ],
   "source": [
    "#Compas data\n",
    "for ver in [\"standard\", \"violent\"]:\n",
    "    print(\"Compas dataset type: \", ver)\n",
    "    for key, value in compas[ver].items():\n",
    "        #print(value.columns)\n",
    "        print(\"Key: \", key)\n",
    "        print(\"Caucasian = 1: \",len(value[value[\"is_Caucasian\"]==1])/len(value) ,\n",
    "        \"\\nCaucasian = 0: \", len(value[value[\"is_Caucasian\"]==0])/len(value))\n",
    "        print(\"Male = 1: \",len(value[value[\"sex_Male\"]==1])/len(value) ,\n",
    "        \"\\nMale = 0: \", len(value[value[\"sex_Male\"]==0])/len(value))\n",
    "        print(\"Score text: \", len(value[value[\"score_text\"]==1])/len(value))\n",
    "        print(\"After 30% missing: \")\n",
    "        temp = value.copy()\n",
    "        temp = utils.impute(utils.data_remover_cat(temp, \"is_Caucasian\", 30), \"is_Caucasian\")\n",
    "        print(\"Caucasian = 1: \",len(temp[temp[\"is_Caucasian\"]==1])/len(temp) ,\n",
    "            \"\\nCaucasian = 0: \", len(temp[temp[\"is_Caucasian\"]==0])/len(temp))\n",
    "        print(\"Male = 1: \",len(temp[temp[\"sex_Male\"]==1])/len(temp) ,\n",
    "            \"\\nMale = 0: \", len(temp[temp[\"sex_Male\"]==0])/len(temp))\n",
    "        print(\"Score text: \", len(value[value[\"score_text\"]==1])/len(value))\n"
   ]
  },
  {
   "cell_type": "code",
   "execution_count": 7,
   "metadata": {},
   "outputs": [
    {
     "name": "stderr",
     "output_type": "stream",
     "text": [
      "100%|██████████| 4/4 [01:30<00:00, 22.50s/it]\n",
      "100%|██████████| 4/4 [01:56<00:00, 29.08s/it]\n",
      "100%|██████████| 4/4 [02:04<00:00, 31.22s/it]\n"
     ]
    }
   ],
   "source": [
    "percentiles = [p for p in range(0,20,2)]+[p for p in range(20,50, 10)]\n",
    "missing=[\"two_year_recid\"]#, \"is_Caucasian\", \"sex_Male\",\t\"c_charge_degree_M\"]\n",
    "all_results = {}\n",
    "for miss in missing:\n",
    "    for sensitive in [\"is_Caucasian\"]:#, \"sex_Male\"]:\n",
    "        synth_results = utils.test_bench(train = synth_regular[\"train\"],test = synth_regular[\"test\"], pred = RESPONSE, missing = miss, sensitive=sensitive,\n",
    "                        percentiles = percentiles)\n",
    "        recid_results = utils.test_bench(train = compas[\"standard\"][\"train\"],test = compas[\"standard\"][\"test\"], pred = RESPONSE, missing = miss, sensitive=sensitive,\n",
    "                        percentiles = percentiles)\n",
    "        v_recid_results = utils.test_bench(train = compas[\"standard\"][\"train\"],test = compas[\"standard\"][\"test\"], pred = RESPONSE, missing = miss, sensitive=sensitive,\n",
    "                        percentiles = percentiles)\n",
    "        all_results[miss+\"_\"+sensitive+\"_\"+\"synth\"] = synth_results \n",
    "        all_results[miss+\"_\"+sensitive+\"_\"+\"recid\"] = recid_results \n",
    "        all_results[miss+\"_\"+sensitive+\"_\"+\"v_recid\"] = v_recid_results \n",
    "        "
   ]
  },
  {
   "cell_type": "code",
   "execution_count": 8,
   "metadata": {},
   "outputs": [],
   "source": [
    "import json\n",
    "from pathlib import Path\n",
    "with open(Path(\"raw_data/first.json\"), 'w') as f:\n",
    "            json.dump(all_results, f)"
   ]
  },
  {
   "cell_type": "code",
   "execution_count": 9,
   "metadata": {},
   "outputs": [
    {
     "ename": "FileExistsError",
     "evalue": "[WinError 183] Cannot create a file when that file already exists: 'experiments'",
     "output_type": "error",
     "traceback": [
      "\u001b[1;31m---------------------------------------------------------------------------\u001b[0m",
      "\u001b[1;31mFileExistsError\u001b[0m                           Traceback (most recent call last)",
      "\u001b[1;32m~\\AppData\\Local\\Temp/ipykernel_13484/529106498.py\u001b[0m in \u001b[0;36m<module>\u001b[1;34m\u001b[0m\n\u001b[0;32m      1\u001b[0m \u001b[1;32mfor\u001b[0m \u001b[0mkey\u001b[0m\u001b[1;33m,\u001b[0m \u001b[0mres\u001b[0m \u001b[1;32min\u001b[0m \u001b[0mall_results\u001b[0m\u001b[1;33m.\u001b[0m\u001b[0mitems\u001b[0m\u001b[1;33m(\u001b[0m\u001b[1;33m)\u001b[0m\u001b[1;33m:\u001b[0m\u001b[1;33m\u001b[0m\u001b[1;33m\u001b[0m\u001b[0m\n\u001b[1;32m----> 2\u001b[1;33m     \u001b[0mutils\u001b[0m\u001b[1;33m.\u001b[0m\u001b[0mplotting_cf\u001b[0m\u001b[1;33m(\u001b[0m\u001b[1;33m[\u001b[0m\u001b[1;34m\"log_reg\"\u001b[0m\u001b[1;33m,\u001b[0m \u001b[1;34m\"rf_cat\"\u001b[0m\u001b[1;33m,\u001b[0m \u001b[1;34m\"svm\"\u001b[0m\u001b[1;33m,\u001b[0m \u001b[1;34m\"knn\"\u001b[0m\u001b[1;33m]\u001b[0m\u001b[1;33m,\u001b[0m\u001b[1;33m[\u001b[0m\u001b[1;34m\"cca\"\u001b[0m\u001b[1;33m,\u001b[0m \u001b[1;34m\"mice_def\"\u001b[0m\u001b[1;33m,\u001b[0m \u001b[1;34m\"mean\"\u001b[0m\u001b[1;33m]\u001b[0m\u001b[1;33m,\u001b[0m \u001b[0mres\u001b[0m\u001b[1;33m,\u001b[0m \u001b[0mkey\u001b[0m\u001b[1;33m+\u001b[0m\u001b[1;34m\"/\"\u001b[0m\u001b[1;33m)\u001b[0m\u001b[1;33m\u001b[0m\u001b[1;33m\u001b[0m\u001b[0m\n\u001b[0m\u001b[0;32m      3\u001b[0m     \u001b[0mutils\u001b[0m\u001b[1;33m.\u001b[0m\u001b[0mplotting_others\u001b[0m\u001b[1;33m(\u001b[0m\u001b[0mres\u001b[0m\u001b[1;33m,\u001b[0m \u001b[0mkey\u001b[0m\u001b[1;33m+\u001b[0m\u001b[1;34m\"/\"\u001b[0m\u001b[1;33m)\u001b[0m\u001b[1;33m\u001b[0m\u001b[1;33m\u001b[0m\u001b[0m\n",
      "\u001b[1;32mc:\\Users\\mariu\\masters\\utils.py\u001b[0m in \u001b[0;36mplotting_cf\u001b[1;34m(models, correctives, results, key)\u001b[0m\n\u001b[0;32m    400\u001b[0m     \u001b[1;32melse\u001b[0m\u001b[1;33m:\u001b[0m\u001b[1;33m\u001b[0m\u001b[1;33m\u001b[0m\u001b[0m\n\u001b[0;32m    401\u001b[0m         \u001b[1;32mif\u001b[0m \u001b[1;32mnot\u001b[0m \u001b[0mos\u001b[0m\u001b[1;33m.\u001b[0m\u001b[0mpath\u001b[0m\u001b[1;33m.\u001b[0m\u001b[0misdir\u001b[0m\u001b[1;33m(\u001b[0m\u001b[0mPath\u001b[0m\u001b[1;33m(\u001b[0m\u001b[0mSAVEPATH\u001b[0m\u001b[1;33m+\u001b[0m\u001b[0mkey\u001b[0m\u001b[1;33m)\u001b[0m\u001b[1;33m)\u001b[0m\u001b[1;33m:\u001b[0m\u001b[1;33m\u001b[0m\u001b[1;33m\u001b[0m\u001b[0m\n\u001b[1;32m--> 402\u001b[1;33m             \u001b[0mos\u001b[0m\u001b[1;33m.\u001b[0m\u001b[0mmkdir\u001b[0m\u001b[1;33m(\u001b[0m\u001b[0mPath\u001b[0m\u001b[1;33m(\u001b[0m\u001b[0mSAVEPATH\u001b[0m\u001b[1;33m)\u001b[0m\u001b[1;33m)\u001b[0m\u001b[1;33m\u001b[0m\u001b[1;33m\u001b[0m\u001b[0m\n\u001b[0m\u001b[0;32m    403\u001b[0m             \u001b[0msavepath\u001b[0m \u001b[1;33m=\u001b[0m \u001b[0mSAVEPATH\u001b[0m\u001b[1;33m+\u001b[0m\u001b[0mkey\u001b[0m\u001b[1;33m\u001b[0m\u001b[1;33m\u001b[0m\u001b[0m\n\u001b[0;32m    404\u001b[0m     \u001b[1;32mfor\u001b[0m \u001b[0mm\u001b[0m \u001b[1;32min\u001b[0m \u001b[0mmodels\u001b[0m\u001b[1;33m:\u001b[0m\u001b[1;33m\u001b[0m\u001b[1;33m\u001b[0m\u001b[0m\n",
      "\u001b[1;31mFileExistsError\u001b[0m: [WinError 183] Cannot create a file when that file already exists: 'experiments'"
     ]
    }
   ],
   "source": [
    "for key, res in all_results.items():\n",
    "    utils.plotting_cf([\"log_reg\", \"rf_cat\", \"svm\", \"knn\"],[\"cca\", \"mice_def\", \"mean\"], res, key+\"/\")\n",
    "    utils.plotting_others(res, key+\"/\")"
   ]
  },
  {
   "cell_type": "code",
   "execution_count": null,
   "metadata": {},
   "outputs": [],
   "source": []
  },
  {
   "cell_type": "code",
   "execution_count": null,
   "metadata": {},
   "outputs": [],
   "source": []
  }
 ],
 "metadata": {
  "interpreter": {
   "hash": "f6b5d6a7d9324dc6141b12d74f79997d922c129aaadb2c82c0fa5c003a2c41f2"
  },
  "kernelspec": {
   "display_name": "Python 3.9.6 64-bit",
   "language": "python",
   "name": "python3"
  },
  "language_info": {
   "codemirror_mode": {
    "name": "ipython",
    "version": 3
   },
   "file_extension": ".py",
   "mimetype": "text/x-python",
   "name": "python",
   "nbconvert_exporter": "python",
   "pygments_lexer": "ipython3",
   "version": "3.9.6"
  },
  "orig_nbformat": 4
 },
 "nbformat": 4,
 "nbformat_minor": 2
}
