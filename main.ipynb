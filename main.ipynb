{
 "cells": [
  {
   "cell_type": "code",
   "execution_count": 1,
   "metadata": {},
   "outputs": [],
   "source": [
    "import numpy as np\n",
    "import utils\n",
    "import pandas as pd"
   ]
  },
  {
   "cell_type": "code",
   "execution_count": 2,
   "metadata": {},
   "outputs": [],
   "source": [
    "synth_regular = utils.load_synthetic()\n",
    "compas = utils.load_compas_alt()\n",
    "RESPONSE = \"score_factor\""
   ]
  },
  {
   "cell_type": "code",
   "execution_count": 3,
   "metadata": {},
   "outputs": [
    {
     "data": {
      "text/plain": [
       "dict_keys(['train', 'test'])"
      ]
     },
     "execution_count": 3,
     "metadata": {},
     "output_type": "execute_result"
    }
   ],
   "source": [
    "compas.keys()"
   ]
  },
  {
   "cell_type": "code",
   "execution_count": 4,
   "metadata": {},
   "outputs": [],
   "source": [
    "#compas[\"standard\"][\"train\"].keys()"
   ]
  },
  {
   "cell_type": "code",
   "execution_count": 5,
   "metadata": {},
   "outputs": [
    {
     "name": "stdout",
     "output_type": "stream",
     "text": [
      "Key:  test\n",
      "Caucasian = 1:  0.34634634634634637 \n",
      "Caucasian = 0:  0.6536536536536537\n",
      "Male = 1:  0.8043043043043043 \n",
      "Male = 0:  0.1956956956956957\n",
      "After 30% missing: \n",
      "Caucasian = 1:  0.3048128342245989 \n",
      "Caucasian = 0:  0.6951871657754011\n",
      "Male = 1:  0.8349885408708938 \n",
      "Male = 0:  0.1650114591291062\n",
      "Key:  train\n",
      "Caucasian = 1:  0.34007996001999 \n",
      "Caucasian = 0:  0.65992003998001\n",
      "Male = 1:  0.809095452273863 \n",
      "Male = 0:  0.19090454772613694\n",
      "After 30% missing: \n",
      "Caucasian = 1:  0.2875375375375375 \n",
      "Caucasian = 0:  0.7124624624624625\n",
      "Male = 1:  0.8490990990990991 \n",
      "Male = 0:  0.15090090090090091\n"
     ]
    }
   ],
   "source": [
    "#Checking that the classes don't become too much more imbalanced when data is removed.\n",
    "\n",
    "#Synthetic data\n",
    "for key, value in synth_regular.items():\n",
    "    #print(value.columns)\n",
    "    print(\"Key: \", key)\n",
    "    print(\"Caucasian = 1: \",len(value[value[\"is_Caucasian\"]==1])/len(value) ,\n",
    "    \"\\nCaucasian = 0: \", len(value[value[\"is_Caucasian\"]==0])/len(value))\n",
    "    print(\"Male = 1: \",len(value[value[\"gender_factor\"]==1])/len(value) ,\n",
    "    \"\\nMale = 0: \", len(value[value[\"gender_factor\"]==0])/len(value))\n",
    "    print(\"After 30% missing: \")\n",
    "    temp = value.copy()\n",
    "    temp = utils.impute(utils.data_remover_cat(temp, \"is_Caucasian\", 30), \"is_Caucasian\")\n",
    "    print(\"Caucasian = 1: \",len(temp[temp[\"is_Caucasian\"]==1])/len(temp) ,\n",
    "        \"\\nCaucasian = 0: \", len(temp[temp[\"is_Caucasian\"]==0])/len(temp))\n",
    "    print(\"Male = 1: \",len(temp[temp[\"gender_factor\"]==1])/len(temp) ,\n",
    "        \"\\nMale = 0: \", len(temp[temp[\"gender_factor\"]==0])/len(temp))"
   ]
  },
  {
   "cell_type": "code",
   "execution_count": 6,
   "metadata": {},
   "outputs": [
    {
     "data": {
      "text/plain": [
       "array([ 2.5,  3.5, 29.5])"
      ]
     },
     "execution_count": 6,
     "metadata": {},
     "output_type": "execute_result"
    }
   ],
   "source": [
    "a = []\n",
    "b = [1,2,3]\n",
    "c = [4,5,56]\n",
    "a.append(b)\n",
    "a.append(c)\n",
    "np.mean(a, axis = 0)"
   ]
  },
  {
   "cell_type": "code",
   "execution_count": 7,
   "metadata": {},
   "outputs": [
    {
     "name": "stdout",
     "output_type": "stream",
     "text": [
      "Key:  train\n",
      "Caucasian = 1:  0.3388149939540508 \n",
      "Caucasian = 0:  0.6611850060459492\n",
      "Male = 1:  0.8099153567110037 \n",
      "Male = 0:  0.19008464328899638\n",
      "Score text:  0.44401451027811367\n",
      "After 30% missing: \n",
      "Caucasian = 1:  0.32952924393723254 \n",
      "Caucasian = 0:  0.6704707560627675\n",
      "Male = 1:  0.8088445078459344 \n",
      "Male = 0:  0.19115549215406563\n",
      "Score text:  0.44401451027811367\n",
      "Key:  test\n",
      "Caucasian = 1:  0.3446244477172312 \n",
      "Caucasian = 0:  0.6553755522827688\n",
      "Male = 1:  0.8090328915071183 \n",
      "Male = 0:  0.19096710849288168\n",
      "Score text:  0.4491899852724595\n",
      "After 30% missing: \n",
      "Caucasian = 1:  0.3361462728551336 \n",
      "Caucasian = 0:  0.6638537271448663\n",
      "Male = 1:  0.7883263009845288 \n",
      "Male = 0:  0.21167369901547117\n",
      "Score text:  0.4491899852724595\n"
     ]
    }
   ],
   "source": [
    "#Compas data\n",
    "\"\"\"for ver in [\"standard\", \"violent\"]:\n",
    "    print(\"Compas dataset type: \", ver)\"\"\"\n",
    "for key, value in compas.items():\n",
    "    #print(value.columns)\n",
    "    print(\"Key: \", key)\n",
    "    print(\"Caucasian = 1: \",len(value[value[\"is_Caucasian\"]==1])/len(value) ,\n",
    "    \"\\nCaucasian = 0: \", len(value[value[\"is_Caucasian\"]==0])/len(value))\n",
    "    print(\"Male = 1: \",len(value[value[\"gender_factor\"]==1])/len(value) ,\n",
    "    \"\\nMale = 0: \", len(value[value[\"gender_factor\"]==0])/len(value))\n",
    "    print(\"Score text: \", len(value[value[\"score_factor\"]==1])/len(value))\n",
    "    print(\"After 30% missing: \")\n",
    "    temp = value.copy()\n",
    "    temp = utils.impute(utils.data_remover_cat(temp, \"is_Caucasian\", 30), \"is_Caucasian\")\n",
    "    print(\"Caucasian = 1: \",len(temp[temp[\"is_Caucasian\"]==1])/len(temp) ,\n",
    "        \"\\nCaucasian = 0: \", len(temp[temp[\"is_Caucasian\"]==0])/len(temp))\n",
    "    print(\"Male = 1: \",len(temp[temp[\"gender_factor\"]==1])/len(temp) ,\n",
    "        \"\\nMale = 0: \", len(temp[temp[\"gender_factor\"]==0])/len(temp))\n",
    "    print(\"Score text: \", len(value[value[\"score_factor\"]==1])/len(value))\n"
   ]
  },
  {
   "cell_type": "code",
   "execution_count": 8,
   "metadata": {},
   "outputs": [
    {
     "name": "stderr",
     "output_type": "stream",
     "text": [
      "100%|██████████| 4/4 [01:08<00:00, 17.20s/it]\n",
      "100%|██████████| 4/4 [01:32<00:00, 23.19s/it]\n"
     ]
    }
   ],
   "source": [
    "percentiles = [p for p in range(0,20,2)]+[p for p in range(20,60, 10)]\n",
    "missing=[\"priors_count\"]#,\"two_year_recid\", \"is_Caucasian\", \"gender_factor\", \"crime_factor\"]\n",
    "all_results = {}\n",
    "for miss in missing:\n",
    "    for sensitive in [\"is_Caucasian\"]:#, \"gender_factor\"]:\n",
    "        synth_results = utils.test_bench(train = synth_regular[\"train\"],test = synth_regular[\"test\"], pred = RESPONSE, missing = miss, sensitive=sensitive,\n",
    "                            percentiles = percentiles)\n",
    "        recid_results = utils.test_bench(train = compas[\"train\"],test = compas[\"test\"], pred = RESPONSE, missing = miss, sensitive=sensitive,\n",
    "                        percentiles = percentiles)\n",
    "        #TODO and remember to fix data v_recid_results = utils.test_bench(train = compas[\"standard\"][\"train\"],test = compas[\"standard\"][\"test\"], pred = RESPONSE, missing = miss, sensitive=sensitive,\n",
    "                        #percentiles = percentiles)\n",
    "        all_results[miss+\"_\"+sensitive+\"_\"+\"synth\"] = synth_results \n",
    "        all_results[miss+\"_\"+sensitive+\"_\"+\"recid\"] = recid_results \n",
    "        \"\"\"try:\n",
    "            synth_results = utils.test_bench(train = synth_regular[\"train\"],test = synth_regular[\"test\"], pred = RESPONSE, missing = miss, sensitive=sensitive,\n",
    "                            percentiles = percentiles)\n",
    "            recid_results = utils.test_bench(train = compas[\"train\"],test = compas[\"test\"], pred = RESPONSE, missing = miss, sensitive=sensitive,\n",
    "                            percentiles = percentiles)\n",
    "            #TODO and remember to fix data v_recid_results = utils.test_bench(train = compas[\"standard\"][\"train\"],test = compas[\"standard\"][\"test\"], pred = RESPONSE, missing = miss, sensitive=sensitive,\n",
    "                            #percentiles = percentiles)\n",
    "            all_results[miss+\"_\"+sensitive+\"_\"+\"synth\"] = synth_results \n",
    "            all_results[miss+\"_\"+sensitive+\"_\"+\"recid\"] = recid_results \n",
    "            #all_results[miss+\"_\"+sensitive+\"_\"+\"v_recid\"] = v_recid_results\n",
    "        except Exception as e:\n",
    "            print(\"Exception: \", e)\n",
    "            print(\"Parameters: \", sensitive+\"_\"+miss) \n",
    "        \"\"\""
   ]
  },
  {
   "cell_type": "code",
   "execution_count": 9,
   "metadata": {},
   "outputs": [],
   "source": [
    "import json\n",
    "from pathlib import Path\n",
    "with open(Path(\"raw_data/second.json\"), 'w') as f:\n",
    "            json.dump(all_results, f)"
   ]
  },
  {
   "cell_type": "code",
   "execution_count": 10,
   "metadata": {},
   "outputs": [
    {
     "name": "stderr",
     "output_type": "stream",
     "text": [
      "findfont: Font family ['normal'] not found. Falling back to DejaVu Sans.\n",
      "findfont: Font family ['normal'] not found. Falling back to DejaVu Sans.\n",
      "findfont: Font family ['normal'] not found. Falling back to DejaVu Sans.\n"
     ]
    },
    {
     "name": "stdout",
     "output_type": "stream",
     "text": [
      "{'log_reg_cca_mar': {'pp': 0.0}, 'log_reg_mean_mar': {'pp': 0.0}, 'log_reg_mice_reg_mar': {}, 'log_reg_mice_def_mar': {'pp': 0.0}, 'log_reg_reg_mar': {}, 'rf_cat_cca_mar': {'pp': 0.21335504885993484}, 'rf_cat_mean_mar': {'pp': 0.05294117647058827}, 'rf_cat_mice_reg_mar': {}, 'rf_cat_mice_def_mar': {'pp': 0.006172839506172867}, 'rf_cat_reg_mar': {}, 'svm_cca_mar': {'pp': 0.0}, 'svm_mean_mar': {'pp': 0.0}, 'svm_mice_reg_mar': {}, 'svm_mice_def_mar': {'pp': 0.0}, 'svm_reg_mar': {}, 'knn_cca_mar': {'pp': 0.026545932977323772}, 'knn_mean_mar': {'pp': 0.0}, 'knn_mice_reg_mar': {}, 'knn_mice_def_mar': {'pp': 0.0}, 'knn_reg_mar': {}, 'log_reg_cca_mcar': {'pp': 0.0}, 'log_reg_mean_mcar': {'pp': 0.0}, 'log_reg_mice_reg_mcar': {}, 'log_reg_mice_def_mcar': {'pp': 0.0}, 'log_reg_reg_mcar': {}, 'rf_cat_cca_mcar': {'pp': 0.0}, 'rf_cat_mean_mcar': {'pp': 0.0}, 'rf_cat_mice_reg_mcar': {}, 'rf_cat_mice_def_mcar': {'pp': 0.012269938650306789}, 'rf_cat_reg_mcar': {}, 'svm_cca_mcar': {'pp': 0.0}, 'svm_mean_mcar': {'pp': 0.0}, 'svm_mice_reg_mcar': {}, 'svm_mice_def_mcar': {'pp': 0.0}, 'svm_reg_mcar': {}, 'knn_cca_mcar': {'pp': 0.009685230024213065}, 'knn_mean_mcar': {'pp': 0.0}, 'knn_mice_reg_mcar': {}, 'knn_mice_def_mcar': {'pp': 0.004807692307692291}, 'knn_reg_mcar': {}}\n",
      "{'log_reg_cca_mar': {'pp': 0.08121869782971614}, 'log_reg_mean_mar': {'pp': 0.033424657534246616}, 'log_reg_mice_reg_mar': {}, 'log_reg_mice_def_mar': {'pp': 0.062214569139776854}, 'log_reg_reg_mar': {}, 'rf_cat_cca_mar': {'pp': 0.03774886654839349}, 'rf_cat_mean_mar': {'pp': 0.01630652260904364}, 'rf_cat_mice_reg_mar': {}, 'rf_cat_mice_def_mar': {'pp': 0.06735586629776413}, 'rf_cat_reg_mar': {}, 'svm_cca_mar': {'pp': 0.06209577792311605}, 'svm_mean_mar': {'pp': 0.020000000000000018}, 'svm_mice_reg_mar': {}, 'svm_mice_def_mar': {'pp': 0.05469347338338704}, 'svm_reg_mar': {}, 'knn_cca_mar': {'pp': 0.20447472729059524}, 'knn_mean_mar': {'pp': 0.2046062173449596}, 'knn_mice_reg_mar': {}, 'knn_mice_def_mar': {'pp': 0.21679497849909835}, 'knn_reg_mar': {}, 'log_reg_cca_mcar': {'pp': 0.0383307060482867}, 'log_reg_mean_mcar': {'pp': 0.03324002437739515}, 'log_reg_mice_reg_mcar': {}, 'log_reg_mice_def_mcar': {'pp': 0.012959273267594273}, 'log_reg_reg_mcar': {}, 'rf_cat_cca_mcar': {'pp': 0.007260557588133487}, 'rf_cat_mean_mcar': {'pp': 0.026108587497296165}, 'rf_cat_mice_reg_mcar': {}, 'rf_cat_mice_def_mcar': {'pp': 0.04474789915966393}, 'rf_cat_reg_mcar': {}, 'svm_cca_mcar': {'pp': 0.0216786330494797}, 'svm_mean_mcar': {'pp': 0.019774129457283296}, 'svm_mice_reg_mcar': {}, 'svm_mice_def_mcar': {'pp': 0.0018727780599289146}, 'svm_reg_mcar': {}, 'knn_cca_mcar': {'pp': 0.16419588794996343}, 'knn_mean_mcar': {'pp': 0.14258904634239755}, 'knn_mice_reg_mcar': {}, 'knn_mice_def_mcar': {'pp': 0.12930304435172302}, 'knn_reg_mcar': {}}\n"
     ]
    },
    {
     "data": {
      "text/plain": [
       "<Figure size 1332x756 with 0 Axes>"
      ]
     },
     "metadata": {},
     "output_type": "display_data"
    }
   ],
   "source": [
    "for key, res in all_results.items():\n",
    "    cm_df = utils.plotting_cf([\"log_reg\", \"rf_cat\", \"svm\", \"knn\"],[\"cca\", \"mice_def\", \"mean\"], res, key+\"/\")\n",
    "    metric_df = utils.plotting_others(res, key+\"/\")"
   ]
  },
  {
   "cell_type": "code",
   "execution_count": 11,
   "metadata": {},
   "outputs": [
    {
     "name": "stdout",
     "output_type": "stream",
     "text": [
      "         log_reg_cca_MCAR  log_reg_cca_MAR  log_reg_mice_def_MCAR  \\\n",
      "TPR Z=1          0.491597         0.600840               0.542017   \n",
      "TPR Z=0          0.760709         0.646972               0.741507   \n",
      "TNR Z=1          0.922414         0.834052               0.898707   \n",
      "TNR Z=0          0.705167         0.755319               0.740122   \n",
      "\n",
      "         log_reg_mice_def_MAR  log_reg_mean_MCAR  log_reg_mean_MAR  \\\n",
      "TPR Z=1              0.617647           0.466387          0.462185   \n",
      "TPR Z=0              0.772526           0.742984          0.744461   \n",
      "TNR Z=1              0.838362           0.931034          0.922414   \n",
      "TNR Z=0              0.697568           0.735562          0.702128   \n",
      "\n",
      "         rf_cat_cca_MCAR  rf_cat_cca_MAR  rf_cat_mice_def_MCAR  \\\n",
      "TPR Z=1         0.508403        0.529412              0.487395   \n",
      "TPR Z=0         0.722304        0.627770              0.676514   \n",
      "TNR Z=1         0.913793        0.887931              0.905172   \n",
      "TNR Z=0         0.744681        0.779635              0.791793   \n",
      "\n",
      "         rf_cat_mice_def_MAR  ...  svm_mice_def_MCAR  svm_mice_def_MAR  \\\n",
      "TPR Z=1             0.491597  ...           0.533613          0.621849   \n",
      "TPR Z=0             0.686854  ...           0.765140          0.772526   \n",
      "TNR Z=1             0.881466  ...           0.894397          0.842672   \n",
      "TNR Z=0             0.761398  ...           0.699088          0.697568   \n",
      "\n",
      "         svm_mean_MCAR  svm_mean_MAR  knn_cca_MCAR  knn_cca_MAR  \\\n",
      "TPR Z=1       0.474790      0.466387      0.525210     0.672269   \n",
      "TPR Z=0       0.729690      0.744461      0.704579     0.617430   \n",
      "TNR Z=1       0.928879      0.915948      0.782328     0.605603   \n",
      "TNR Z=0       0.755319      0.702128      0.714286     0.688450   \n",
      "\n",
      "         knn_mice_def_MCAR  knn_mice_def_MAR  knn_mean_MCAR  knn_mean_MAR  \n",
      "TPR Z=1           0.537815          0.689076       0.491597      0.705882  \n",
      "TPR Z=0           0.741507          0.648449       0.771049      0.642541  \n",
      "TNR Z=1           0.790948          0.586207       0.799569      0.594828  \n",
      "TNR Z=0           0.670213          0.682371       0.659574      0.683891  \n",
      "\n",
      "[4 rows x 24 columns]\n"
     ]
    }
   ],
   "source": [
    "print(cm_df)"
   ]
  },
  {
   "cell_type": "code",
   "execution_count": 12,
   "metadata": {},
   "outputs": [
    {
     "name": "stdout",
     "output_type": "stream",
     "text": [
      "        log_reg_cca_mar  log_reg_mean_mar  log_reg_mice_reg_mar  \\\n",
      "spd                 NaN               NaN                   NaN   \n",
      "pp             0.081219          0.033425                   NaN   \n",
      "eo_Y=0              NaN               NaN                   NaN   \n",
      "eo_Y=1              NaN               NaN                   NaN   \n",
      "\n",
      "        log_reg_mice_def_mar  log_reg_reg_mar  rf_cat_cca_mar  \\\n",
      "spd                      NaN              NaN             NaN   \n",
      "pp                  0.062215              NaN        0.037749   \n",
      "eo_Y=0                   NaN              NaN             NaN   \n",
      "eo_Y=1                   NaN              NaN             NaN   \n",
      "\n",
      "        rf_cat_mean_mar  rf_cat_mice_reg_mar  rf_cat_mice_def_mar  \\\n",
      "spd                 NaN                  NaN                  NaN   \n",
      "pp             0.016307                  NaN             0.067356   \n",
      "eo_Y=0              NaN                  NaN                  NaN   \n",
      "eo_Y=1              NaN                  NaN                  NaN   \n",
      "\n",
      "        rf_cat_reg_mar  ...  svm_cca_mcar  svm_mean_mcar  svm_mice_reg_mcar  \\\n",
      "spd                NaN  ...           NaN            NaN                NaN   \n",
      "pp                 NaN  ...      0.021679       0.019774                NaN   \n",
      "eo_Y=0             NaN  ...           NaN            NaN                NaN   \n",
      "eo_Y=1             NaN  ...           NaN            NaN                NaN   \n",
      "\n",
      "        svm_mice_def_mcar  svm_reg_mcar  knn_cca_mcar  knn_mean_mcar  \\\n",
      "spd                   NaN           NaN           NaN            NaN   \n",
      "pp               0.001873           NaN      0.164196       0.142589   \n",
      "eo_Y=0                NaN           NaN           NaN            NaN   \n",
      "eo_Y=1                NaN           NaN           NaN            NaN   \n",
      "\n",
      "        knn_mice_reg_mcar  knn_mice_def_mcar  knn_reg_mcar  \n",
      "spd                   NaN                NaN           NaN  \n",
      "pp                    NaN           0.129303           NaN  \n",
      "eo_Y=0                NaN                NaN           NaN  \n",
      "eo_Y=1                NaN                NaN           NaN  \n",
      "\n",
      "[4 rows x 40 columns]\n"
     ]
    }
   ],
   "source": [
    "print(metric_df)"
   ]
  }
 ],
 "metadata": {
  "interpreter": {
   "hash": "f6b5d6a7d9324dc6141b12d74f79997d922c129aaadb2c82c0fa5c003a2c41f2"
  },
  "kernelspec": {
   "display_name": "Python 3.9.6 64-bit",
   "language": "python",
   "name": "python3"
  },
  "language_info": {
   "codemirror_mode": {
    "name": "ipython",
    "version": 3
   },
   "file_extension": ".py",
   "mimetype": "text/x-python",
   "name": "python",
   "nbconvert_exporter": "python",
   "pygments_lexer": "ipython3",
   "version": "3.9.6"
  },
  "orig_nbformat": 4
 },
 "nbformat": 4,
 "nbformat_minor": 2
}
