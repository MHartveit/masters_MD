{
 "cells": [
  {
   "cell_type": "code",
   "execution_count": 1,
   "metadata": {},
   "outputs": [],
   "source": [
    "import numpy as np\n",
    "import matplotlib.pyplot as plt\n",
    "import utils\n",
    "import pandas as pd\n",
    "from pathlib import Path\n"
   ]
  },
  {
   "cell_type": "code",
   "execution_count": 2,
   "metadata": {},
   "outputs": [],
   "source": [
    "np.random.seed(1337)\n",
    "data = [utils.load_compas_alt()[\"train\"],utils.load_synthetic()[\"train\"],\n",
    "        utils.load_synthetic(\"simple\")[\"train\"], utils.load_adult()[\"train\"]]\n",
    "RESPONSES = [\"two_year_recid\" ,\"two_year_recid\" , \"y\", \"income\"] \n",
    "x_axis = np.linspace(-3,6,300)"
   ]
  },
  {
   "cell_type": "code",
   "execution_count": 3,
   "metadata": {},
   "outputs": [
    {
     "data": {
      "text/html": [
       "<div>\n",
       "<style scoped>\n",
       "    .dataframe tbody tr th:only-of-type {\n",
       "        vertical-align: middle;\n",
       "    }\n",
       "\n",
       "    .dataframe tbody tr th {\n",
       "        vertical-align: top;\n",
       "    }\n",
       "\n",
       "    .dataframe thead th {\n",
       "        text-align: right;\n",
       "    }\n",
       "</style>\n",
       "<table border=\"1\" class=\"dataframe\">\n",
       "  <thead>\n",
       "    <tr style=\"text-align: right;\">\n",
       "      <th></th>\n",
       "      <th>age</th>\n",
       "      <th>education</th>\n",
       "      <th>education-num</th>\n",
       "      <th>occupation</th>\n",
       "      <th>relationship</th>\n",
       "      <th>capital-gain</th>\n",
       "      <th>capital-loss</th>\n",
       "      <th>hours-per-week</th>\n",
       "      <th>native-country</th>\n",
       "      <th>race</th>\n",
       "      <th>gender</th>\n",
       "      <th>marital-status</th>\n",
       "      <th>workclass</th>\n",
       "      <th>income</th>\n",
       "    </tr>\n",
       "  </thead>\n",
       "  <tbody>\n",
       "    <tr>\n",
       "      <th>7932</th>\n",
       "      <td>0.0</td>\n",
       "      <td>1.0</td>\n",
       "      <td>1.0</td>\n",
       "      <td>1.0</td>\n",
       "      <td>1.0</td>\n",
       "      <td>0.0</td>\n",
       "      <td>0.0</td>\n",
       "      <td>0.0</td>\n",
       "      <td>0.0</td>\n",
       "      <td>1</td>\n",
       "      <td>0</td>\n",
       "      <td>1</td>\n",
       "      <td>1</td>\n",
       "      <td>0</td>\n",
       "    </tr>\n",
       "    <tr>\n",
       "      <th>18781</th>\n",
       "      <td>0.0</td>\n",
       "      <td>1.0</td>\n",
       "      <td>1.0</td>\n",
       "      <td>1.0</td>\n",
       "      <td>0.0</td>\n",
       "      <td>0.0</td>\n",
       "      <td>0.0</td>\n",
       "      <td>0.0</td>\n",
       "      <td>1.0</td>\n",
       "      <td>0</td>\n",
       "      <td>1</td>\n",
       "      <td>1</td>\n",
       "      <td>0</td>\n",
       "      <td>0</td>\n",
       "    </tr>\n",
       "    <tr>\n",
       "      <th>5244</th>\n",
       "      <td>0.0</td>\n",
       "      <td>1.0</td>\n",
       "      <td>1.0</td>\n",
       "      <td>0.0</td>\n",
       "      <td>0.0</td>\n",
       "      <td>0.0</td>\n",
       "      <td>0.0</td>\n",
       "      <td>0.0</td>\n",
       "      <td>1.0</td>\n",
       "      <td>0</td>\n",
       "      <td>1</td>\n",
       "      <td>1</td>\n",
       "      <td>1</td>\n",
       "      <td>0</td>\n",
       "    </tr>\n",
       "    <tr>\n",
       "      <th>8981</th>\n",
       "      <td>0.0</td>\n",
       "      <td>1.0</td>\n",
       "      <td>1.0</td>\n",
       "      <td>0.0</td>\n",
       "      <td>0.0</td>\n",
       "      <td>0.0</td>\n",
       "      <td>0.0</td>\n",
       "      <td>0.0</td>\n",
       "      <td>1.0</td>\n",
       "      <td>0</td>\n",
       "      <td>1</td>\n",
       "      <td>1</td>\n",
       "      <td>1</td>\n",
       "      <td>0</td>\n",
       "    </tr>\n",
       "    <tr>\n",
       "      <th>21123</th>\n",
       "      <td>0.0</td>\n",
       "      <td>1.0</td>\n",
       "      <td>1.0</td>\n",
       "      <td>1.0</td>\n",
       "      <td>0.0</td>\n",
       "      <td>0.0</td>\n",
       "      <td>0.0</td>\n",
       "      <td>0.0</td>\n",
       "      <td>0.0</td>\n",
       "      <td>0</td>\n",
       "      <td>1</td>\n",
       "      <td>1</td>\n",
       "      <td>1</td>\n",
       "      <td>0</td>\n",
       "    </tr>\n",
       "    <tr>\n",
       "      <th>...</th>\n",
       "      <td>...</td>\n",
       "      <td>...</td>\n",
       "      <td>...</td>\n",
       "      <td>...</td>\n",
       "      <td>...</td>\n",
       "      <td>...</td>\n",
       "      <td>...</td>\n",
       "      <td>...</td>\n",
       "      <td>...</td>\n",
       "      <td>...</td>\n",
       "      <td>...</td>\n",
       "      <td>...</td>\n",
       "      <td>...</td>\n",
       "      <td>...</td>\n",
       "    </tr>\n",
       "    <tr>\n",
       "      <th>11524</th>\n",
       "      <td>0.0</td>\n",
       "      <td>1.0</td>\n",
       "      <td>1.0</td>\n",
       "      <td>1.0</td>\n",
       "      <td>1.0</td>\n",
       "      <td>0.0</td>\n",
       "      <td>0.0</td>\n",
       "      <td>1.0</td>\n",
       "      <td>1.0</td>\n",
       "      <td>0</td>\n",
       "      <td>1</td>\n",
       "      <td>0</td>\n",
       "      <td>1</td>\n",
       "      <td>0</td>\n",
       "    </tr>\n",
       "    <tr>\n",
       "      <th>21386</th>\n",
       "      <td>0.0</td>\n",
       "      <td>1.0</td>\n",
       "      <td>1.0</td>\n",
       "      <td>0.0</td>\n",
       "      <td>0.0</td>\n",
       "      <td>0.0</td>\n",
       "      <td>0.0</td>\n",
       "      <td>0.0</td>\n",
       "      <td>1.0</td>\n",
       "      <td>0</td>\n",
       "      <td>1</td>\n",
       "      <td>1</td>\n",
       "      <td>1</td>\n",
       "      <td>0</td>\n",
       "    </tr>\n",
       "    <tr>\n",
       "      <th>14950</th>\n",
       "      <td>0.0</td>\n",
       "      <td>0.0</td>\n",
       "      <td>0.0</td>\n",
       "      <td>0.0</td>\n",
       "      <td>0.0</td>\n",
       "      <td>0.0</td>\n",
       "      <td>0.0</td>\n",
       "      <td>0.0</td>\n",
       "      <td>1.0</td>\n",
       "      <td>0</td>\n",
       "      <td>1</td>\n",
       "      <td>1</td>\n",
       "      <td>1</td>\n",
       "      <td>1</td>\n",
       "    </tr>\n",
       "    <tr>\n",
       "      <th>30345</th>\n",
       "      <td>0.0</td>\n",
       "      <td>1.0</td>\n",
       "      <td>1.0</td>\n",
       "      <td>1.0</td>\n",
       "      <td>0.0</td>\n",
       "      <td>0.0</td>\n",
       "      <td>0.0</td>\n",
       "      <td>0.0</td>\n",
       "      <td>1.0</td>\n",
       "      <td>0</td>\n",
       "      <td>0</td>\n",
       "      <td>1</td>\n",
       "      <td>1</td>\n",
       "      <td>0</td>\n",
       "    </tr>\n",
       "    <tr>\n",
       "      <th>16214</th>\n",
       "      <td>0.0</td>\n",
       "      <td>1.0</td>\n",
       "      <td>1.0</td>\n",
       "      <td>1.0</td>\n",
       "      <td>0.0</td>\n",
       "      <td>0.0</td>\n",
       "      <td>0.0</td>\n",
       "      <td>0.0</td>\n",
       "      <td>1.0</td>\n",
       "      <td>0</td>\n",
       "      <td>0</td>\n",
       "      <td>1</td>\n",
       "      <td>1</td>\n",
       "      <td>0</td>\n",
       "    </tr>\n",
       "  </tbody>\n",
       "</table>\n",
       "<p>30298 rows × 14 columns</p>\n",
       "</div>"
      ],
      "text/plain": [
       "       age  education  education-num  occupation  relationship  capital-gain  \\\n",
       "7932   0.0        1.0            1.0         1.0           1.0           0.0   \n",
       "18781  0.0        1.0            1.0         1.0           0.0           0.0   \n",
       "5244   0.0        1.0            1.0         0.0           0.0           0.0   \n",
       "8981   0.0        1.0            1.0         0.0           0.0           0.0   \n",
       "21123  0.0        1.0            1.0         1.0           0.0           0.0   \n",
       "...    ...        ...            ...         ...           ...           ...   \n",
       "11524  0.0        1.0            1.0         1.0           1.0           0.0   \n",
       "21386  0.0        1.0            1.0         0.0           0.0           0.0   \n",
       "14950  0.0        0.0            0.0         0.0           0.0           0.0   \n",
       "30345  0.0        1.0            1.0         1.0           0.0           0.0   \n",
       "16214  0.0        1.0            1.0         1.0           0.0           0.0   \n",
       "\n",
       "       capital-loss  hours-per-week  native-country  race  gender  \\\n",
       "7932            0.0             0.0             0.0     1       0   \n",
       "18781           0.0             0.0             1.0     0       1   \n",
       "5244            0.0             0.0             1.0     0       1   \n",
       "8981            0.0             0.0             1.0     0       1   \n",
       "21123           0.0             0.0             0.0     0       1   \n",
       "...             ...             ...             ...   ...     ...   \n",
       "11524           0.0             1.0             1.0     0       1   \n",
       "21386           0.0             0.0             1.0     0       1   \n",
       "14950           0.0             0.0             1.0     0       1   \n",
       "30345           0.0             0.0             1.0     0       0   \n",
       "16214           0.0             0.0             1.0     0       0   \n",
       "\n",
       "       marital-status  workclass  income  \n",
       "7932                1          1       0  \n",
       "18781               1          0       0  \n",
       "5244                1          1       0  \n",
       "8981                1          1       0  \n",
       "21123               1          1       0  \n",
       "...               ...        ...     ...  \n",
       "11524               0          1       0  \n",
       "21386               1          1       0  \n",
       "14950               1          1       1  \n",
       "30345               1          1       0  \n",
       "16214               1          1       0  \n",
       "\n",
       "[30298 rows x 14 columns]"
      ]
     },
     "execution_count": 3,
     "metadata": {},
     "output_type": "execute_result"
    }
   ],
   "source": [
    "np.around(utils.load_adult()[\"train\"])"
   ]
  },
  {
   "cell_type": "code",
   "execution_count": 4,
   "metadata": {},
   "outputs": [],
   "source": [
    "def sigmoid(x, alpha):\n",
    "    z = np.exp(-x+alpha)\n",
    "    sig = 1 / (1 + z)\n",
    "    return sig"
   ]
  },
  {
   "cell_type": "code",
   "execution_count": null,
   "metadata": {},
   "outputs": [],
   "source": []
  },
  {
   "cell_type": "markdown",
   "metadata": {},
   "source": [
    "\n",
    "recid = [ 3.693, 2.84,1.94, 1.033,0.91]\n",
    "synth_simple = [2.96, 1.94,0.979, 0.1,-0.41]"
   ]
  },
  {
   "cell_type": "code",
   "execution_count": 5,
   "metadata": {},
   "outputs": [],
   "source": [
    "#simple = [,-1.858]"
   ]
  },
  {
   "cell_type": "code",
   "execution_count": 6,
   "metadata": {},
   "outputs": [
    {
     "data": {
      "text/plain": [
       "-1.8561872909698995"
      ]
     },
     "execution_count": 6,
     "metadata": {},
     "output_type": "execute_result"
    }
   ],
   "source": [
    "x_axis[38]"
   ]
  },
  {
   "cell_type": "code",
   "execution_count": 7,
   "metadata": {},
   "outputs": [],
   "source": [
    "#results[\"y\"][110:120]"
   ]
  },
  {
   "cell_type": "code",
   "execution_count": 9,
   "metadata": {},
   "outputs": [],
   "source": [
    "#ps = sigmoid(dataset.drop(resp, axis = 1).sum(axis = 1) + noise, alpha)\n",
    "\n",
    "#np.random.binomial(1,ps, size = len(ps)).sum()/len(ps)"
   ]
  },
  {
   "cell_type": "code",
   "execution_count": 10,
   "metadata": {},
   "outputs": [],
   "source": [
    "def data_remover_cat(full_data, missing_col, alpha, noise, missing_pct = None, missingness=\"mar\"):\n",
    "    # Missing_pct is in the range 0 to 100\n",
    "    data = full_data.copy()\n",
    "    if missingness == \"mar\":\n",
    "        ps = sigmoid(data.drop(missing_col, axis = 1).sum(axis = 1) + noise, alpha)\n",
    "        data[\"miss\"] = np.random.binomial(1,ps, size = len(ps))\n",
    "        data[missing_col] = data[missing_col].mask((data[\"miss\"]==1),\n",
    "                                                    other=np.nan)\n",
    "        data.drop(\"miss\", axis=1, inplace=True)\n",
    "\n",
    "    else:\n",
    "        mcar = np.random.binomial(n=1, p=missing_pct/100, size=len(data))\n",
    "        data[\"miss\"] = [1 if m == 1 else 0 for m in mcar]\n",
    "        data[missing_col] = data[missing_col].mask(data[\"miss\"] == 1,\n",
    "                                                   other=np.nan)\n",
    "        data = data.drop(\"miss\", axis=1)\n",
    "    return data"
   ]
  },
  {
   "cell_type": "code",
   "execution_count": 11,
   "metadata": {},
   "outputs": [
    {
     "data": {
      "text/plain": [
       "priors_count                  0.881258\n",
       "crime_factor                  0.000000\n",
       "gender_factor                 0.000000\n",
       "is_Caucasian                  0.000000\n",
       "age_factor_Greater than 45    0.000000\n",
       "age_factor_Less than 25       0.000000\n",
       "two_year_recid                0.000000\n",
       "dtype: float64"
      ]
     },
     "execution_count": 11,
     "metadata": {},
     "output_type": "execute_result"
    }
   ],
   "source": [
    "data_remover_cat(data[0], \"priors_count\", 0.0, np.random.normal(0,0.1,size = len(data[0])), 88, \"MCAR\").isna().sum()/len(data[0])"
   ]
  },
  {
   "cell_type": "code",
   "execution_count": null,
   "metadata": {},
   "outputs": [],
   "source": [
    "SIMPLE_ALPHA = [1000, 3.86, 2.96, 1.94,0.979, 0.1]\n",
    "RECID_ALPHA = [1000, 3.693, 2.84,1.94, 1.033,0.91]\n",
    "RECID_ALPHA2 = [1000, 4.0, 3.693, 2.84,1.94,]"
   ]
  },
  {
   "cell_type": "code",
   "execution_count": 40,
   "metadata": {},
   "outputs": [
    {
     "data": {
      "text/plain": [
       "0.9130434782608696"
      ]
     },
     "execution_count": 40,
     "metadata": {},
     "output_type": "execute_result"
    }
   ],
   "source": [
    "x_axis[130]"
   ]
  },
  {
   "cell_type": "code",
   "execution_count": null,
   "metadata": {},
   "outputs": [],
   "source": []
  },
  {
   "cell_type": "code",
   "execution_count": 39,
   "metadata": {},
   "outputs": [
    {
     "data": {
      "text/plain": [
       "[0.9567716141929036,\n",
       " 0.9457771114442779,\n",
       " 0.932783608195902,\n",
       " 0.9160419790104948,\n",
       " 0.9002998500749625,\n",
       " 0.8863068465767117,\n",
       " 0.8738130934532734,\n",
       " 0.8663168415792104,\n",
       " 0.8610694652673663,\n",
       " 0.8568215892053973]"
      ]
     },
     "execution_count": 39,
     "metadata": {},
     "output_type": "execute_result"
    }
   ],
   "source": [
    "results[\"two_year_recid\"][130:140]"
   ]
  },
  {
   "cell_type": "code",
   "execution_count": null,
   "metadata": {},
   "outputs": [],
   "source": []
  },
  {
   "cell_type": "code",
   "execution_count": 12,
   "metadata": {},
   "outputs": [
    {
     "name": "stderr",
     "output_type": "stream",
     "text": [
      "findfont: Font family ['normal'] not found. Falling back to DejaVu Sans.\n"
     ]
    },
    {
     "data": {
      "image/png": "[encoded data removed]",
      "text/plain": [
       "<Figure size 432x288 with 1 Axes>"
      ]
     },
     "metadata": {
      "needs_background": "light"
     },
     "output_type": "display_data"
    },
    {
     "data": {
      "image/png": "[encoded data removed]",
      "text/plain": [
       "<Figure size 432x288 with 1 Axes>"
      ]
     },
     "metadata": {
      "needs_background": "light"
     },
     "output_type": "display_data"
    },
    {
     "data": {
      "image/png": "[encoded data removed]",
      "text/plain": [
       "<Figure size 432x288 with 1 Axes>"
      ]
     },
     "metadata": {
      "needs_background": "light"
     },
     "output_type": "display_data"
    },
    {
     "data": {
      "image/png": "[encoded data removed]",
      "text/plain": [
       "<Figure size 432x288 with 1 Axes>"
      ]
     },
     "metadata": {
      "needs_background": "light"
     },
     "output_type": "display_data"
    },
    {
     "data": {
      "text/plain": [
       "<Figure size 432x288 with 0 Axes>"
      ]
     },
     "metadata": {},
     "output_type": "display_data"
    }
   ],
   "source": [
    "missingness_percentages = [0, 5,10,25,50,75]\n",
    "results ={}\n",
    "potential_alphas = {resp: {i:{} for i in missingness_percentages} for resp in RESPONSES}\n",
    "for dataset, resp in zip(data, RESPONSES):\n",
    "    missing = []\n",
    "    np.random.seed(1337)\n",
    "    noise = np.random.normal(0,0.1,size = len(dataset))\n",
    "    for alpha in x_axis:\n",
    "        ps = sigmoid(dataset.drop(resp, axis = 1).sum(axis = 1) + noise, alpha)\n",
    "        miss = np.around(ps).sum()/len(ps)\n",
    "        missing.append(miss)\n",
    "        if miss>0.94 and miss<0.96:\n",
    "            potential_alphas[resp][5][alpha] = miss\n",
    "        if miss>0.89 and miss<0.91:\n",
    "            potential_alphas[resp][10][alpha] = miss\n",
    "        if miss>0.74 and miss<0.76:\n",
    "            potential_alphas[resp][25][alpha] = miss\n",
    "        if miss>0.49 and miss<0.51:\n",
    "            potential_alphas[resp][50][alpha] = miss\n",
    "        if miss>0.04 and miss<0.06:\n",
    "            potential_alphas[resp][75][alpha] = miss\n",
    "        \n",
    "    results[resp] = missing\n",
    "    plt.plot(x_axis, missing)\n",
    "    plt.show()\n",
    "    plt.clf()\n",
    "    "
   ]
  },
  {
   "cell_type": "code",
   "execution_count": null,
   "metadata": {},
   "outputs": [
    {
     "name": "stdout",
     "output_type": "stream",
     "text": [
      "{'two_year_recid': {0: {}, 5: {-1.0434782608695652: 0.9593712212817412, -0.8929765886287626: 0.9567716141929036, -0.8628762541806019: 0.9505247376311844, -0.8327759197324416: 0.9510244877561219, -0.8026755852842808: 0.9427786106946526, -0.7725752508361206: 0.9435282358820589, -0.7424749163879598: 0.9472763618190905, -0.7123745819397991: 0.9460269865067467, -0.6822742474916388: 0.9452773613193404, -0.652173913043478: 0.9432783608195902, -0.6220735785953178: 0.9400241837968561, -0.591973244147157: 0.9405078597339782, -0.5618729096989967: 0.9419588875453446, -0.531772575250836: 0.9446191051995163, -1.1337792642140467: 0.9540229885057471, -0.9832775919732439: 0.955272363818091, -0.9531772575250836: 0.9527736131934033, -0.9230769230769229: 0.955272363818091}, 10: {-0.08026755852842804: 0.8985507246376812, -0.02006688963210701: 0.9085457271364318, 0.010033444816053727: 0.8973013493253373, 0.04013377926421402: 0.8943028485757122, 0.07023411371237476: 0.9005497251374313, 0.10033444816053505: 0.8913043478260869, 0.1304347826086958: 0.8905547226386806, 0.16053511705685608: 0.8972188633615478, 0.19063545150501682: 0.8931076178960097, -0.0501672240802673: 0.9087956021989005}, 25: {1.1538461538461542: 0.7598548972188633, 1.2441471571906355: 0.7463768115942029, 1.2742474916387962: 0.7411294352823589, 1.304347826086957: 0.7518742442563483, 1.3344481605351168: 0.7461269365317341, 1.3645484949832776: 0.7460701330108828, 1.2140468227424748: 0.7521239380309845}, 50: {2.5384615384615383: 0.5087456271864068, 2.568561872909699: 0.5059970014992504, 2.59866220735786: 0.4917541229385307, 2.6287625418060205: 0.5071342200725514, 2.6588628762541804: 0.49150424787606195, 2.719063545150502: 0.49075462268865566}, 75: {5.759197324414716: 0.05900846432889964, 5.789297658862877: 0.05102781136638452, 5.819397993311037: 0.059492140266021766, 5.849498327759198: 0.0592503022974607, 5.879598662207359: 0.051269649334945586, 5.909698996655518: 0.05562273276904474, 5.9397993311036785: 0.04997501249375312, 5.969899665551839: 0.053973013493253376, 6.0: 0.050474762618690654}}, 'y': {0: {}, 5: {-2.096989966555184: 0.9577211394302848, -2.0668896321070234: 0.9599700149925038, -2.0367892976588626: 0.9569715142428785, -1.9765886287625418: 0.9581709145427286, -1.9464882943143813: 0.9532233883058471, -1.9163879598662208: 0.9529235382308846, -1.8862876254180603: 0.9497751124437781, -1.8561872909698995: 0.9536731634182909, -1.826086956521739: 0.9521739130434783, -1.7959866220735785: 0.948575712143928, -1.765886287625418: 0.952023988005997, -1.7357859531772575: 0.9488755622188906, -1.705685618729097: 0.9458770614692653, -1.6755852842809364: 0.9461769115442279, -1.6153846153846154: 0.9424287856071965}, 10: {-1.0735785953177257: 0.908695652173913, -1.0133779264214047: 0.9025487256371814, -0.9832775919732439: 0.8974512743628186, -0.9531772575250836: 0.905247376311844, -0.9230769230769229: 0.8973013493253373, -0.8929765886287626: 0.9017991004497751, -0.8628762541806019: 0.8916041979010495, -0.8327759197324416: 0.8958020989505248, -0.7725752508361206: 0.8911544227886057}, 25: {0.3712374581939799: 0.7598200899550225, 0.40133779264214064: 0.7590704647676162, 0.43143812709030094: 0.7469265367316342, 0.4615384615384617: 0.7473763118440779, 0.49163879598662197: 0.7452773613193403}, 50: {1.8762541806020065: 0.509295352323838, 1.936454849498328: 0.4947526236881559, 1.9665551839464888: 0.5056971514242878, 1.9966555183946486: 0.5014992503748126}, 75: {5.5484949832775925: 0.05832083958020989, 5.578595317725753: 0.053673163418290856, 5.608695652173914: 0.05487256371814093, 5.638795986622073: 0.0527736131934033, 5.668896321070234: 0.05142428785607196, 5.698996655518394: 0.05037481259370315, 5.729096989966555: 0.04767616191904048, 5.759197324414716: 0.04632683658170914, 5.789297658862877: 0.05067466266866567, 5.819397993311037: 0.051274362818590706, 5.849498327759198: 0.044677661169415295, 5.879598662207359: 0.045877061469265366, 5.909698996655518: 0.04272863568215892, 5.9397993311036785: 0.04392803598200899, 6.0: 0.04032983508245877}}, 'income': {0: {}, 5: {2.59866220735786: 0.9571588883754704, 2.6287625418060205: 0.9593702554624067, 2.6588628762541804: 0.9578520034325698, 2.688963210702341: 0.9554426034721764, 2.719063545150502: 0.9566308007129184, 2.7491638795986626: 0.9536603076110635, 2.7792642140468224: 0.951845006271041, 2.809364548494983: 0.9520100336655885, 2.839464882943144: 0.94861046933791, 2.8695652173913047: 0.9468941844346161, 2.8996655518394654: 0.9453759324047792, 2.9297658862876252: 0.9458050036306027, 2.959866220735786: 0.9436596475014852, 2.9899665551839467: 0.9408541817941778, 3.0200668896321075: 0.9412172420621823}, 10: {3.5016722408026757: 0.9083437850683214, 3.5317725752508364: 0.9085418179417784, 3.561872909698997: 0.9071885933064888, 3.591973244147157: 0.901643672849693, 3.6220735785953178: 0.9008515413558651, 3.6521739130434785: 0.8970889167601822, 3.6822742474916392: 0.8977820318172817, 3.712374581939799: 0.8933262921644993, 3.74247491638796: 0.8910819195986533}, 25: {4.8561872909699: 0.7529209848834907, 4.886287625418061: 0.7506106013598257, 4.916387959866221: 0.744471582282659}, 50: {}, 75: {}}}\n"
     ]
    }
   ],
   "source": [
    "print(potential_alphas)"
   ]
  },
  {
   "cell_type": "code",
   "execution_count": null,
   "metadata": {},
   "outputs": [],
   "source": []
  }
 ],
 "metadata": {
  "kernelspec": {
   "display_name": "Python 3.9.6 64-bit",
   "language": "python",
   "name": "python3"
  },
  "language_info": {
   "codemirror_mode": {
    "name": "ipython",
    "version": 3
   },
   "file_extension": ".py",
   "mimetype": "text/x-python",
   "name": "python",
   "nbconvert_exporter": "python",
   "pygments_lexer": "ipython3",
   "version": "3.9.6"
  },
  "orig_nbformat": 4,
  "vscode": {
   "interpreter": {
    "hash": "f6b5d6a7d9324dc6141b12d74f79997d922c129aaadb2c82c0fa5c003a2c41f2"
   }
  }
 },
 "nbformat": 4,
 "nbformat_minor": 2
}
