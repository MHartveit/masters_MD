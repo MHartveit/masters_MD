{
 "cells": [
  {
   "cell_type": "code",
   "execution_count": 1,
   "metadata": {},
   "outputs": [],
   "source": [
    "import numpy as np\n",
    "import utils\n",
    "import pandas as pd\n",
    "from pathlib import Path\n",
    "import os\n",
    "from sklearn.experimental import enable_iterative_imputer\n",
    "from sklearn.impute import IterativeImputer\n",
    "from sklearn.linear_model import LogisticRegression\n",
    "from sklearn.metrics import accuracy_score\n",
    "from tqdm import tqdm\n",
    "import matplotlib.pyplot as plt\n",
    "font = {'family': 'normal',\n",
    "        'weight': 'bold',\n",
    "        'size': 25}\n",
    "\n",
    "plt.rc('font', **font)\n",
    "IMPUTATIONS = [\"cca\", \"coldel\", \"mode\", \"mice\"]"
   ]
  },
  {
   "cell_type": "code",
   "execution_count": 2,
   "metadata": {},
   "outputs": [],
   "source": [
    "np.random.seed(1337)\n",
    "synth_regular = utils.load_synthetic()\n",
    "compas = utils.load_compas_alt()\n",
    "RESPONSE = \"two_year_recid\""
   ]
  },
  {
   "cell_type": "code",
   "execution_count": 3,
   "metadata": {},
   "outputs": [],
   "source": [
    "def eo_sum(pred, prot, true):\n",
    "    \"\"\"\n",
    "    Equation: |P(Y_pred = y_pred | Y_true = y_true, Z = 1) - P(Y_pred = y_pred | Y_true = y_true, Z = 0)|\n",
    "    Assumes prot is 0/1 binary\"\"\"\n",
    "    z1_y0 = [y_hat for y_hat, z, y in zip(\n",
    "        pred, prot, true) if z == 1 and y == 0]\n",
    "    z0_y0 = [y_hat for y_hat, z, y in zip(\n",
    "        pred, prot, true) if z == 0 and y == 0]\n",
    "    z1_y1 = [y_hat for y_hat, z, y in zip(\n",
    "        pred, prot, true) if z == 1 and y == 1]\n",
    "    z0_y1 = [y_hat for y_hat, z, y in zip(\n",
    "        pred, prot, true) if z == 0 and y == 1]\n",
    "    return abs(sum(z1_y1)/len(z1_y1)-sum(z0_y1)/len(z0_y1)) + abs(sum(z1_y0)/len(z1_y0)-sum(z0_y0)/len(z0_y0))"
   ]
  },
  {
   "cell_type": "code",
   "execution_count": 4,
   "metadata": {},
   "outputs": [],
   "source": [
    "def sigmoid(x, alpha):\n",
    "    z = np.exp(-x+alpha)\n",
    "    sig = 1 / (1 + z)\n",
    "    return sig"
   ]
  },
  {
   "cell_type": "code",
   "execution_count": 5,
   "metadata": {},
   "outputs": [],
   "source": [
    "def confusion_matrix(true, pred):\n",
    "    # Assumes numpy arrays(\n",
    "    try:\n",
    "        tpr = sum([1 if t == p and p == 1 else 0 for t,\n",
    "                  p in zip(true, pred)])/(sum(true))\n",
    "    except:\n",
    "        tpr = 0\n",
    "        #print(\"true\", sum(true))\n",
    "        #print(\"pred\", sum(pred))\n",
    "\n",
    "    try:\n",
    "        tnr = sum([1 if t == p and p == 0 else 0 for t,\n",
    "                  p in zip(true, pred)])/(len(true)-sum(true))\n",
    "    except:\n",
    "        tnr = 0\n",
    "        #print(\"true\", sum(true))\n",
    "        #print(\"pred\", sum(pred))\n",
    "    fpr = 1-tnr\n",
    "    fnr = 1-tpr\n",
    "    #Old return structure. Converted to vanilla dict for json compatibility\n",
    "    #return pd.DataFrame({\"Predicted true\": [tpr, fpr],\n",
    "    #                     \"Predicted false\": [fnr, tnr]}, index=[\"Is true\", \"Is false\"])\n",
    "    return {\"Predicted true\": [tpr, fpr],\n",
    "            \"Predicted false\": [fnr, tnr]}"
   ]
  },
  {
   "cell_type": "code",
   "execution_count": null,
   "metadata": {},
   "outputs": [],
   "source": []
  },
  {
   "cell_type": "code",
   "execution_count": 31,
   "metadata": {},
   "outputs": [],
   "source": [
    "def run(n_runs=200, dataset = \"compas\", missing=\"priors_count\", sensitive = \"gender_factor\", response = \"two_year_recid\"):\n",
    "    #TODO keep track of std as well for error bars\n",
    "    results = {imp: {\"eosum\":[], \"acc\":[], \"cm\": [], \"tprd\":[], \"tnrd\": [], \"tpr\":[], \"tnr\": []} for imp in IMPUTATIONS}\n",
    "    for run in tqdm(range(n_runs)):\n",
    "        np.random.seed(run*13)\n",
    "        if dataset == \"compas\":\n",
    "            data = utils.load_compas_alt()\n",
    "            miss_amounts = [1,2,3]\n",
    "        elif dataset == \"simple\":\n",
    "            data = utils.load_synthetic(\"simple\")\n",
    "            miss_amounts = [2,3,4]\n",
    "        elif dataset == \"adult\":\n",
    "            data = utils.load_adult()\n",
    "            miss_amounts = [4,5,6,7]\n",
    "        elif dataset== \"synth\":\n",
    "            data = utils.load_synthetic(\"recid_alt\")\n",
    "            miss_amounts = [3,4]\n",
    "        else:\n",
    "            raise \n",
    "        for i in IMPUTATIONS:\n",
    "            if i ==\"coldel\" and (missing!=sensitive):\n",
    "                train,test = data[\"train\"].copy(), data[\"test\"].copy()\n",
    "                test[missing] = test[missing].apply(lambda x: 1 if x>0 else 0)\n",
    "                train[missing] = train[missing].apply(lambda x: 1 if x>0 else 0)\n",
    "                x_test = test.drop([response, missing],axis = 1)\n",
    "                clf = LogisticRegression()\n",
    "                clf.fit(train.drop([response, missing], axis = 1), train[response])\n",
    "                    \n",
    "                pred = clf.predict(x_test)\n",
    "                y_test = test[response]\n",
    "                cm = confusion_matrix(y_test, pred)\n",
    "                results[i][\"tpr\"].append(cm[\"Predicted true\"][0])\n",
    "                results[i][\"tnr\"].append(cm[\"Predicted false\"][1])\n",
    "                results[i][\"eosum\"].append(eo_sum(pred, x_test[sensitive], y_test))\n",
    "                results[i][\"acc\"].append(accuracy_score(y_test, pred))\n",
    "                \n",
    "                for s in [0,1]:\n",
    "                    y_test = test[test[sensitive]==s]\n",
    "                    y_test = y_test[response]\n",
    "                    pred = clf.predict(x_test[x_test[sensitive]==s])\n",
    "                    if s==0:\n",
    "                        cm0 = confusion_matrix(y_test, pred)\n",
    "                    elif s==1:      \n",
    "                        cm1 = confusion_matrix(y_test, pred)\n",
    "                    else:\n",
    "                        print(\"ERROR CM\")\n",
    "                results[i][\"tprd\"].append(abs(cm1[\"Predicted true\"][0]-cm0[\"Predicted true\"][0]))\n",
    "                results[i][\"tnrd\"].append(abs(cm1[\"Predicted false\"][1]-cm0[\"Predicted false\"][1]))\n",
    "                continue\n",
    "            \n",
    "            tempeo = []\n",
    "            tempacc = []\n",
    "            tempcm = []\n",
    "            temptprd = []\n",
    "            temptnrd = []\n",
    "            temptpr = []\n",
    "            temptnr = []\n",
    "            for miss in miss_amounts:\n",
    "                #print(miss)\n",
    "                train,test = data[\"train\"].copy(), data[\"test\"].copy()\n",
    "                test[missing] = test[missing].apply(lambda x: 1 if x>0 else 0)\n",
    "                train[missing] = train[missing].apply(lambda x: 1 if x>0 else 0)\n",
    "                \n",
    "                train[\"miss\"] =np.around(sigmoid(train.drop(missing, axis = 1).sum(axis = 1), miss)).astype(int)\n",
    "                #print(\"MISSING\", train[\"miss\"].sum())\n",
    "                if i ==\"cca\":\n",
    "                    train = train[train[\"miss\"]==0]\n",
    "                elif i ==\"mode\":\n",
    "                    miss_index = train[train[\"miss\"]==1].index\n",
    "                    train[missing] = train[missing].mask(train.index.isin(miss_index),\n",
    "                                                                            other=np.nan)\n",
    "                    train.fillna(train[missing].mode(dropna=True)[0], inplace=True)\n",
    "                    #train.drop(\"miss\", axis = 1, inplace = True)\n",
    "                elif i ==\"mice\":\n",
    "                    miss_index = train[train[\"miss\"]==1].index\n",
    "                    train[missing] = train[missing].mask(train.index.isin(miss_index),\n",
    "                                                                            other=np.nan)\n",
    "                    \n",
    "                    imputer = IterativeImputer(random_state=0)\n",
    "                    imputer.fit(train)\n",
    "                    train = pd.DataFrame(imputer.transform(train), columns=train.columns)\n",
    "                    train[missing] = train[missing].round()\n",
    "                else:\n",
    "                    print(\"ERROR\")\n",
    "                train.drop(\"miss\", axis = 1, inplace = True)\n",
    "                x_test = test.drop(response,axis = 1)\n",
    "                clf = LogisticRegression()\n",
    "                clf.fit(train.drop(response, axis = 1), train[response])\n",
    "                    \n",
    "                pred = clf.predict(x_test)\n",
    "                y_test = test[response]\n",
    "                cm = confusion_matrix(y_test, pred)\n",
    "                temptpr.append(cm[\"Predicted true\"][0])\n",
    "                temptnr.append(cm[\"Predicted false\"][1])\n",
    "                tempacc.append(accuracy_score(y_test, pred))\n",
    "                tempeo.append(eo_sum(pred, x_test[sensitive], y_test))\n",
    "                for s in [0,1]:\n",
    "                    y_test = test[test[sensitive]==s]\n",
    "                    y_test = y_test[response]\n",
    "                    pred = clf.predict(x_test[x_test[sensitive]==s])\n",
    "                    if s==0:\n",
    "                        cm0 = confusion_matrix(y_test, pred)\n",
    "                    elif s==1:      \n",
    "                        cm1 = confusion_matrix(y_test, pred)\n",
    "                    else:\n",
    "                        print(\"ERROR CM\")\n",
    "                temptprd.append(abs(cm1[\"Predicted true\"][0]-cm0[\"Predicted true\"][0]))\n",
    "                temptnrd.append(abs(cm1[\"Predicted false\"][1]-cm0[\"Predicted false\"][1]))\n",
    "            results[i][\"tprd\"].append(temptprd)\n",
    "            results[i][\"tnrd\"].append(temptnrd)\n",
    "            results[i][\"tpr\"].append(temptpr)\n",
    "            results[i][\"tnr\"].append(temptnr)\n",
    "            results[i][\"eosum\"].append(tempeo)\n",
    "            results[i][\"acc\"].append(tempacc)\n",
    "            results[i][\"tpr\"].append(temptpr)\n",
    "            results[i][\"tnr\"].append(temptnr)\n",
    "    for imp in IMPUTATIONS:\n",
    "        for metr in [\"eosum\", \"acc\", \"tpr\", \"tnr\", \"tnrd\", \"tprd\"]:\n",
    "            results[imp][metr] = np.mean(results[imp][metr],axis = 0)\n",
    "    return results"
   ]
  },
  {
   "cell_type": "code",
   "execution_count": null,
   "metadata": {},
   "outputs": [],
   "source": []
  },
  {
   "cell_type": "code",
   "execution_count": 15,
   "metadata": {},
   "outputs": [],
   "source": [
    "def basic_plot(results, dataset = \"compas\",missing=\"priors_count\", sensitive = \"gender_factor\" ):\n",
    "    savepath = \"temp/temp_final/\"+dataset+\"/\"+missing +\"_\"+sensitive+\"/\"\n",
    "    if not os.path.isdir(Path(savepath)):\n",
    "        os.mkdir(Path(savepath))\n",
    "    for metr in [\"eosum\", \"acc\", \"tpr\", \"tnr\", \"tprd\", \"tnrd\"]:\n",
    "        fig = plt.gcf()\n",
    "        fig.set_size_inches(22.5, 12.5)\n",
    "        for imp in IMPUTATIONS:\n",
    "            #print(imp)\n",
    "            if imp ==\"coldel\":\n",
    "                plt.plot([a for a in range(len(results[\"cca\"][metr]))], [results[imp][metr]]*len(results[\"cca\"][metr]), label = imp)\n",
    "            else:\n",
    "                plt.plot([a for a in range(len(results[\"cca\"][metr]))], results[imp][metr][::-1], label = imp)\n",
    "        plt.legend()\n",
    "        plt.title(metr)\n",
    "        plt.savefig(Path(savepath+metr+\".png\"))\n",
    "        plt.clf()"
   ]
  },
  {
   "cell_type": "code",
   "execution_count": 8,
   "metadata": {},
   "outputs": [
    {
     "name": "stderr",
     "output_type": "stream",
     "text": [
      "100%|██████████| 200/200 [01:16<00:00,  2.61it/s]\n",
      "findfont: Font family ['normal'] not found. Falling back to DejaVu Sans.\n",
      "findfont: Font family ['normal'] not found. Falling back to DejaVu Sans.\n"
     ]
    },
    {
     "data": {
      "text/plain": [
       "<Figure size 1620x900 with 0 Axes>"
      ]
     },
     "metadata": {},
     "output_type": "display_data"
    }
   ],
   "source": [
    "basic = run(n_runs = 200, dataset=\"compas\", missing = \"priors_count\", sensitive = \"is_Caucasian\")\n",
    "basic_plot(basic, dataset = \"compas\", missing = \"priors_count\", sensitive = \"is_Caucasian\")"
   ]
  },
  {
   "cell_type": "code",
   "execution_count": 9,
   "metadata": {},
   "outputs": [
    {
     "name": "stderr",
     "output_type": "stream",
     "text": [
      "100%|██████████| 200/200 [01:30<00:00,  2.20it/s]\n"
     ]
    },
    {
     "data": {
      "text/plain": [
       "<Figure size 1620x900 with 0 Axes>"
      ]
     },
     "metadata": {},
     "output_type": "display_data"
    }
   ],
   "source": [
    "basic = run(n_runs = 200, missing = \"crime_factor\", sensitive = \"is_Caucasian\")\n",
    "basic_plot(basic, dataset = \"compas\", missing = \"crime_factor\", sensitive = \"is_Caucasian\")"
   ]
  },
  {
   "cell_type": "code",
   "execution_count": 10,
   "metadata": {},
   "outputs": [
    {
     "name": "stderr",
     "output_type": "stream",
     "text": [
      "100%|██████████| 200/200 [01:21<00:00,  2.45it/s]\n"
     ]
    },
    {
     "data": {
      "text/plain": [
       "<Figure size 1620x900 with 0 Axes>"
      ]
     },
     "metadata": {},
     "output_type": "display_data"
    }
   ],
   "source": [
    "basic = run(n_runs = 200, missing = \"priors_count\", sensitive = \"gender_factor\")\n",
    "basic_plot(basic, dataset = \"compas\", missing = \"priors_count\", sensitive = \"gender_factor\")"
   ]
  },
  {
   "cell_type": "code",
   "execution_count": 11,
   "metadata": {},
   "outputs": [
    {
     "name": "stderr",
     "output_type": "stream",
     "text": [
      "100%|██████████| 200/200 [01:35<00:00,  2.09it/s]\n"
     ]
    },
    {
     "data": {
      "text/plain": [
       "<Figure size 1620x900 with 0 Axes>"
      ]
     },
     "metadata": {},
     "output_type": "display_data"
    }
   ],
   "source": [
    "basic = run(n_runs = 200, missing = \"crime_factor\", sensitive = \"gender_factor\")\n",
    "basic_plot(basic, dataset = \"compas\", missing = \"crime_factor\", sensitive = \"gender_factor\")"
   ]
  },
  {
   "cell_type": "code",
   "execution_count": 12,
   "metadata": {},
   "outputs": [
    {
     "data": {
      "text/plain": [
       "'basic = run(n_runs = 200, missing = \"gender_factor\", sensitive = \"gender_factor\")\\nbasic_plot(basic, dataset = \"compas\", missing = \"gender_factor\", sensitive = \"gender_factor\")'"
      ]
     },
     "execution_count": 12,
     "metadata": {},
     "output_type": "execute_result"
    }
   ],
   "source": [
    "\"\"\"basic = run(n_runs = 200, missing = \"gender_factor\", sensitive = \"gender_factor\")\n",
    "basic_plot(basic, dataset = \"compas\", missing = \"gender_factor\", sensitive = \"gender_factor\")\"\"\""
   ]
  },
  {
   "cell_type": "code",
   "execution_count": 21,
   "metadata": {},
   "outputs": [
    {
     "name": "stderr",
     "output_type": "stream",
     "text": [
      "  3%|▎         | 6/200 [00:04<02:37,  1.23it/s]\n"
     ]
    },
    {
     "ename": "KeyboardInterrupt",
     "evalue": "",
     "output_type": "error",
     "traceback": [
      "\u001b[1;31m---------------------------------------------------------------------------\u001b[0m",
      "\u001b[1;31mKeyboardInterrupt\u001b[0m                         Traceback (most recent call last)",
      "\u001b[1;32m~\\AppData\\Local\\Temp/ipykernel_7480/1477471115.py\u001b[0m in \u001b[0;36m<module>\u001b[1;34m\u001b[0m\n\u001b[1;32m----> 1\u001b[1;33m \u001b[0mbasic\u001b[0m \u001b[1;33m=\u001b[0m \u001b[0mrun\u001b[0m\u001b[1;33m(\u001b[0m\u001b[0mn_runs\u001b[0m \u001b[1;33m=\u001b[0m \u001b[1;36m200\u001b[0m\u001b[1;33m,\u001b[0m\u001b[0mdataset\u001b[0m \u001b[1;33m=\u001b[0m \u001b[1;34m\"simple\"\u001b[0m\u001b[1;33m,\u001b[0m  \u001b[0mmissing\u001b[0m \u001b[1;33m=\u001b[0m \u001b[1;34m\"x_2\"\u001b[0m\u001b[1;33m,\u001b[0m \u001b[0msensitive\u001b[0m \u001b[1;33m=\u001b[0m \u001b[1;34m\"x_1\"\u001b[0m\u001b[1;33m,\u001b[0m \u001b[0mresponse\u001b[0m \u001b[1;33m=\u001b[0m \u001b[1;34m\"y\"\u001b[0m\u001b[1;33m)\u001b[0m\u001b[1;33m\u001b[0m\u001b[1;33m\u001b[0m\u001b[0m\n\u001b[0m\u001b[0;32m      2\u001b[0m \u001b[0mbasic_plot\u001b[0m\u001b[1;33m(\u001b[0m\u001b[0mbasic\u001b[0m\u001b[1;33m,\u001b[0m \u001b[0mdataset\u001b[0m \u001b[1;33m=\u001b[0m \u001b[1;34m\"simple\"\u001b[0m\u001b[1;33m,\u001b[0m  \u001b[0mmissing\u001b[0m \u001b[1;33m=\u001b[0m \u001b[1;34m\"x_2\"\u001b[0m\u001b[1;33m,\u001b[0m \u001b[0msensitive\u001b[0m \u001b[1;33m=\u001b[0m \u001b[1;34m\"x_1\"\u001b[0m\u001b[1;33m)\u001b[0m\u001b[1;33m\u001b[0m\u001b[1;33m\u001b[0m\u001b[0m\n",
      "\u001b[1;32m~\\AppData\\Local\\Temp/ipykernel_7480/3624083337.py\u001b[0m in \u001b[0;36mrun\u001b[1;34m(n_runs, dataset, missing, sensitive, response)\u001b[0m\n\u001b[0;32m     78\u001b[0m \u001b[1;33m\u001b[0m\u001b[0m\n\u001b[0;32m     79\u001b[0m                     \u001b[0mimputer\u001b[0m \u001b[1;33m=\u001b[0m \u001b[0mIterativeImputer\u001b[0m\u001b[1;33m(\u001b[0m\u001b[0mrandom_state\u001b[0m\u001b[1;33m=\u001b[0m\u001b[1;36m0\u001b[0m\u001b[1;33m)\u001b[0m\u001b[1;33m\u001b[0m\u001b[1;33m\u001b[0m\u001b[0m\n\u001b[1;32m---> 80\u001b[1;33m                     \u001b[0mimputer\u001b[0m\u001b[1;33m.\u001b[0m\u001b[0mfit\u001b[0m\u001b[1;33m(\u001b[0m\u001b[0mtrain\u001b[0m\u001b[1;33m)\u001b[0m\u001b[1;33m\u001b[0m\u001b[1;33m\u001b[0m\u001b[0m\n\u001b[0m\u001b[0;32m     81\u001b[0m                     \u001b[0mtrain\u001b[0m \u001b[1;33m=\u001b[0m \u001b[0mpd\u001b[0m\u001b[1;33m.\u001b[0m\u001b[0mDataFrame\u001b[0m\u001b[1;33m(\u001b[0m\u001b[0mimputer\u001b[0m\u001b[1;33m.\u001b[0m\u001b[0mtransform\u001b[0m\u001b[1;33m(\u001b[0m\u001b[0mtrain\u001b[0m\u001b[1;33m)\u001b[0m\u001b[1;33m,\u001b[0m \u001b[0mcolumns\u001b[0m\u001b[1;33m=\u001b[0m\u001b[0mtrain\u001b[0m\u001b[1;33m.\u001b[0m\u001b[0mcolumns\u001b[0m\u001b[1;33m)\u001b[0m\u001b[1;33m\u001b[0m\u001b[1;33m\u001b[0m\u001b[0m\n\u001b[0;32m     82\u001b[0m                     \u001b[0mtrain\u001b[0m\u001b[1;33m[\u001b[0m\u001b[0mmissing\u001b[0m\u001b[1;33m]\u001b[0m \u001b[1;33m=\u001b[0m \u001b[0mtrain\u001b[0m\u001b[1;33m[\u001b[0m\u001b[0mmissing\u001b[0m\u001b[1;33m]\u001b[0m\u001b[1;33m.\u001b[0m\u001b[0mround\u001b[0m\u001b[1;33m(\u001b[0m\u001b[1;33m)\u001b[0m\u001b[1;33m\u001b[0m\u001b[1;33m\u001b[0m\u001b[0m\n",
      "\u001b[1;32m~\\AppData\\Roaming\\Python\\Python39\\site-packages\\sklearn\\impute\\_iterative.py\u001b[0m in \u001b[0;36mfit\u001b[1;34m(self, X, y)\u001b[0m\n\u001b[0;32m    773\u001b[0m             \u001b[0mFitted\u001b[0m \u001b[0mestimator\u001b[0m\u001b[1;33m.\u001b[0m\u001b[1;33m\u001b[0m\u001b[1;33m\u001b[0m\u001b[0m\n\u001b[0;32m    774\u001b[0m         \"\"\"\n\u001b[1;32m--> 775\u001b[1;33m         \u001b[0mself\u001b[0m\u001b[1;33m.\u001b[0m\u001b[0mfit_transform\u001b[0m\u001b[1;33m(\u001b[0m\u001b[0mX\u001b[0m\u001b[1;33m)\u001b[0m\u001b[1;33m\u001b[0m\u001b[1;33m\u001b[0m\u001b[0m\n\u001b[0m\u001b[0;32m    776\u001b[0m         \u001b[1;32mreturn\u001b[0m \u001b[0mself\u001b[0m\u001b[1;33m\u001b[0m\u001b[1;33m\u001b[0m\u001b[0m\n",
      "\u001b[1;32m~\\AppData\\Roaming\\Python\\Python39\\site-packages\\sklearn\\impute\\_iterative.py\u001b[0m in \u001b[0;36mfit_transform\u001b[1;34m(self, X, y)\u001b[0m\n\u001b[0;32m    662\u001b[0m                     \u001b[0mn_features\u001b[0m\u001b[1;33m,\u001b[0m \u001b[0mfeat_idx\u001b[0m\u001b[1;33m,\u001b[0m \u001b[0mabs_corr_mat\u001b[0m\u001b[1;33m\u001b[0m\u001b[1;33m\u001b[0m\u001b[0m\n\u001b[0;32m    663\u001b[0m                 )\n\u001b[1;32m--> 664\u001b[1;33m                 Xt, estimator = self._impute_one_feature(\n\u001b[0m\u001b[0;32m    665\u001b[0m                     \u001b[0mXt\u001b[0m\u001b[1;33m,\u001b[0m\u001b[1;33m\u001b[0m\u001b[1;33m\u001b[0m\u001b[0m\n\u001b[0;32m    666\u001b[0m                     \u001b[0mmask_missing_values\u001b[0m\u001b[1;33m,\u001b[0m\u001b[1;33m\u001b[0m\u001b[1;33m\u001b[0m\u001b[0m\n",
      "\u001b[1;32m~\\AppData\\Roaming\\Python\\Python39\\site-packages\\sklearn\\impute\\_iterative.py\u001b[0m in \u001b[0;36m_impute_one_feature\u001b[1;34m(self, X_filled, mask_missing_values, feat_idx, neighbor_feat_idx, estimator, fit_mode)\u001b[0m\n\u001b[0;32m    322\u001b[0m \u001b[1;33m\u001b[0m\u001b[0m\n\u001b[0;32m    323\u001b[0m         \u001b[1;31m# get posterior samples if there is at least one missing value\u001b[0m\u001b[1;33m\u001b[0m\u001b[1;33m\u001b[0m\u001b[1;33m\u001b[0m\u001b[0m\n\u001b[1;32m--> 324\u001b[1;33m         \u001b[0mX_test\u001b[0m \u001b[1;33m=\u001b[0m \u001b[0m_safe_indexing\u001b[0m\u001b[1;33m(\u001b[0m\u001b[0mX_filled\u001b[0m\u001b[1;33m[\u001b[0m\u001b[1;33m:\u001b[0m\u001b[1;33m,\u001b[0m \u001b[0mneighbor_feat_idx\u001b[0m\u001b[1;33m]\u001b[0m\u001b[1;33m,\u001b[0m \u001b[0mmissing_row_mask\u001b[0m\u001b[1;33m)\u001b[0m\u001b[1;33m\u001b[0m\u001b[1;33m\u001b[0m\u001b[0m\n\u001b[0m\u001b[0;32m    325\u001b[0m         \u001b[1;32mif\u001b[0m \u001b[0mself\u001b[0m\u001b[1;33m.\u001b[0m\u001b[0msample_posterior\u001b[0m\u001b[1;33m:\u001b[0m\u001b[1;33m\u001b[0m\u001b[1;33m\u001b[0m\u001b[0m\n\u001b[0;32m    326\u001b[0m             \u001b[0mmus\u001b[0m\u001b[1;33m,\u001b[0m \u001b[0msigmas\u001b[0m \u001b[1;33m=\u001b[0m \u001b[0mestimator\u001b[0m\u001b[1;33m.\u001b[0m\u001b[0mpredict\u001b[0m\u001b[1;33m(\u001b[0m\u001b[0mX_test\u001b[0m\u001b[1;33m,\u001b[0m \u001b[0mreturn_std\u001b[0m\u001b[1;33m=\u001b[0m\u001b[1;32mTrue\u001b[0m\u001b[1;33m)\u001b[0m\u001b[1;33m\u001b[0m\u001b[1;33m\u001b[0m\u001b[0m\n",
      "\u001b[1;32m~\\AppData\\Roaming\\Python\\Python39\\site-packages\\sklearn\\utils\\__init__.py\u001b[0m in \u001b[0;36m_safe_indexing\u001b[1;34m(X, indices, axis)\u001b[0m\n\u001b[0;32m    376\u001b[0m         \u001b[1;32mreturn\u001b[0m \u001b[0m_pandas_indexing\u001b[0m\u001b[1;33m(\u001b[0m\u001b[0mX\u001b[0m\u001b[1;33m,\u001b[0m \u001b[0mindices\u001b[0m\u001b[1;33m,\u001b[0m \u001b[0mindices_dtype\u001b[0m\u001b[1;33m,\u001b[0m \u001b[0maxis\u001b[0m\u001b[1;33m=\u001b[0m\u001b[0maxis\u001b[0m\u001b[1;33m)\u001b[0m\u001b[1;33m\u001b[0m\u001b[1;33m\u001b[0m\u001b[0m\n\u001b[0;32m    377\u001b[0m     \u001b[1;32melif\u001b[0m \u001b[0mhasattr\u001b[0m\u001b[1;33m(\u001b[0m\u001b[0mX\u001b[0m\u001b[1;33m,\u001b[0m \u001b[1;34m\"shape\"\u001b[0m\u001b[1;33m)\u001b[0m\u001b[1;33m:\u001b[0m\u001b[1;33m\u001b[0m\u001b[1;33m\u001b[0m\u001b[0m\n\u001b[1;32m--> 378\u001b[1;33m         \u001b[1;32mreturn\u001b[0m \u001b[0m_array_indexing\u001b[0m\u001b[1;33m(\u001b[0m\u001b[0mX\u001b[0m\u001b[1;33m,\u001b[0m \u001b[0mindices\u001b[0m\u001b[1;33m,\u001b[0m \u001b[0mindices_dtype\u001b[0m\u001b[1;33m,\u001b[0m \u001b[0maxis\u001b[0m\u001b[1;33m=\u001b[0m\u001b[0maxis\u001b[0m\u001b[1;33m)\u001b[0m\u001b[1;33m\u001b[0m\u001b[1;33m\u001b[0m\u001b[0m\n\u001b[0m\u001b[0;32m    379\u001b[0m     \u001b[1;32melse\u001b[0m\u001b[1;33m:\u001b[0m\u001b[1;33m\u001b[0m\u001b[1;33m\u001b[0m\u001b[0m\n\u001b[0;32m    380\u001b[0m         \u001b[1;32mreturn\u001b[0m \u001b[0m_list_indexing\u001b[0m\u001b[1;33m(\u001b[0m\u001b[0mX\u001b[0m\u001b[1;33m,\u001b[0m \u001b[0mindices\u001b[0m\u001b[1;33m,\u001b[0m \u001b[0mindices_dtype\u001b[0m\u001b[1;33m)\u001b[0m\u001b[1;33m\u001b[0m\u001b[1;33m\u001b[0m\u001b[0m\n",
      "\u001b[1;32m~\\AppData\\Roaming\\Python\\Python39\\site-packages\\sklearn\\utils\\__init__.py\u001b[0m in \u001b[0;36m_array_indexing\u001b[1;34m(array, key, key_dtype, axis)\u001b[0m\n\u001b[0;32m    200\u001b[0m     \u001b[1;32mif\u001b[0m \u001b[0misinstance\u001b[0m\u001b[1;33m(\u001b[0m\u001b[0mkey\u001b[0m\u001b[1;33m,\u001b[0m \u001b[0mtuple\u001b[0m\u001b[1;33m)\u001b[0m\u001b[1;33m:\u001b[0m\u001b[1;33m\u001b[0m\u001b[1;33m\u001b[0m\u001b[0m\n\u001b[0;32m    201\u001b[0m         \u001b[0mkey\u001b[0m \u001b[1;33m=\u001b[0m \u001b[0mlist\u001b[0m\u001b[1;33m(\u001b[0m\u001b[0mkey\u001b[0m\u001b[1;33m)\u001b[0m\u001b[1;33m\u001b[0m\u001b[1;33m\u001b[0m\u001b[0m\n\u001b[1;32m--> 202\u001b[1;33m     \u001b[1;32mreturn\u001b[0m \u001b[0marray\u001b[0m\u001b[1;33m[\u001b[0m\u001b[0mkey\u001b[0m\u001b[1;33m]\u001b[0m \u001b[1;32mif\u001b[0m \u001b[0maxis\u001b[0m \u001b[1;33m==\u001b[0m \u001b[1;36m0\u001b[0m \u001b[1;32melse\u001b[0m \u001b[0marray\u001b[0m\u001b[1;33m[\u001b[0m\u001b[1;33m:\u001b[0m\u001b[1;33m,\u001b[0m \u001b[0mkey\u001b[0m\u001b[1;33m]\u001b[0m\u001b[1;33m\u001b[0m\u001b[1;33m\u001b[0m\u001b[0m\n\u001b[0m\u001b[0;32m    203\u001b[0m \u001b[1;33m\u001b[0m\u001b[0m\n\u001b[0;32m    204\u001b[0m \u001b[1;33m\u001b[0m\u001b[0m\n",
      "\u001b[1;31mKeyboardInterrupt\u001b[0m: "
     ]
    }
   ],
   "source": [
    "basic = run(n_runs = 200,dataset = \"simple\",  missing = \"x_2\", sensitive = \"x_1\", response = \"y\")\n",
    "basic_plot(basic, dataset = \"simple\",  missing = \"x_2\", sensitive = \"x_1\")"
   ]
  },
  {
   "cell_type": "code",
   "execution_count": 16,
   "metadata": {},
   "outputs": [
    {
     "data": {
      "text/plain": [
       "<Figure size 1620x900 with 0 Axes>"
      ]
     },
     "metadata": {},
     "output_type": "display_data"
    }
   ],
   "source": [
    "#basic_plot(basic, dataset = \"simple\",  missing = \"x_2\", sensitive = \"x_1\")"
   ]
  },
  {
   "cell_type": "code",
   "execution_count": 24,
   "metadata": {},
   "outputs": [
    {
     "name": "stderr",
     "output_type": "stream",
     "text": [
      "100%|██████████| 200/200 [01:48<00:00,  1.85it/s]\n"
     ]
    },
    {
     "data": {
      "text/plain": [
       "<Figure size 1620x900 with 0 Axes>"
      ]
     },
     "metadata": {},
     "output_type": "display_data"
    }
   ],
   "source": [
    "basic = run(n_runs = 200,dataset = \"simple\",  missing = \"x_5\", sensitive = \"x_1\", response = \"y\")\n",
    "basic_plot(basic, dataset = \"simple\",  missing = \"x_5\", sensitive = \"x_1\")"
   ]
  },
  {
   "cell_type": "code",
   "execution_count": 32,
   "metadata": {},
   "outputs": [
    {
     "name": "stderr",
     "output_type": "stream",
     "text": [
      "100%|██████████| 200/200 [00:54<00:00,  3.69it/s]\n"
     ]
    },
    {
     "data": {
      "text/plain": [
       "<Figure size 1620x900 with 0 Axes>"
      ]
     },
     "metadata": {},
     "output_type": "display_data"
    }
   ],
   "source": [
    "basic = run(n_runs = 200, dataset=\"synth\", missing = \"priors_count\", sensitive = \"is_Caucasian\")\n",
    "basic_plot(basic, dataset = \"synth\", missing = \"priors_count\", sensitive = \"is_Caucasian\")"
   ]
  },
  {
   "cell_type": "code",
   "execution_count": 33,
   "metadata": {},
   "outputs": [
    {
     "name": "stderr",
     "output_type": "stream",
     "text": [
      "100%|██████████| 200/200 [00:57<00:00,  3.46it/s]\n"
     ]
    },
    {
     "data": {
      "text/plain": [
       "<Figure size 1620x900 with 0 Axes>"
      ]
     },
     "metadata": {},
     "output_type": "display_data"
    }
   ],
   "source": [
    "basic = run(n_runs = 200, dataset=\"synth\", missing = \"priors_count\", sensitive = \"gender_factor\")\n",
    "basic_plot(basic, dataset = \"synth\", missing = \"priors_count\", sensitive = \"gender_factor\")"
   ]
  },
  {
   "cell_type": "code",
   "execution_count": 34,
   "metadata": {},
   "outputs": [],
   "source": []
  },
  {
   "cell_type": "code",
   "execution_count": null,
   "metadata": {},
   "outputs": [],
   "source": []
  }
 ],
 "metadata": {
  "kernelspec": {
   "display_name": "Python 3.9.6 64-bit",
   "language": "python",
   "name": "python3"
  },
  "language_info": {
   "codemirror_mode": {
    "name": "ipython",
    "version": 3
   },
   "file_extension": ".py",
   "mimetype": "text/x-python",
   "name": "python",
   "nbconvert_exporter": "python",
   "pygments_lexer": "ipython3",
   "version": "3.9.6"
  },
  "orig_nbformat": 4,
  "vscode": {
   "interpreter": {
    "hash": "f6b5d6a7d9324dc6141b12d74f79997d922c129aaadb2c82c0fa5c003a2c41f2"
   }
  }
 },
 "nbformat": 4,
 "nbformat_minor": 2
}
