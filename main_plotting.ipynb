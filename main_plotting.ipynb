{
 "cells": [
  {
   "cell_type": "code",
   "execution_count": 2,
   "metadata": {},
   "outputs": [],
   "source": [
    "import utils\n",
    "import json\n",
    "import matplotlib.pyplot as plt\n",
    "from pathlib import Path"
   ]
  },
  {
   "cell_type": "code",
   "execution_count": 3,
   "metadata": {},
   "outputs": [],
   "source": [
    "with open(Path(\"raw_data/test.json\"), 'r') as f:\n",
    "    data = json.load(f)\n",
    "    \n",
    "raw = data[\"Full data\"]\n",
    "average = data[\"Averaged results\"]"
   ]
  },
  {
   "cell_type": "code",
   "execution_count": 4,
   "metadata": {},
   "outputs": [
    {
     "ename": "KeyError",
     "evalue": "'priors_count_is_Caucasian_synth'",
     "output_type": "error",
     "traceback": [
      "\u001b[1;31m---------------------------------------------------------------------------\u001b[0m",
      "\u001b[1;31mKeyError\u001b[0m                                  Traceback (most recent call last)",
      "\u001b[1;32m~\\AppData\\Local\\Temp/ipykernel_17520/2912528540.py\u001b[0m in \u001b[0;36m<module>\u001b[1;34m\u001b[0m\n\u001b[1;32m----> 1\u001b[1;33m \u001b[0mraw\u001b[0m\u001b[1;33m[\u001b[0m\u001b[1;34m'priors_count_is_Caucasian_synth'\u001b[0m\u001b[1;33m]\u001b[0m\u001b[1;33m[\u001b[0m\u001b[1;34m\"0\"\u001b[0m\u001b[1;33m]\u001b[0m\u001b[1;33m[\u001b[0m\u001b[1;34m\"mar\"\u001b[0m\u001b[1;33m]\u001b[0m\u001b[1;33m[\u001b[0m\u001b[1;34m\"acc\"\u001b[0m\u001b[1;33m]\u001b[0m\u001b[1;33m[\u001b[0m\u001b[1;34m\"log_reg\"\u001b[0m\u001b[1;33m]\u001b[0m\u001b[1;33m[\u001b[0m\u001b[1;34m\"mice_def\"\u001b[0m\u001b[1;33m]\u001b[0m\u001b[1;33m\u001b[0m\u001b[1;33m\u001b[0m\u001b[0m\n\u001b[0m",
      "\u001b[1;31mKeyError\u001b[0m: 'priors_count_is_Caucasian_synth'"
     ]
    }
   ],
   "source": [
    "raw['priors_count_is_Caucasian_synth'][\"0\"][\"mar\"][\"acc\"][\"log_reg\"][\"mice_def\"]"
   ]
  },
  {
   "cell_type": "code",
   "execution_count": 5,
   "metadata": {},
   "outputs": [],
   "source": [
    "test = utils.averaging_results(raw)"
   ]
  },
  {
   "cell_type": "code",
   "execution_count": 9,
   "metadata": {},
   "outputs": [
    {
     "data": {
      "text/plain": [
       "array([0.39714459, 0.42920708, 0.41212907, 0.23274433, 0.22495919,\n",
       "       0.11985659])"
      ]
     },
     "execution_count": 9,
     "metadata": {},
     "output_type": "execute_result"
    }
   ],
   "source": [
    "test['priors_count_is_Caucasian_recid|mar|spd|log_reg|fair_reg_99'][\"mean\"]"
   ]
  },
  {
   "cell_type": "code",
   "execution_count": 17,
   "metadata": {},
   "outputs": [
    {
     "data": {
      "text/plain": [
       "array([0.        , 0.94927053])"
      ]
     },
     "execution_count": 17,
     "metadata": {},
     "output_type": "execute_result"
    }
   ],
   "source": [
    "test['priors_count_is_Caucasian_synth|log_reg_mar_cca_50_1|Predicted false'][\"mean\"]"
   ]
  },
  {
   "cell_type": "code",
   "execution_count": 18,
   "metadata": {},
   "outputs": [
    {
     "data": {
      "text/plain": [
       "array([0.67353952, 0.67353952, 0.67353952, 0.67353952, 0.67353952,\n",
       "       0.67353952, 0.67353952, 0.67353952, 0.67353952, 0.67353952,\n",
       "       0.67353952, 0.67353952, 0.67353952, 0.67353952])"
      ]
     },
     "execution_count": 18,
     "metadata": {},
     "output_type": "execute_result"
    }
   ],
   "source": [
    "test['priors_count_is_Caucasian_recid|mcar|acc|log_reg|coldel'][\"mean\"]"
   ]
  },
  {
   "cell_type": "code",
   "execution_count": 19,
   "metadata": {},
   "outputs": [
    {
     "data": {
      "text/plain": [
       "array([1., 1., 1., 1., 1., 1., 1., 1., 1., 1., 1., 1., 1., 1.])"
      ]
     },
     "execution_count": 19,
     "metadata": {},
     "output_type": "execute_result"
    }
   ],
   "source": [
    "test['priors_count_is_Caucasian_synth|mcar|acc|log_reg|mean'][\"mean\"]"
   ]
  },
  {
   "cell_type": "code",
   "execution_count": 20,
   "metadata": {},
   "outputs": [],
   "source": [
    "a = [p for p in range(0,20,2)]\n"
   ]
  },
  {
   "cell_type": "code",
   "execution_count": 21,
   "metadata": {},
   "outputs": [],
   "source": [
    "percentiles = [p for p in range(0,20,2)]+[p for p in range(20,60, 10)]"
   ]
  },
  {
   "cell_type": "code",
   "execution_count": 22,
   "metadata": {},
   "outputs": [
    {
     "name": "stdout",
     "output_type": "stream",
     "text": [
      "experiments/priors_count_is_Caucasian_synth/\n",
      "experiments/priors_count_is_Caucasian_recid/\n",
      "experiments/two_year_recid_is_Caucasian_synth/\n",
      "experiments/two_year_recid_is_Caucasian_recid/\n"
     ]
    },
    {
     "data": {
      "text/plain": [
       "<Figure size 1332x756 with 0 Axes>"
      ]
     },
     "metadata": {},
     "output_type": "display_data"
    }
   ],
   "source": [
    "data = utils.plotting_multi(test, [\"log_reg\", \"rf_cat\", \"knn\"], percentiles)"
   ]
  },
  {
   "cell_type": "code",
   "execution_count": 23,
   "metadata": {},
   "outputs": [],
   "source": [
    "a = {\"Accuracy MAR 50%\": -1,\"Accuracy MAR 20%\": -1,\n",
    "                    \"Accuracy MCAR 50%\": -1,\"Accuracy MCAR 20%\": -1,\n",
    "                    \"SPD MAR 50%\": -1,\"SPD MAR 20%\": -1, \"SPD MCAR 50%\": -1,\n",
    "                    \"SPD MCAR 20%\": -1, \"PP MAR 50%\": -1, \"PP MAR 20%\": -1,\n",
    "                    \"PP MCAR 50%\": -1, \"PP MCAR 20%\": -1} "
   ]
  },
  {
   "cell_type": "code",
   "execution_count": 24,
   "metadata": {},
   "outputs": [
    {
     "data": {
      "text/plain": [
       "dict_keys(['priors_count_is_Caucasian_synth', 'priors_count_is_Caucasian_recid', 'two_year_recid_is_Caucasian_synth', 'two_year_recid_is_Caucasian_recid'])"
      ]
     },
     "execution_count": 24,
     "metadata": {},
     "output_type": "execute_result"
    }
   ],
   "source": [
    "data.keys()"
   ]
  },
  {
   "cell_type": "code",
   "execution_count": 25,
   "metadata": {},
   "outputs": [],
   "source": [
    "import pandas as pd\n",
    "dataframes = {}\n",
    "for k, table in data.items():\n",
    "    for key, value in table[\"log_regcca\"].items():\n",
    "        table[\"log_regcca\"][key] = [round(value,4)]\n",
    "    df = pd.DataFrame(table[\"log_regcca\"], columns = list(table[\"log_regcca\"].keys()))\n",
    "    for imp in [\"mean\", \"mice_def\"]:\n",
    "        for key, value in table[\"log_reg\"+imp].items():\n",
    "            table[\"log_reg\"+imp][key] = [round(value,4)]\n",
    "        df = pd.concat([df, pd.DataFrame(table[\"log_reg\"+imp], columns = list(table[\"log_reg\"+imp].keys()))], ignore_index=True)\n",
    "    df.index = [\"CCA\", \"Mean Imputation\", \"Chained Equation Imputation\"]\n",
    "    dataframes[k] = df\n"
   ]
  },
  {
   "cell_type": "code",
   "execution_count": 26,
   "metadata": {},
   "outputs": [
    {
     "data": {
      "text/html": [
       "<div>\n",
       "<style scoped>\n",
       "    .dataframe tbody tr th:only-of-type {\n",
       "        vertical-align: middle;\n",
       "    }\n",
       "\n",
       "    .dataframe tbody tr th {\n",
       "        vertical-align: top;\n",
       "    }\n",
       "\n",
       "    .dataframe thead th {\n",
       "        text-align: right;\n",
       "    }\n",
       "</style>\n",
       "<table border=\"1\" class=\"dataframe\">\n",
       "  <thead>\n",
       "    <tr style=\"text-align: right;\">\n",
       "      <th></th>\n",
       "      <th>Accuracy MAR 50%</th>\n",
       "      <th>Accuracy MAR 20%</th>\n",
       "      <th>Accuracy MCAR 50%</th>\n",
       "      <th>Accuracy MCAR 20%</th>\n",
       "      <th>SPD MAR 50%</th>\n",
       "      <th>SPD MAR 20%</th>\n",
       "      <th>SPD MCAR 50%</th>\n",
       "      <th>SPD MCAR 20%</th>\n",
       "      <th>PP MAR 50%</th>\n",
       "      <th>PP MAR 20%</th>\n",
       "      <th>PP MCAR 50%</th>\n",
       "      <th>PP MCAR 20%</th>\n",
       "    </tr>\n",
       "  </thead>\n",
       "  <tbody>\n",
       "    <tr>\n",
       "      <th>CCA</th>\n",
       "      <td>0.9889</td>\n",
       "      <td>1.0</td>\n",
       "      <td>1.0</td>\n",
       "      <td>1.0</td>\n",
       "      <td>0.4014</td>\n",
       "      <td>0.3958</td>\n",
       "      <td>0.3958</td>\n",
       "      <td>0.3958</td>\n",
       "      <td>0.0104</td>\n",
       "      <td>0.0</td>\n",
       "      <td>0.0104</td>\n",
       "      <td>0.0</td>\n",
       "    </tr>\n",
       "    <tr>\n",
       "      <th>Mean Imputation</th>\n",
       "      <td>1.0000</td>\n",
       "      <td>1.0</td>\n",
       "      <td>1.0</td>\n",
       "      <td>1.0</td>\n",
       "      <td>0.3958</td>\n",
       "      <td>0.3958</td>\n",
       "      <td>0.3958</td>\n",
       "      <td>0.3958</td>\n",
       "      <td>0.0000</td>\n",
       "      <td>0.0</td>\n",
       "      <td>0.0000</td>\n",
       "      <td>0.0</td>\n",
       "    </tr>\n",
       "    <tr>\n",
       "      <th>Chained Equation Imputation</th>\n",
       "      <td>1.0000</td>\n",
       "      <td>1.0</td>\n",
       "      <td>1.0</td>\n",
       "      <td>1.0</td>\n",
       "      <td>0.3958</td>\n",
       "      <td>0.3958</td>\n",
       "      <td>0.3958</td>\n",
       "      <td>0.3958</td>\n",
       "      <td>0.0000</td>\n",
       "      <td>0.0</td>\n",
       "      <td>0.0000</td>\n",
       "      <td>0.0</td>\n",
       "    </tr>\n",
       "  </tbody>\n",
       "</table>\n",
       "</div>"
      ],
      "text/plain": [
       "                             Accuracy MAR 50%  Accuracy MAR 20%  \\\n",
       "CCA                                    0.9889               1.0   \n",
       "Mean Imputation                        1.0000               1.0   \n",
       "Chained Equation Imputation            1.0000               1.0   \n",
       "\n",
       "                             Accuracy MCAR 50%  Accuracy MCAR 20%  \\\n",
       "CCA                                        1.0                1.0   \n",
       "Mean Imputation                            1.0                1.0   \n",
       "Chained Equation Imputation                1.0                1.0   \n",
       "\n",
       "                             SPD MAR 50%  SPD MAR 20%  SPD MCAR 50%  \\\n",
       "CCA                               0.4014       0.3958        0.3958   \n",
       "Mean Imputation                   0.3958       0.3958        0.3958   \n",
       "Chained Equation Imputation       0.3958       0.3958        0.3958   \n",
       "\n",
       "                             SPD MCAR 20%  PP MAR 50%  PP MAR 20%  \\\n",
       "CCA                                0.3958      0.0104         0.0   \n",
       "Mean Imputation                    0.3958      0.0000         0.0   \n",
       "Chained Equation Imputation        0.3958      0.0000         0.0   \n",
       "\n",
       "                             PP MCAR 50%  PP MCAR 20%  \n",
       "CCA                               0.0104          0.0  \n",
       "Mean Imputation                   0.0000          0.0  \n",
       "Chained Equation Imputation       0.0000          0.0  "
      ]
     },
     "execution_count": 26,
     "metadata": {},
     "output_type": "execute_result"
    }
   ],
   "source": [
    "dataframes['priors_count_is_Caucasian_synth'].head()"
   ]
  }
 ],
 "metadata": {
  "interpreter": {
   "hash": "f6b5d6a7d9324dc6141b12d74f79997d922c129aaadb2c82c0fa5c003a2c41f2"
  },
  "kernelspec": {
   "display_name": "Python 3.9.6 64-bit",
   "language": "python",
   "name": "python3"
  },
  "language_info": {
   "codemirror_mode": {
    "name": "ipython",
    "version": 3
   },
   "file_extension": ".py",
   "mimetype": "text/x-python",
   "name": "python",
   "nbconvert_exporter": "python",
   "pygments_lexer": "ipython3",
   "version": "3.9.6"
  },
  "orig_nbformat": 4
 },
 "nbformat": 4,
 "nbformat_minor": 2
}
