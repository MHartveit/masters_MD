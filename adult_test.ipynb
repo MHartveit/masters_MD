{
 "cells": [
  {
   "cell_type": "code",
   "execution_count": 1,
   "metadata": {},
   "outputs": [],
   "source": [
    "import numpy as np\n",
    "import utils\n",
    "import pandas as pd"
   ]
  },
  {
   "cell_type": "code",
   "execution_count": 2,
   "metadata": {},
   "outputs": [],
   "source": [
    "synth_simple = utils.load_synthetic(ver=\"simple\")\n",
    "adult = utils.load_adult(scaler = True)\n",
    "RESPONSE = \"income\""
   ]
  },
  {
   "cell_type": "code",
   "execution_count": 5,
   "metadata": {},
   "outputs": [
    {
     "data": {
      "text/plain": [
       "Index(['age', 'education', 'education-num', 'occupation', 'relationship',\n",
       "       'capital-gain', 'capital-loss', 'hours-per-week', 'native-country',\n",
       "       'race', 'gender', 'marital-status', 'workclass', 'income'],\n",
       "      dtype='object')"
      ]
     },
     "execution_count": 5,
     "metadata": {},
     "output_type": "execute_result"
    }
   ],
   "source": [
    "adult[\"train\"].columns"
   ]
  },
  {
   "cell_type": "code",
   "execution_count": 6,
   "metadata": {},
   "outputs": [
    {
     "name": "stdout",
     "output_type": "stream",
     "text": [
      "workclassgender\n"
     ]
    },
    {
     "name": "stderr",
     "output_type": "stream",
     "text": [
      "100%|██████████| 2/2 [02:46<00:00, 83.03s/it]\n"
     ]
    },
    {
     "name": "stdout",
     "output_type": "stream",
     "text": [
      "workclassrace\n"
     ]
    },
    {
     "name": "stderr",
     "output_type": "stream",
     "text": [
      "100%|██████████| 2/2 [03:21<00:00, 100.77s/it]\n"
     ]
    },
    {
     "name": "stdout",
     "output_type": "stream",
     "text": [
      "gendergender\n"
     ]
    },
    {
     "name": "stderr",
     "output_type": "stream",
     "text": [
      "100%|██████████| 2/2 [03:38<00:00, 109.12s/it]\n"
     ]
    },
    {
     "name": "stdout",
     "output_type": "stream",
     "text": [
      "genderrace\n"
     ]
    },
    {
     "name": "stderr",
     "output_type": "stream",
     "text": [
      "100%|██████████| 2/2 [03:05<00:00, 92.77s/it] \n"
     ]
    },
    {
     "name": "stdout",
     "output_type": "stream",
     "text": [
      "relationshipgender\n"
     ]
    },
    {
     "name": "stderr",
     "output_type": "stream",
     "text": [
      "100%|██████████| 2/2 [01:49<00:00, 54.66s/it]\n"
     ]
    },
    {
     "name": "stdout",
     "output_type": "stream",
     "text": [
      "relationshiprace\n"
     ]
    },
    {
     "name": "stderr",
     "output_type": "stream",
     "text": [
      "100%|██████████| 2/2 [02:02<00:00, 61.50s/it]\n"
     ]
    },
    {
     "data": {
      "text/plain": [
       "<Figure size 1440x792 with 0 Axes>"
      ]
     },
     "metadata": {},
     "output_type": "display_data"
    }
   ],
   "source": [
    "#percentiles = [p for p in range(0,20,2)]+[p for p in range(20,80, 10)]\n",
    "percentiles = [p for p in range(60,80, 10)]\n",
    "\n",
    "all_results = {\"Full data\": {}, \"Averaged results\": {} }\n",
    "missing = [\"workclass\", \"gender\", \"relationship\"]\n",
    "sensitive = [\"gender\", \"race\"]\n",
    "RUNS = 2\n",
    "for miss in missing:\n",
    "    for sens in sensitive:\n",
    "        print(miss+sens)\n",
    "        adult_results = utils.test_bench(data = \"adult\", pred = RESPONSE, missing = miss, sensitive=sens,\n",
    "                        percentiles = percentiles, n_runs=RUNS, differencing=True)\n",
    "        \n",
    "\n",
    "        all_results[\"Full data\"][miss+\"_\"+sens+\"_\"+\"adult\"] = adult_results[\"Full data\"]\n",
    "        all_results[\"Averaged results\"][miss+\"_\"+sens+\"_\"+\"adult\"] = adult_results[\"Averaged results\"]\n",
    "        \n",
    "\n",
    "        "
   ]
  },
  {
   "cell_type": "code",
   "execution_count": 8,
   "metadata": {},
   "outputs": [
    {
     "name": "stderr",
     "output_type": "stream",
     "text": [
      "100%|██████████| 2/2 [00:17<00:00,  8.64s/it]\n"
     ]
    },
    {
     "data": {
      "text/plain": [
       "<Figure size 1440x792 with 0 Axes>"
      ]
     },
     "metadata": {},
     "output_type": "display_data"
    }
   ],
   "source": [
    "#Synth\n",
    "miss = \"x_2\"\n",
    "sensitive = \"x_1\"\n",
    "RESPONSE = \"y\"\n",
    "synth_results = utils.test_bench(data = \"simple\", pred = RESPONSE, missing = miss, sensitive=sensitive,\n",
    "                            percentiles = percentiles, n_runs=RUNS, differencing=True)\n",
    "all_results[\"Full data\"][miss+\"_\"+sensitive+\"_\"+\"synth\"] = synth_results[\"Full data\"]\n",
    "all_results[\"Averaged results\"][miss+\"_\"+sensitive+\"_\"+\"synth\"] = synth_results[\"Averaged results\"]"
   ]
  },
  {
   "cell_type": "code",
   "execution_count": null,
   "metadata": {},
   "outputs": [
    {
     "data": {
      "text/plain": [
       "24763"
      ]
     },
     "execution_count": 37,
     "metadata": {},
     "output_type": "execute_result"
    }
   ],
   "source": [
    "def sigmoid(x, alpha):\n",
    "    z = np.exp(-x+alpha)\n",
    "    sig = 1 / (1 + z)\n",
    "    return sig\n",
    "\n",
    "size = 10000\n",
    "x_1 = np.random.binomial(1, 0.45, size=size)\n",
    "x_2 = np.random.binomial(1, 0.65, size=size)\n",
    "x_3 = np.random.normal(0,1,size)\n",
    "y = np.around(sigmoid(x_1*0.3+x_2+x_3, alpha=0.8)).astype(int)\n",
    "synth_cat = pd.DataFrame({\"y\": y, \"x_1\": x_1, \"x_2\": x_2, \"x_3\": x_3})\n",
    "synth_cat_test = synth_cat.iloc[:round(0.333*size), :]\n",
    "synth_cat_train = synth_cat.iloc[round(0.333*size):, :]\n",
    "synth_cat[\"y\"].sum()"
   ]
  },
  {
   "cell_type": "code",
   "execution_count": 9,
   "metadata": {},
   "outputs": [],
   "source": [
    "import json\n",
    "from pathlib import Path\n",
    "with open(Path(\"raw_data/test.json\"), 'w') as f:\n",
    "    json.dump(all_results, f)"
   ]
  },
  {
   "cell_type": "code",
   "execution_count": null,
   "metadata": {},
   "outputs": [],
   "source": []
  }
 ],
 "metadata": {
  "kernelspec": {
   "display_name": "Python 3.9.6 64-bit",
   "language": "python",
   "name": "python3"
  },
  "language_info": {
   "codemirror_mode": {
    "name": "ipython",
    "version": 3
   },
   "file_extension": ".py",
   "mimetype": "text/x-python",
   "name": "python",
   "nbconvert_exporter": "python",
   "pygments_lexer": "ipython3",
   "version": "3.9.6"
  },
  "orig_nbformat": 4,
  "vscode": {
   "interpreter": {
    "hash": "f6b5d6a7d9324dc6141b12d74f79997d922c129aaadb2c82c0fa5c003a2c41f2"
   }
  }
 },
 "nbformat": 4,
 "nbformat_minor": 2
}
