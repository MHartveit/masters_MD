{
 "cells": [
  {
   "cell_type": "code",
   "execution_count": 1,
   "metadata": {},
   "outputs": [],
   "source": [
    "import numpy as np\n",
    "import utils\n",
    "import pandas as pd"
   ]
  },
  {
   "cell_type": "code",
   "execution_count": 2,
   "metadata": {},
   "outputs": [
    {
     "name": "stdout",
     "output_type": "stream",
     "text": [
      "     a    b\n",
      "0  1.0  3.0\n",
      "1  2.0  NaN\n",
      "2  NaN  5.0\n",
      "-------------\n",
      "a    3.0\n",
      "b    8.0\n",
      "dtype: float64\n",
      "-------------\n",
      "[ 4. 10.]\n",
      "1    2.0\n",
      "Name: a, dtype: float64\n"
     ]
    }
   ],
   "source": [
    "data = pd.DataFrame({\"a\":[1,2,np.nan], \"b\":[3,np.nan,5]}, columns=[\"a\",\"b\"])\n",
    "print(data.head())\n",
    "print(\"-------------\")\n",
    "print(data.sum())\n",
    "print(\"-------------\")\n",
    "print(np.array(np.array([1,2])+data.sum()))\n",
    "print(data[data[\"b\"].isnull()][\"a\"])\n"
   ]
  },
  {
   "cell_type": "code",
   "execution_count": 3,
   "metadata": {},
   "outputs": [
    {
     "name": "stdout",
     "output_type": "stream",
     "text": [
      "     a    b\n",
      "0  1.0  3.0\n",
      "1  2.0 -1.0\n",
      "2  NaN  5.0\n"
     ]
    }
   ],
   "source": [
    "for i, r in data.iterrows():\n",
    "    if pd.isna(r[\"b\"]):\n",
    "        r[\"b\"] = -1\n",
    "        \n",
    "print(data)"
   ]
  },
  {
   "cell_type": "code",
   "execution_count": 4,
   "metadata": {},
   "outputs": [],
   "source": [
    "from itertools import permutations\n",
    "\n",
    "\n",
    "IMPUTATIONS = [\"cca\", \"mean\", \"mice_def\", \"coldel\"]  # , \"reg\"]\n",
    "IMPUTATION_COMBOS = [perm[0]+perm[1] for perm in permutations(IMPUTATIONS, 2)]"
   ]
  },
  {
   "cell_type": "code",
   "execution_count": 18,
   "metadata": {},
   "outputs": [],
   "source": [
    "synth_regular = utils.load_synthetic()\n",
    "compas = utils.load_compas_alt()\n",
    "RESPONSE = \"two_year_recid\""
   ]
  },
  {
   "cell_type": "code",
   "execution_count": 20,
   "metadata": {},
   "outputs": [
    {
     "data": {
      "text/html": [
       "<div>\n",
       "<style scoped>\n",
       "    .dataframe tbody tr th:only-of-type {\n",
       "        vertical-align: middle;\n",
       "    }\n",
       "\n",
       "    .dataframe tbody tr th {\n",
       "        vertical-align: top;\n",
       "    }\n",
       "\n",
       "    .dataframe thead th {\n",
       "        text-align: right;\n",
       "    }\n",
       "</style>\n",
       "<table border=\"1\" class=\"dataframe\">\n",
       "  <thead>\n",
       "    <tr style=\"text-align: right;\">\n",
       "      <th></th>\n",
       "      <th>priors_count</th>\n",
       "      <th>two_year_recid</th>\n",
       "      <th>is_Caucasian</th>\n",
       "      <th>crime_factor</th>\n",
       "      <th>age_factor_greater_than_45</th>\n",
       "      <th>age_factor_less_than_25</th>\n",
       "      <th>gender_factor</th>\n",
       "    </tr>\n",
       "  </thead>\n",
       "  <tbody>\n",
       "    <tr>\n",
       "      <th>1998</th>\n",
       "      <td>4.0</td>\n",
       "      <td>1</td>\n",
       "      <td>0</td>\n",
       "      <td>1</td>\n",
       "      <td>0</td>\n",
       "      <td>0</td>\n",
       "      <td>1</td>\n",
       "    </tr>\n",
       "    <tr>\n",
       "      <th>1999</th>\n",
       "      <td>4.0</td>\n",
       "      <td>1</td>\n",
       "      <td>1</td>\n",
       "      <td>1</td>\n",
       "      <td>0</td>\n",
       "      <td>0</td>\n",
       "      <td>1</td>\n",
       "    </tr>\n",
       "    <tr>\n",
       "      <th>2000</th>\n",
       "      <td>4.0</td>\n",
       "      <td>1</td>\n",
       "      <td>0</td>\n",
       "      <td>1</td>\n",
       "      <td>0</td>\n",
       "      <td>0</td>\n",
       "      <td>1</td>\n",
       "    </tr>\n",
       "    <tr>\n",
       "      <th>2001</th>\n",
       "      <td>3.0</td>\n",
       "      <td>0</td>\n",
       "      <td>0</td>\n",
       "      <td>1</td>\n",
       "      <td>0</td>\n",
       "      <td>0</td>\n",
       "      <td>0</td>\n",
       "    </tr>\n",
       "    <tr>\n",
       "      <th>2002</th>\n",
       "      <td>4.0</td>\n",
       "      <td>0</td>\n",
       "      <td>0</td>\n",
       "      <td>0</td>\n",
       "      <td>0</td>\n",
       "      <td>0</td>\n",
       "      <td>0</td>\n",
       "    </tr>\n",
       "  </tbody>\n",
       "</table>\n",
       "</div>"
      ],
      "text/plain": [
       "      priors_count  two_year_recid  is_Caucasian  crime_factor  \\\n",
       "1998           4.0               1             0             1   \n",
       "1999           4.0               1             1             1   \n",
       "2000           4.0               1             0             1   \n",
       "2001           3.0               0             0             1   \n",
       "2002           4.0               0             0             0   \n",
       "\n",
       "      age_factor_greater_than_45  age_factor_less_than_25  gender_factor  \n",
       "1998                           0                        0              1  \n",
       "1999                           0                        0              1  \n",
       "2000                           0                        0              1  \n",
       "2001                           0                        0              0  \n",
       "2002                           0                        0              0  "
      ]
     },
     "execution_count": 20,
     "metadata": {},
     "output_type": "execute_result"
    }
   ],
   "source": [
    "synth_regular[\"train\"].head()"
   ]
  },
  {
   "cell_type": "code",
   "execution_count": 21,
   "metadata": {},
   "outputs": [
    {
     "data": {
      "text/html": [
       "<div>\n",
       "<style scoped>\n",
       "    .dataframe tbody tr th:only-of-type {\n",
       "        vertical-align: middle;\n",
       "    }\n",
       "\n",
       "    .dataframe tbody tr th {\n",
       "        vertical-align: top;\n",
       "    }\n",
       "\n",
       "    .dataframe thead th {\n",
       "        text-align: right;\n",
       "    }\n",
       "</style>\n",
       "<table border=\"1\" class=\"dataframe\">\n",
       "  <thead>\n",
       "    <tr style=\"text-align: right;\">\n",
       "      <th></th>\n",
       "      <th>priors_count</th>\n",
       "      <th>crime_factor</th>\n",
       "      <th>gender_factor</th>\n",
       "      <th>is_Caucasian</th>\n",
       "      <th>age_factor_Greater than 45</th>\n",
       "      <th>age_factor_Less than 25</th>\n",
       "      <th>two_year_recid</th>\n",
       "    </tr>\n",
       "  </thead>\n",
       "  <tbody>\n",
       "    <tr>\n",
       "      <th>1824</th>\n",
       "      <td>3</td>\n",
       "      <td>0</td>\n",
       "      <td>1</td>\n",
       "      <td>1</td>\n",
       "      <td>0</td>\n",
       "      <td>0</td>\n",
       "      <td>0</td>\n",
       "    </tr>\n",
       "    <tr>\n",
       "      <th>2895</th>\n",
       "      <td>9</td>\n",
       "      <td>0</td>\n",
       "      <td>1</td>\n",
       "      <td>0</td>\n",
       "      <td>0</td>\n",
       "      <td>0</td>\n",
       "      <td>0</td>\n",
       "    </tr>\n",
       "    <tr>\n",
       "      <th>4347</th>\n",
       "      <td>2</td>\n",
       "      <td>1</td>\n",
       "      <td>1</td>\n",
       "      <td>1</td>\n",
       "      <td>0</td>\n",
       "      <td>0</td>\n",
       "      <td>0</td>\n",
       "    </tr>\n",
       "    <tr>\n",
       "      <th>3161</th>\n",
       "      <td>7</td>\n",
       "      <td>0</td>\n",
       "      <td>1</td>\n",
       "      <td>0</td>\n",
       "      <td>0</td>\n",
       "      <td>0</td>\n",
       "      <td>0</td>\n",
       "    </tr>\n",
       "    <tr>\n",
       "      <th>4917</th>\n",
       "      <td>0</td>\n",
       "      <td>1</td>\n",
       "      <td>1</td>\n",
       "      <td>0</td>\n",
       "      <td>0</td>\n",
       "      <td>0</td>\n",
       "      <td>0</td>\n",
       "    </tr>\n",
       "  </tbody>\n",
       "</table>\n",
       "</div>"
      ],
      "text/plain": [
       "      priors_count  crime_factor  gender_factor  is_Caucasian  \\\n",
       "1824             3             0              1             1   \n",
       "2895             9             0              1             0   \n",
       "4347             2             1              1             1   \n",
       "3161             7             0              1             0   \n",
       "4917             0             1              1             0   \n",
       "\n",
       "      age_factor_Greater than 45  age_factor_Less than 25  two_year_recid  \n",
       "1824                           0                        0               0  \n",
       "2895                           0                        0               0  \n",
       "4347                           0                        0               0  \n",
       "3161                           0                        0               0  \n",
       "4917                           0                        0               0  "
      ]
     },
     "execution_count": 21,
     "metadata": {},
     "output_type": "execute_result"
    }
   ],
   "source": [
    "compas[\"train\"].head()"
   ]
  },
  {
   "cell_type": "code",
   "execution_count": 6,
   "metadata": {},
   "outputs": [
    {
     "name": "stdout",
     "output_type": "stream",
     "text": [
      "Key:  test\n",
      "Caucasian = 1:  0.34934934934934936 \n",
      "Caucasian = 0:  0.6506506506506506\n",
      "Male = 1:  0.8053053053053053 \n",
      "Male = 0:  0.1946946946946947\n",
      "After 30% missing: \n",
      "Caucasian = 1:  0.33112033195020746 \n",
      "Caucasian = 0:  0.6688796680497925\n",
      "Male = 1:  0.7717842323651453 \n",
      "Male = 0:  0.22821576763485477\n",
      "Key:  train\n",
      "Caucasian = 1:  0.3370814592703648 \n",
      "Caucasian = 0:  0.6629185407296352\n",
      "Male = 1:  0.8110944527736131 \n",
      "Male = 0:  0.1889055472263868\n",
      "After 30% missing: \n",
      "Caucasian = 1:  0.31614654002713705 \n",
      "Caucasian = 0:  0.683853459972863\n",
      "Male = 1:  0.7526006331976481 \n",
      "Male = 0:  0.2473993668023519\n"
     ]
    }
   ],
   "source": [
    "#Checking that the classes don't become too much more imbalanced when data is removed.\n",
    "\n",
    "#Synthetic data\n",
    "for key, value in synth_regular.items():\n",
    "    #print(value.columns)\n",
    "    print(\"Key: \", key)\n",
    "    print(\"Caucasian = 1: \",len(value[value[\"is_Caucasian\"]==1])/len(value) ,\n",
    "    \"\\nCaucasian = 0: \", len(value[value[\"is_Caucasian\"]==0])/len(value))\n",
    "    print(\"Male = 1: \",len(value[value[\"gender_factor\"]==1])/len(value) ,\n",
    "    \"\\nMale = 0: \", len(value[value[\"gender_factor\"]==0])/len(value))\n",
    "    print(\"After 30% missing: \")\n",
    "    temp = value.copy()\n",
    "    temp = utils.impute(utils.data_remover_cat(temp, \"is_Caucasian\", 30), \"is_Caucasian\", \"is_Caucasian\")\n",
    "    print(\"Caucasian = 1: \",len(temp[temp[\"is_Caucasian\"]==1])/len(temp) ,\n",
    "        \"\\nCaucasian = 0: \", len(temp[temp[\"is_Caucasian\"]==0])/len(temp))\n",
    "    print(\"Male = 1: \",len(temp[temp[\"gender_factor\"]==1])/len(temp) ,\n",
    "        \"\\nMale = 0: \", len(temp[temp[\"gender_factor\"]==0])/len(temp))"
   ]
  },
  {
   "cell_type": "code",
   "execution_count": 7,
   "metadata": {},
   "outputs": [
    {
     "name": "stdout",
     "output_type": "stream",
     "text": [
      "Key:  train\n",
      "Caucasian = 1:  0.3383313180169287 \n",
      "Caucasian = 0:  0.6616686819830714\n",
      "Male = 1:  0.8084643288996373 \n",
      "Male = 0:  0.19153567110036276\n",
      "Response:  0.5458282950423217\n",
      "After 90% missing: \n",
      "sum 199\n",
      "Caucasian = 1:  0.36127167630057805 \n",
      "Caucasian = 0:  0.638728323699422\n",
      "Male = 1:  0.7283236994219653 \n",
      "Male = 0:  0.27167630057803466\n",
      "Response:  0.5751445086705202\n",
      "Key:  test\n",
      "Caucasian = 1:  0.34560628375061364 \n",
      "Caucasian = 0:  0.6543937162493864\n",
      "Male = 1:  0.8119783996072656 \n",
      "Male = 0:  0.1880216003927344\n",
      "Response:  0.5429553264604811\n",
      "After 90% missing: \n",
      "sum 112\n",
      "Caucasian = 1:  0.34782608695652173 \n",
      "Caucasian = 0:  0.6521739130434783\n",
      "Male = 1:  0.9006211180124224 \n",
      "Male = 0:  0.09937888198757763\n",
      "Response:  0.6956521739130435\n"
     ]
    }
   ],
   "source": [
    "#Compas data\n",
    "\"\"\"for ver in [\"standard\", \"violent\"]:\n",
    "    print(\"Compas dataset type: \", ver)\"\"\"\n",
    "for key, value in compas.items():\n",
    "    #print(value.columns)\n",
    "    print(\"Key: \", key)\n",
    "    print(\"Caucasian = 1: \",len(value[value[\"is_Caucasian\"]==1])/len(value) ,\n",
    "    \"\\nCaucasian = 0: \", len(value[value[\"is_Caucasian\"]==0])/len(value))\n",
    "    print(\"Male = 1: \",len(value[value[\"gender_factor\"]==1])/len(value) ,\n",
    "    \"\\nMale = 0: \", len(value[value[\"gender_factor\"]==0])/len(value))\n",
    "    print(\"Response: \", len(value[value[\"two_year_recid\"]==1])/len(value))\n",
    "    print(\"After 90% missing: \")\n",
    "    temp = value.copy()\n",
    "    temp = utils.impute(utils.data_remover_cat(temp, \"is_Caucasian\", 90), \"is_Caucasian\",\"is_Caucasian\")\n",
    "    print(\"sum\", temp[\"two_year_recid\"].sum())\n",
    "    print(\"Caucasian = 1: \",len(temp[temp[\"is_Caucasian\"]==1])/len(temp) ,\n",
    "        \"\\nCaucasian = 0: \", len(temp[temp[\"is_Caucasian\"]==0])/len(temp))\n",
    "    print(\"Male = 1: \",len(temp[temp[\"gender_factor\"]==1])/len(temp) ,\n",
    "        \"\\nMale = 0: \", len(temp[temp[\"gender_factor\"]==0])/len(temp))\n",
    "    print(\"Response: \", len(temp[temp[\"two_year_recid\"]==1])/len(temp))\n"
   ]
  },
  {
   "cell_type": "code",
   "execution_count": 8,
   "metadata": {},
   "outputs": [],
   "source": [
    "IMPUTATIONS = [\"fair_reg_95\"]#, \"fair_reg_99\"]  # , \"reg\"]\n",
    "IMPUTATION_COMBOS = [perm[0]+\"|\"+perm[1] for perm in permutations(IMPUTATIONS, 2)]"
   ]
  },
  {
   "cell_type": "code",
   "execution_count": 9,
   "metadata": {},
   "outputs": [
    {
     "data": {
      "text/plain": [
       "[]"
      ]
     },
     "execution_count": 9,
     "metadata": {},
     "output_type": "execute_result"
    }
   ],
   "source": [
    "IMPUTATION_COMBOS"
   ]
  },
  {
   "cell_type": "code",
   "execution_count": 10,
   "metadata": {},
   "outputs": [],
   "source": [
    "a = [1,2,3]\n",
    "a+=[1,2,3]"
   ]
  },
  {
   "cell_type": "code",
   "execution_count": 11,
   "metadata": {},
   "outputs": [
    {
     "data": {
      "text/plain": [
       "[1, 2, 3, 1, 2, 3]"
      ]
     },
     "execution_count": 11,
     "metadata": {},
     "output_type": "execute_result"
    }
   ],
   "source": [
    "a"
   ]
  },
  {
   "cell_type": "code",
   "execution_count": 12,
   "metadata": {},
   "outputs": [
    {
     "name": "stderr",
     "output_type": "stream",
     "text": [
      "100%|██████████| 2/2 [11:42<00:00, 351.44s/it]\n"
     ]
    },
    {
     "data": {
      "text/plain": [
       "<Figure size 1440x792 with 0 Axes>"
      ]
     },
     "metadata": {},
     "output_type": "display_data"
    }
   ],
   "source": [
    "#percentiles = [p for p in range(0,20,2)]+[p for p in range(20,80, 10)]\n",
    "percentiles = [p for p in range(60,80, 10)]\n",
    "#TODO test missing = Sensitive in case code crashes\n",
    "missing=[\"is_Caucasian\"]#, \"two_year_recid\"]# \"is_Caucasian\"]#, \"gender_factor\", \"crime_factor\"]\n",
    "all_results = {\"Full data\": {}, \"Averaged results\": {} }\n",
    "RUNS = 2\n",
    "for miss in missing:\n",
    "    for sensitive in [\"is_Caucasian\"]:#, \"gender_factor\"]:\n",
    "        #try:\n",
    "        recid_results = utils.test_bench(data = \"compas\", pred = RESPONSE, missing = miss, sensitive=sensitive,\n",
    "                        percentiles = percentiles, n_runs=RUNS)\n",
    "        #synth_results = utils.test_bench(data = \"synthetic\", pred = RESPONSE, missing = miss, sensitive=sensitive,\n",
    "                            #percentiles = percentiles, n_runs=RUNS)\n",
    "        #TODO and remember to fix data v_recid_results = utils.test_bench(train = compas[\"standard\"][\"train\"],test = compas[\"standard\"][\"test\"], pred = RESPONSE, missing = miss, sensitive=sensitive,\n",
    "                        #percentiles = percentiles)\n",
    "        #all_results[miss+\"_\"+sensitive+\"_\"+\"synth\"] = synth_results \n",
    "        all_results[\"Full data\"][miss+\"_\"+sensitive+\"_\"+\"recid\"] = recid_results[\"Full data\"]\n",
    "        all_results[\"Averaged results\"][miss+\"_\"+sensitive+\"_\"+\"recid\"] = recid_results[\"Averaged results\"]\n",
    "        #except:\n",
    "            #print(\"failed at \" + sensitive + miss)\n",
    "        \"\"\"try:\n",
    "            synth_results = utils.test_bench(train = synth_regular[\"train\"],test = synth_regular[\"test\"], pred = RESPONSE, missing = miss, sensitive=sensitive,\n",
    "                            percentiles = percentiles)\n",
    "            recid_results = utils.test_bench(train = compas[\"train\"],test = compas[\"test\"], pred = RESPONSE, missing = miss, sensitive=sensitive,\n",
    "                            percentiles = percentiles)\n",
    "            #TODO and remember to fix data v_recid_results = utils.test_bench(train = compas[\"standard\"][\"train\"],test = compas[\"standard\"][\"test\"], pred = RESPONSE, missing = miss, sensitive=sensitive,\n",
    "                            #percentiles = percentiles)\n",
    "            all_results[miss+\"_\"+sensitive+\"_\"+\"synth\"] = synth_results \n",
    "            all_results[miss+\"_\"+sensitive+\"_\"+\"recid\"] = recid_results \n",
    "            #all_results[miss+\"_\"+sensitive+\"_\"+\"v_recid\"] = v_recid_results\n",
    "        except Exception as e:\n",
    "            print(\"Exception: \", e)\n",
    "            print(\"Parameters: \", sensitive+\"_\"+miss) \n",
    "        \"\"\""
   ]
  },
  {
   "cell_type": "code",
   "execution_count": 13,
   "metadata": {},
   "outputs": [],
   "source": [
    "IMPUTATIONS = [\"cca\", \"mean\", \"mice_def\", \"coldel\"]# , \"reg\"]\n",
    "IMPUTATION_COMBOS = [perm[0]+\"|\"+perm[1] for perm in permutations(IMPUTATIONS, 2)]"
   ]
  },
  {
   "cell_type": "code",
   "execution_count": 14,
   "metadata": {},
   "outputs": [
    {
     "data": {
      "text/plain": [
       "['cca|mean',\n",
       " 'cca|mice_def',\n",
       " 'cca|coldel',\n",
       " 'mean|cca',\n",
       " 'mean|mice_def',\n",
       " 'mean|coldel',\n",
       " 'mice_def|cca',\n",
       " 'mice_def|mean',\n",
       " 'mice_def|coldel',\n",
       " 'coldel|cca',\n",
       " 'coldel|mean',\n",
       " 'coldel|mice_def']"
      ]
     },
     "execution_count": 14,
     "metadata": {},
     "output_type": "execute_result"
    }
   ],
   "source": [
    "IMPUTATION_COMBOS"
   ]
  },
  {
   "cell_type": "code",
   "execution_count": null,
   "metadata": {},
   "outputs": [],
   "source": []
  },
  {
   "cell_type": "code",
   "execution_count": null,
   "metadata": {},
   "outputs": [],
   "source": []
  },
  {
   "cell_type": "code",
   "execution_count": 15,
   "metadata": {},
   "outputs": [],
   "source": [
    "import json\n",
    "from pathlib import Path\n",
    "with open(Path(\"raw_data/test.json\"), 'w') as f:\n",
    "            json.dump(all_results, f)"
   ]
  },
  {
   "cell_type": "code",
   "execution_count": 16,
   "metadata": {},
   "outputs": [
    {
     "ename": "KeyError",
     "evalue": "'priors_count_is_Caucasian_recid'",
     "output_type": "error",
     "traceback": [
      "\u001b[1;31m---------------------------------------------------------------------------\u001b[0m",
      "\u001b[1;31mKeyError\u001b[0m                                  Traceback (most recent call last)",
      "\u001b[1;32m~\\AppData\\Local\\Temp/ipykernel_29608/3344462460.py\u001b[0m in \u001b[0;36m<module>\u001b[1;34m\u001b[0m\n\u001b[1;32m----> 1\u001b[1;33m \u001b[0mall_results\u001b[0m\u001b[1;33m[\u001b[0m\u001b[1;34m\"Averaged results\"\u001b[0m\u001b[1;33m]\u001b[0m\u001b[1;33m[\u001b[0m\u001b[1;34m\"priors_count_is_Caucasian_recid\"\u001b[0m\u001b[1;33m]\u001b[0m\u001b[1;33m.\u001b[0m\u001b[0mkeys\u001b[0m\u001b[1;33m(\u001b[0m\u001b[1;33m)\u001b[0m\u001b[1;33m\u001b[0m\u001b[1;33m\u001b[0m\u001b[0m\n\u001b[0m",
      "\u001b[1;31mKeyError\u001b[0m: 'priors_count_is_Caucasian_recid'"
     ]
    }
   ],
   "source": [
    "all_results[\"Averaged results\"][\"priors_count_is_Caucasian_recid\"].keys()"
   ]
  },
  {
   "cell_type": "code",
   "execution_count": null,
   "metadata": {},
   "outputs": [
    {
     "ename": "KeyError",
     "evalue": "'fair_reg_99'",
     "output_type": "error",
     "traceback": [
      "\u001b[1;31m---------------------------------------------------------------------------\u001b[0m",
      "\u001b[1;31mKeyError\u001b[0m                                  Traceback (most recent call last)",
      "\u001b[1;32m~\\AppData\\Local\\Temp/ipykernel_592/1104444367.py\u001b[0m in \u001b[0;36m<module>\u001b[1;34m\u001b[0m\n\u001b[1;32m----> 1\u001b[1;33m \u001b[0mall_results\u001b[0m\u001b[1;33m[\u001b[0m\u001b[1;34m\"Full data\"\u001b[0m\u001b[1;33m]\u001b[0m\u001b[1;33m[\u001b[0m\u001b[1;34m\"priors_count_is_Caucasian_recid\"\u001b[0m\u001b[1;33m]\u001b[0m\u001b[1;33m[\u001b[0m\u001b[1;34m\"0\"\u001b[0m\u001b[1;33m]\u001b[0m\u001b[1;33m[\u001b[0m\u001b[1;34m'mar'\u001b[0m\u001b[1;33m]\u001b[0m\u001b[1;33m[\u001b[0m\u001b[1;34m'spd'\u001b[0m\u001b[1;33m]\u001b[0m\u001b[1;33m[\u001b[0m\u001b[1;34m'log_reg'\u001b[0m\u001b[1;33m]\u001b[0m\u001b[1;33m[\u001b[0m\u001b[1;34m\"fair_reg_99\"\u001b[0m\u001b[1;33m]\u001b[0m\u001b[1;33m\u001b[0m\u001b[1;33m\u001b[0m\u001b[0m\n\u001b[0m",
      "\u001b[1;31mKeyError\u001b[0m: 'fair_reg_99'"
     ]
    }
   ],
   "source": [
    "all_results[\"Full data\"][\"priors_count_is_Caucasian_recid\"][\"0\"]['mar']['spd']['log_reg'][\"fair_reg_99\"]"
   ]
  },
  {
   "cell_type": "code",
   "execution_count": null,
   "metadata": {},
   "outputs": [],
   "source": [
    "import matplotlib.pyplot as plt\n",
    "eosum_mcar = all_results[\"Averaged results\"][\"priors_count_is_Caucasian_recid\"]['mcar|eosum|log_reg|fair_reg_99']\n",
    "eosum_mar = all_results[\"Averaged results\"][\"priors_count_is_Caucasian_recid\"]['mar|eosum|log_reg|fair_reg_99']\n",
    "tpr1_mar = all_results[\"Averaged results\"][\"priors_count_is_Caucasian_recid\"]['mar|tpr1|log_reg|fair_reg_99']\n",
    "tpr1_mcar = all_results[\"Averaged results\"][\"priors_count_is_Caucasian_recid\"]['mcar|tpr1|log_reg|fair_reg_99']\n",
    "spd_mar = all_results[\"Averaged results\"][\"priors_count_is_Caucasian_recid\"]['mar|spd|log_reg|fair_reg_99']\n",
    "spd_mcar = all_results[\"Averaged results\"][\"priors_count_is_Caucasian_recid\"]['mcar|spd|log_reg|fair_reg_99']"
   ]
  },
  {
   "cell_type": "code",
   "execution_count": 1,
   "metadata": {},
   "outputs": [
    {
     "name": "stdout",
     "output_type": "stream",
     "text": [
      "1 3\n",
      "1 4\n",
      "2 3\n",
      "2 4\n"
     ]
    }
   ],
   "source": [
    "for i in [1,2]:\n",
    "    for j in [3,4]:\n",
    "        try:\n",
    "            raise AttributeError(\"AAAAA\")\n",
    "        except:\n",
    "            print(i,j)\n",
    "            continue"
   ]
  },
  {
   "cell_type": "code",
   "execution_count": null,
   "metadata": {},
   "outputs": [
    {
     "data": {
      "text/plain": [
       "[<matplotlib.lines.Line2D at 0x20185d50ac0>]"
      ]
     },
     "execution_count": 23,
     "metadata": {},
     "output_type": "execute_result"
    },
    {
     "data": {
      "image/png": "[encoded data removed]",
      "text/plain": [
       "<Figure size 432x288 with 1 Axes>"
      ]
     },
     "metadata": {},
     "output_type": "display_data"
    }
   ],
   "source": [
    "plt.plot(percentiles, eosum_mar)\n",
    "plt.plot(percentiles, eosum_mcar)"
   ]
  },
  {
   "cell_type": "code",
   "execution_count": null,
   "metadata": {},
   "outputs": [
    {
     "data": {
      "text/plain": [
       "[<matplotlib.lines.Line2D at 0x20185b65f10>]"
      ]
     },
     "execution_count": 24,
     "metadata": {},
     "output_type": "execute_result"
    },
    {
     "data": {
      "image/png": "[encoded data removed]",
      "text/plain": [
       "<Figure size 432x288 with 1 Axes>"
      ]
     },
     "metadata": {},
     "output_type": "display_data"
    }
   ],
   "source": [
    "plt.plot(percentiles, tpr1_mar)\n",
    "plt.plot(percentiles, tpr1_mcar)"
   ]
  },
  {
   "cell_type": "code",
   "execution_count": null,
   "metadata": {},
   "outputs": [
    {
     "data": {
      "text/plain": [
       "[<matplotlib.lines.Line2D at 0x2018194a6a0>]"
      ]
     },
     "execution_count": 25,
     "metadata": {},
     "output_type": "execute_result"
    },
    {
     "data": {
      "image/png": "[encoded data removed]",
      "text/plain": [
       "<Figure size 432x288 with 1 Axes>"
      ]
     },
     "metadata": {},
     "output_type": "display_data"
    }
   ],
   "source": [
    "plt.plot(percentiles, spd_mar)\n",
    "plt.plot(percentiles, spd_mcar)"
   ]
  },
  {
   "cell_type": "code",
   "execution_count": null,
   "metadata": {},
   "outputs": [],
   "source": []
  }
 ],
 "metadata": {
  "interpreter": {
   "hash": "f6b5d6a7d9324dc6141b12d74f79997d922c129aaadb2c82c0fa5c003a2c41f2"
  },
  "kernelspec": {
   "display_name": "Python 3.9.6 64-bit",
   "language": "python",
   "name": "python3"
  },
  "language_info": {
   "codemirror_mode": {
    "name": "ipython",
    "version": 3
   },
   "file_extension": ".py",
   "mimetype": "text/x-python",
   "name": "python",
   "nbconvert_exporter": "python",
   "pygments_lexer": "ipython3",
   "version": "3.9.6"
  },
  "orig_nbformat": 4
 },
 "nbformat": 4,
 "nbformat_minor": 2
}
