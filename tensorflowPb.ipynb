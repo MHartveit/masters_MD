{
 "cells": [
  {
   "cell_type": "code",
   "execution_count": 2,
   "metadata": {},
   "outputs": [],
   "source": [
    "import numpy as np\n",
    "import pandas as pd\n",
    "import matplotlib.pyplot as plt\n",
    "from sklearn import datasets, svm, metrics\n",
    "from sklearn.svm import LinearSVC\n",
    "from sklearn.linear_model import LinearRegression\n",
    "from sklearn.neighbors import KNeighborsClassifier\n",
    "from sklearn.ensemble import RandomForestClassifier\n",
    "from sklearn.ensemble import RandomForestRegressor\n",
    "from tqdm import tqdm\n",
    "from tqdm import tqdm"
   ]
  },
  {
   "cell_type": "code",
   "execution_count": 3,
   "metadata": {},
   "outputs": [],
   "source": [
    "size = 100"
   ]
  },
  {
   "cell_type": "code",
   "execution_count": 4,
   "metadata": {},
   "outputs": [],
   "source": [
    "def sigmoid(x, alpha):\n",
    "    z = np.exp(-x+alpha)\n",
    "    sig = 1 / (1 + z)\n",
    "    return sig"
   ]
  },
  {
   "cell_type": "code",
   "execution_count": 5,
   "metadata": {},
   "outputs": [],
   "source": [
    "#Categorical data\n",
    "x_1 = np.random.normal(40, 10, size = size)\n",
    "x_2 = np.random.binomial(1,0.65, size = size)\n",
    "y = np.around(sigmoid(x_1+x_2*20, alpha = 50)).astype(int)\n",
    "synth_cat = pd.DataFrame({\"y\": y, \"x_1\":x_1, \"x_2\":x_2})\n",
    "synth_cat_test = synth_cat.iloc[:round(0.3*size),:]\n",
    "synth_cat_train = synth_cat.iloc[round(0.3*size):,:]"
   ]
  },
  {
   "cell_type": "code",
   "execution_count": 6,
   "metadata": {},
   "outputs": [],
   "source": [
    "from sklearn.linear_model import LogisticRegression\n",
    "from sklearn.experimental import enable_iterative_imputer\n",
    "from sklearn.impute import IterativeImputer\n",
    "def data_remover_cat(full_data, missing_col, missing_pct, missing = \"mar\", impute = \"cca\"):\n",
    "    #Missing_pct is in the range 0 to 100\n",
    "    data = full_data.copy()\n",
    "\n",
    "    if missing ==\"mar\":\n",
    "        x = data.drop(missing_col, axis = 1)\n",
    "        if data[missing_col].nunique() ==2:\n",
    "            clf = LogisticRegression(random_state=0).fit(x, data[missing_col])\n",
    "            preds = clf.predict_proba(x)[:,1]\n",
    "        else:\n",
    "            clf = LinearRegression().fit(x, data[missing_col])\n",
    "            preds = clf.predict(x)\n",
    "        #print(preds)\n",
    "        lower_percentile = np.percentile(preds, missing_pct//2)\n",
    "        upper_percentile = np.percentile(preds, 100-missing_pct//2)\n",
    "        \"\"\"print(\"lower\", lower_percentile,\n",
    "            \"upper\", upper_percentile,\n",
    "            \"filtered\", preds[(preds>=lower_percentile)&(preds<=upper_percentile)])\n",
    "        \n",
    "        #print(\"Mask\", sum((data[\"preds\"]<= lower_percentile)| (data[\"preds\"]>= upper_percentile)))\"\"\"\n",
    "        data[\"preds\"] = preds\n",
    "        data[missing_col] = data[missing_col].mask((data[\"preds\"]<= lower_percentile) | (data[\"preds\"]>= upper_percentile),\n",
    "            other = np.nan)\n",
    "        data.drop(\"preds\", axis = 1, inplace = True)\n",
    "        \n",
    "    else:\n",
    "        mcar = np.random.binomial(n=1, p=missing_pct/100, size = len(data))\n",
    "        data[\"missing\"] = [np.nan if m ==1 else 0 for m in mcar]\n",
    "        data[missing_col] = data[missing_col].mask(data[\"missing\"] == np.nan,\n",
    "            other = np.nan)\n",
    "        data.drop(\"missing\", axis = 1, inplace = True)\n",
    "        \n",
    "    if impute ==\"cca\":\n",
    "        data.dropna(axis = 0, inplace = True)\n",
    "    elif impute == \"mean\":\n",
    "        if data[missing_col].nunique() ==2:\n",
    "            #print(\"nans\", data[missing_col].isna().sum())\n",
    "            mode = data[missing_col].mode(dropna = True)[0]\n",
    "            #print(\"mode\", mode, \"END\")\n",
    "            data[missing_col] = data[missing_col].fillna(mode)\n",
    "            #print(\"nans\", data[missing_col].isna().sum())\n",
    "        else:\n",
    "            mean = data[missing_col].mean(skipna = True)\n",
    "            data[missing_col] = data[missing_col].fillna(mean)\n",
    "    elif impute == \"reg\":\n",
    "        pass\n",
    "    elif impute == \"mice_def\":\n",
    "        imputer = IterativeImputer(random_state=0)\n",
    "        imputer.fit(data)\n",
    "        data = pd.DataFrame(imputer.transform(data), columns = data.columns)\n",
    "        #print(data[missing_col].unique())\n",
    "        if data[missing_col].nunique() ==2:\n",
    "            data[missing_col] = data[missing_col].round()\n",
    "        #print(data[missing_col].unique())\n",
    "    elif impute == \"mice_reg\":\n",
    "        if data[missing_col].nunique() ==2:\n",
    "            model = LogisticRegression(random_state=0, max_iter=300)\n",
    "            imputer = IterativeImputer(estimator = model, random_state=0)\n",
    "            imputer.fit(data)\n",
    "            data = pd.DataFrame(imputer.transform(data), columns = data.columns)\n",
    "            #print(data[missing_col].unique())\n",
    "        else:\n",
    "            model = LinearRegression()\n",
    "            imputer = IterativeImputer(estimator = model, random_state=0)\n",
    "            imputer.fit(data)\n",
    "            data = pd.DataFrame(imputer.transform(data), columns = data.columns)\n",
    "    return data\n",
    "\n",
    "\n"
   ]
  },
  {
   "cell_type": "code",
   "execution_count": 7,
   "metadata": {},
   "outputs": [
    {
     "name": "stdout",
     "output_type": "stream",
     "text": [
      "Class 1:  0.6571428571428571 \n",
      "Class 2:  0.34285714285714286\n",
      "Class 1:  0.7291666666666666 \n",
      "Class 2:  0.2708333333333333\n"
     ]
    }
   ],
   "source": [
    "print(\"Class 1: \",len(synth_cat_train[synth_cat_train[\"x_2\"]==1])/len(synth_cat_train) ,\n",
    "    \"\\nClass 2: \", len(synth_cat_train[synth_cat_train[\"x_2\"]==0])/len(synth_cat_train))\n",
    "temp = synth_cat_train.copy()\n",
    "temp = data_remover_cat(temp, \"x_2\", 30)\n",
    "print(\"Class 1: \",len(temp[temp[\"x_2\"]==1])/len(temp) ,\n",
    "    \"\\nClass 2: \", len(temp[temp[\"x_2\"]==0])/len(temp))"
   ]
  },
  {
   "cell_type": "code",
   "execution_count": null,
   "metadata": {},
   "outputs": [],
   "source": []
  }
 ],
 "metadata": {
  "interpreter": {
   "hash": "eae8805b7a60ca00ec391bf13e71294753b9bf81b6b5d55c56d2d16aa9c3e739"
  },
  "kernelspec": {
   "display_name": "Python 3.9.6 64-bit",
   "language": "python",
   "name": "python3"
  },
  "language_info": {
   "codemirror_mode": {
    "name": "ipython",
    "version": 3
   },
   "file_extension": ".py",
   "mimetype": "text/x-python",
   "name": "python",
   "nbconvert_exporter": "python",
   "pygments_lexer": "ipython3",
   "version": "3.9.6"
  },
  "orig_nbformat": 4
 },
 "nbformat": 4,
 "nbformat_minor": 2
}
