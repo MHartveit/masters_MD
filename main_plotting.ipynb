{
 "cells": [
  {
   "cell_type": "code",
   "execution_count": 1,
   "metadata": {},
   "outputs": [],
   "source": [
    "import utils\n",
    "import json\n",
    "import matplotlib.pyplot as plt\n",
    "from pathlib import Path"
   ]
  },
  {
   "cell_type": "code",
   "execution_count": 2,
   "metadata": {},
   "outputs": [],
   "source": [
    "with open(Path(\"raw_data/second.json\"), 'r') as f:\n",
    "    raw = json.load(f)"
   ]
  },
  {
   "cell_type": "code",
   "execution_count": 3,
   "metadata": {},
   "outputs": [
    {
     "name": "stderr",
     "output_type": "stream",
     "text": [
      "findfont: Font family ['normal'] not found. Falling back to DejaVu Sans.\n",
      "findfont: Font family ['normal'] not found. Falling back to DejaVu Sans.\n",
      "findfont: Font family ['normal'] not found. Falling back to DejaVu Sans.\n"
     ]
    },
    {
     "name": "stdout",
     "output_type": "stream",
     "text": [
      "{'log_reg_cca_mar': {'pp': 0.0}, 'log_reg_mean_mar': {'pp': 0.0}, 'log_reg_mice_reg_mar': {}, 'log_reg_mice_def_mar': {'pp': 0.0}, 'log_reg_reg_mar': {}, 'rf_cat_cca_mar': {'pp': 0.005947982192101797}, 'rf_cat_mean_mar': {'pp': 0.03292181069958844}, 'rf_cat_mice_reg_mar': {}, 'rf_cat_mice_def_mar': {'pp': 0.03292181069958844}, 'rf_cat_reg_mar': {}, 'svm_cca_mar': {'pp': 0.0}, 'svm_mean_mar': {'pp': 0.0}, 'svm_mice_reg_mar': {}, 'svm_mice_def_mar': {'pp': 0.0}, 'svm_reg_mar': {}, 'knn_cca_mar': {'pp': 0.002721359352183761}, 'knn_mean_mar': {'pp': 0.014675052410901501}, 'knn_mice_reg_mar': {}, 'knn_mice_def_mar': {'pp': 0.014675052410901501}, 'knn_reg_mar': {}, 'log_reg_cca_mcar': {'pp': 0.0}, 'log_reg_mean_mcar': {'pp': 0.0}, 'log_reg_mice_reg_mcar': {}, 'log_reg_mice_def_mcar': {'pp': 0.0}, 'log_reg_reg_mcar': {}, 'rf_cat_cca_mcar': {'pp': 0.0}, 'rf_cat_mean_mcar': {'pp': 0.0}, 'rf_cat_mice_reg_mcar': {}, 'rf_cat_mice_def_mcar': {'pp': 0.0}, 'rf_cat_reg_mcar': {}, 'svm_cca_mcar': {'pp': 0.0}, 'svm_mean_mcar': {'pp': 0.0}, 'svm_mice_reg_mcar': {}, 'svm_mice_def_mcar': {'pp': 0.0}, 'svm_reg_mcar': {}, 'knn_cca_mcar': {'pp': 0.0015032467029305607}, 'knn_mean_mcar': {'pp': 0.006355932203389814}, 'knn_mice_reg_mcar': {}, 'knn_mice_def_mcar': {'pp': 0.0015032467029305607}, 'knn_reg_mcar': {}}\n",
      "{'log_reg_cca_mar': {'pp': 0.08121869782971614}, 'log_reg_mean_mar': {'pp': 0.033424657534246616}, 'log_reg_mice_reg_mar': {}, 'log_reg_mice_def_mar': {'pp': 0.062214569139776854}, 'log_reg_reg_mar': {}, 'rf_cat_cca_mar': {'pp': 0.03774886654839349}, 'rf_cat_mean_mar': {'pp': 0.01630652260904364}, 'rf_cat_mice_reg_mar': {}, 'rf_cat_mice_def_mar': {'pp': 0.06735586629776413}, 'rf_cat_reg_mar': {}, 'svm_cca_mar': {'pp': 0.06209577792311605}, 'svm_mean_mar': {'pp': 0.020000000000000018}, 'svm_mice_reg_mar': {}, 'svm_mice_def_mar': {'pp': 0.05469347338338704}, 'svm_reg_mar': {}, 'knn_cca_mar': {'pp': 0.20447472729059524}, 'knn_mean_mar': {'pp': 0.2046062173449596}, 'knn_mice_reg_mar': {}, 'knn_mice_def_mar': {'pp': 0.21679497849909835}, 'knn_reg_mar': {}, 'log_reg_cca_mcar': {'pp': 0.04023035787741669}, 'log_reg_mean_mcar': {'pp': 0.023250014387385165}, 'log_reg_mice_reg_mcar': {}, 'log_reg_mice_def_mcar': {'pp': 0.024525611867341035}, 'log_reg_reg_mcar': {}, 'rf_cat_cca_mcar': {'pp': 0.006252786567927049}, 'rf_cat_mean_mcar': {'pp': 0.0049656226126814085}, 'rf_cat_mice_reg_mcar': {}, 'rf_cat_mice_def_mcar': {'pp': 0.04538892480068957}, 'rf_cat_reg_mcar': {}, 'svm_cca_mcar': {'pp': 0.01221839385104695}, 'svm_mean_mcar': {'pp': 0.016228490689811803}, 'svm_mice_reg_mcar': {}, 'svm_mice_def_mcar': {'pp': 0.0003860882172179725}, 'svm_reg_mcar': {}, 'knn_cca_mcar': {'pp': 0.1450811194184225}, 'knn_mean_mcar': {'pp': 0.17811674091973118}, 'knn_mice_reg_mcar': {}, 'knn_mice_def_mcar': {'pp': 0.05721518987341767}, 'knn_reg_mcar': {}}\n"
     ]
    },
    {
     "data": {
      "text/plain": [
       "<Figure size 1332x756 with 0 Axes>"
      ]
     },
     "metadata": {},
     "output_type": "display_data"
    }
   ],
   "source": [
    "for key, res in raw.items():\n",
    "    #print((key+\"/\").split(\"/\"))\n",
    "    cm_df = utils.plotting_cf([\"log_reg\", \"rf_cat\", \"svm\", \"knn\"],[\"cca\", \"mice_def\", \"mean\"], res, key+\"/\")\n",
    "    metrics_df = utils.plotting_others(res, key+\"/\")\n",
    "    #print(cm_df.to_latex())\n",
    "    #print(metrics_df.to_latex())"
   ]
  },
  {
   "cell_type": "code",
   "execution_count": null,
   "metadata": {},
   "outputs": [
    {
     "data": {
      "text/html": [
       "<div>\n",
       "<style scoped>\n",
       "    .dataframe tbody tr th:only-of-type {\n",
       "        vertical-align: middle;\n",
       "    }\n",
       "\n",
       "    .dataframe tbody tr th {\n",
       "        vertical-align: top;\n",
       "    }\n",
       "\n",
       "    .dataframe thead th {\n",
       "        text-align: right;\n",
       "    }\n",
       "</style>\n",
       "<table border=\"1\" class=\"dataframe\">\n",
       "  <thead>\n",
       "    <tr style=\"text-align: right;\">\n",
       "      <th></th>\n",
       "      <th>log_reg_cca_mar</th>\n",
       "      <th>log_reg_mean_mar</th>\n",
       "      <th>log_reg_mice_reg_mar</th>\n",
       "      <th>log_reg_mice_def_mar</th>\n",
       "      <th>log_reg_reg_mar</th>\n",
       "      <th>rf_cat_cca_mar</th>\n",
       "      <th>rf_cat_mean_mar</th>\n",
       "      <th>rf_cat_mice_reg_mar</th>\n",
       "      <th>rf_cat_mice_def_mar</th>\n",
       "      <th>rf_cat_reg_mar</th>\n",
       "      <th>...</th>\n",
       "      <th>svm_cca_mcar</th>\n",
       "      <th>svm_mean_mcar</th>\n",
       "      <th>svm_mice_reg_mcar</th>\n",
       "      <th>svm_mice_def_mcar</th>\n",
       "      <th>svm_reg_mcar</th>\n",
       "      <th>knn_cca_mcar</th>\n",
       "      <th>knn_mean_mcar</th>\n",
       "      <th>knn_mice_reg_mcar</th>\n",
       "      <th>knn_mice_def_mcar</th>\n",
       "      <th>knn_reg_mcar</th>\n",
       "    </tr>\n",
       "  </thead>\n",
       "  <tbody>\n",
       "    <tr>\n",
       "      <th>spd</th>\n",
       "      <td>NaN</td>\n",
       "      <td>NaN</td>\n",
       "      <td>NaN</td>\n",
       "      <td>NaN</td>\n",
       "      <td>NaN</td>\n",
       "      <td>NaN</td>\n",
       "      <td>NaN</td>\n",
       "      <td>NaN</td>\n",
       "      <td>NaN</td>\n",
       "      <td>NaN</td>\n",
       "      <td>...</td>\n",
       "      <td>NaN</td>\n",
       "      <td>NaN</td>\n",
       "      <td>NaN</td>\n",
       "      <td>NaN</td>\n",
       "      <td>NaN</td>\n",
       "      <td>NaN</td>\n",
       "      <td>NaN</td>\n",
       "      <td>NaN</td>\n",
       "      <td>NaN</td>\n",
       "      <td>NaN</td>\n",
       "    </tr>\n",
       "    <tr>\n",
       "      <th>pp</th>\n",
       "      <td>0.081219</td>\n",
       "      <td>0.033425</td>\n",
       "      <td>NaN</td>\n",
       "      <td>0.062215</td>\n",
       "      <td>NaN</td>\n",
       "      <td>0.037749</td>\n",
       "      <td>0.016307</td>\n",
       "      <td>NaN</td>\n",
       "      <td>0.067356</td>\n",
       "      <td>NaN</td>\n",
       "      <td>...</td>\n",
       "      <td>0.050858</td>\n",
       "      <td>0.017043</td>\n",
       "      <td>NaN</td>\n",
       "      <td>0.000409</td>\n",
       "      <td>NaN</td>\n",
       "      <td>0.116691</td>\n",
       "      <td>0.105451</td>\n",
       "      <td>NaN</td>\n",
       "      <td>0.153894</td>\n",
       "      <td>NaN</td>\n",
       "    </tr>\n",
       "    <tr>\n",
       "      <th>eo_Y=0</th>\n",
       "      <td>NaN</td>\n",
       "      <td>NaN</td>\n",
       "      <td>NaN</td>\n",
       "      <td>NaN</td>\n",
       "      <td>NaN</td>\n",
       "      <td>NaN</td>\n",
       "      <td>NaN</td>\n",
       "      <td>NaN</td>\n",
       "      <td>NaN</td>\n",
       "      <td>NaN</td>\n",
       "      <td>...</td>\n",
       "      <td>NaN</td>\n",
       "      <td>NaN</td>\n",
       "      <td>NaN</td>\n",
       "      <td>NaN</td>\n",
       "      <td>NaN</td>\n",
       "      <td>NaN</td>\n",
       "      <td>NaN</td>\n",
       "      <td>NaN</td>\n",
       "      <td>NaN</td>\n",
       "      <td>NaN</td>\n",
       "    </tr>\n",
       "    <tr>\n",
       "      <th>eo_Y=1</th>\n",
       "      <td>NaN</td>\n",
       "      <td>NaN</td>\n",
       "      <td>NaN</td>\n",
       "      <td>NaN</td>\n",
       "      <td>NaN</td>\n",
       "      <td>NaN</td>\n",
       "      <td>NaN</td>\n",
       "      <td>NaN</td>\n",
       "      <td>NaN</td>\n",
       "      <td>NaN</td>\n",
       "      <td>...</td>\n",
       "      <td>NaN</td>\n",
       "      <td>NaN</td>\n",
       "      <td>NaN</td>\n",
       "      <td>NaN</td>\n",
       "      <td>NaN</td>\n",
       "      <td>NaN</td>\n",
       "      <td>NaN</td>\n",
       "      <td>NaN</td>\n",
       "      <td>NaN</td>\n",
       "      <td>NaN</td>\n",
       "    </tr>\n",
       "  </tbody>\n",
       "</table>\n",
       "<p>4 rows × 40 columns</p>\n",
       "</div>"
      ],
      "text/plain": [
       "        log_reg_cca_mar  log_reg_mean_mar  log_reg_mice_reg_mar  \\\n",
       "spd                 NaN               NaN                   NaN   \n",
       "pp             0.081219          0.033425                   NaN   \n",
       "eo_Y=0              NaN               NaN                   NaN   \n",
       "eo_Y=1              NaN               NaN                   NaN   \n",
       "\n",
       "        log_reg_mice_def_mar  log_reg_reg_mar  rf_cat_cca_mar  \\\n",
       "spd                      NaN              NaN             NaN   \n",
       "pp                  0.062215              NaN        0.037749   \n",
       "eo_Y=0                   NaN              NaN             NaN   \n",
       "eo_Y=1                   NaN              NaN             NaN   \n",
       "\n",
       "        rf_cat_mean_mar  rf_cat_mice_reg_mar  rf_cat_mice_def_mar  \\\n",
       "spd                 NaN                  NaN                  NaN   \n",
       "pp             0.016307                  NaN             0.067356   \n",
       "eo_Y=0              NaN                  NaN                  NaN   \n",
       "eo_Y=1              NaN                  NaN                  NaN   \n",
       "\n",
       "        rf_cat_reg_mar  ...  svm_cca_mcar  svm_mean_mcar  svm_mice_reg_mcar  \\\n",
       "spd                NaN  ...           NaN            NaN                NaN   \n",
       "pp                 NaN  ...      0.050858       0.017043                NaN   \n",
       "eo_Y=0             NaN  ...           NaN            NaN                NaN   \n",
       "eo_Y=1             NaN  ...           NaN            NaN                NaN   \n",
       "\n",
       "        svm_mice_def_mcar  svm_reg_mcar  knn_cca_mcar  knn_mean_mcar  \\\n",
       "spd                   NaN           NaN           NaN            NaN   \n",
       "pp               0.000409           NaN      0.116691       0.105451   \n",
       "eo_Y=0                NaN           NaN           NaN            NaN   \n",
       "eo_Y=1                NaN           NaN           NaN            NaN   \n",
       "\n",
       "        knn_mice_reg_mcar  knn_mice_def_mcar  knn_reg_mcar  \n",
       "spd                   NaN                NaN           NaN  \n",
       "pp                    NaN           0.153894           NaN  \n",
       "eo_Y=0                NaN                NaN           NaN  \n",
       "eo_Y=1                NaN                NaN           NaN  \n",
       "\n",
       "[4 rows x 40 columns]"
      ]
     },
     "execution_count": 8,
     "metadata": {},
     "output_type": "execute_result"
    }
   ],
   "source": [
    "metrics_df.head()"
   ]
  },
  {
   "cell_type": "code",
   "execution_count": null,
   "metadata": {},
   "outputs": [
    {
     "data": {
      "text/plain": [
       "TPR Z=1    0.487395\n",
       "TPR Z=0    0.753323\n",
       "TNR Z=1    0.926724\n",
       "TNR Z=0    0.723404\n",
       "Name: log_reg_cca_MCAR, dtype: float64"
      ]
     },
     "execution_count": 4,
     "metadata": {},
     "output_type": "execute_result"
    }
   ],
   "source": [
    "cm_df[\"log_reg_cca_MCAR\"]"
   ]
  },
  {
   "cell_type": "code",
   "execution_count": null,
   "metadata": {},
   "outputs": [
    {
     "data": {
      "text/plain": [
       "'None'"
      ]
     },
     "execution_count": 5,
     "metadata": {},
     "output_type": "execute_result"
    }
   ],
   "source": [
    "str(None)"
   ]
  }
 ],
 "metadata": {
  "interpreter": {
   "hash": "f6b5d6a7d9324dc6141b12d74f79997d922c129aaadb2c82c0fa5c003a2c41f2"
  },
  "kernelspec": {
   "display_name": "Python 3.9.6 64-bit",
   "language": "python",
   "name": "python3"
  },
  "language_info": {
   "codemirror_mode": {
    "name": "ipython",
    "version": 3
   },
   "file_extension": ".py",
   "mimetype": "text/x-python",
   "name": "python",
   "nbconvert_exporter": "python",
   "pygments_lexer": "ipython3",
   "version": "3.9.6"
  },
  "orig_nbformat": 4
 },
 "nbformat": 4,
 "nbformat_minor": 2
}
