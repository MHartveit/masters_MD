{
 "cells": [
  {
   "cell_type": "code",
   "execution_count": 1,
   "metadata": {},
   "outputs": [],
   "source": [
    "import utils\n",
    "import json\n",
    "import matplotlib.pyplot as plt\n",
    "from pathlib import Path"
   ]
  },
  {
   "cell_type": "code",
   "execution_count": 2,
   "metadata": {},
   "outputs": [],
   "source": [
    "with open(Path(\"raw_data/multi_23_06.json\"), 'r') as f:\n",
    "    raw = json.load(f)"
   ]
  },
  {
   "cell_type": "code",
   "execution_count": 3,
   "metadata": {},
   "outputs": [
    {
     "data": {
      "text/plain": [
       "[1.0, 1.0, 1.0, 1.0, 1.0, 1.0, 1.0, 1.0, 1.0, 1.0, 1.0, 1.0, 1.0, 1.0]"
      ]
     },
     "execution_count": 3,
     "metadata": {},
     "output_type": "execute_result"
    }
   ],
   "source": [
    "raw['priors_count_is_Caucasian_synth'][\"0\"][\"mar\"][\"acc\"][\"log_reg\"][\"mice_def\"]"
   ]
  },
  {
   "cell_type": "code",
   "execution_count": 4,
   "metadata": {},
   "outputs": [],
   "source": [
    "test = utils.averaging_results(raw)"
   ]
  },
  {
   "cell_type": "code",
   "execution_count": 5,
   "metadata": {},
   "outputs": [
    {
     "data": {
      "text/plain": [
       "'50.0'"
      ]
     },
     "execution_count": 5,
     "metadata": {},
     "output_type": "execute_result"
    }
   ],
   "source": [
    "str(50.0)"
   ]
  },
  {
   "cell_type": "code",
   "execution_count": 6,
   "metadata": {},
   "outputs": [
    {
     "data": {
      "text/plain": [
       "array([0.19346348, 0.74230116])"
      ]
     },
     "execution_count": 6,
     "metadata": {},
     "output_type": "execute_result"
    }
   ],
   "source": [
    "test['priors_count_is_Caucasian_synth|log_reg_mar_cca_50_1|Predicted false'][\"mean\"]"
   ]
  },
  {
   "cell_type": "code",
   "execution_count": 7,
   "metadata": {},
   "outputs": [
    {
     "data": {
      "text/plain": [
       "array([0.74766814, 0.74803633, 0.74984659, 0.7522705 , 0.75362052,\n",
       "       0.7533137 , 0.75346711, 0.75273073, 0.75251595, 0.7522705 ,\n",
       "       0.75223981, 0.74972386, 0.74435444, 0.74005891])"
      ]
     },
     "execution_count": 7,
     "metadata": {},
     "output_type": "execute_result"
    }
   ],
   "source": [
    "test['priors_count_is_Caucasian_recid|mcar|acc|log_reg|mean'][\"mean\"]"
   ]
  },
  {
   "cell_type": "code",
   "execution_count": 8,
   "metadata": {},
   "outputs": [
    {
     "data": {
      "text/plain": [
       "array([1., 1., 1., 1., 1., 1., 1., 1., 1., 1., 1., 1., 1., 1.])"
      ]
     },
     "execution_count": 8,
     "metadata": {},
     "output_type": "execute_result"
    }
   ],
   "source": [
    "test['priors_count_is_Caucasian_synth|mcar|acc|log_reg|mean'][\"mean\"]"
   ]
  },
  {
   "cell_type": "code",
   "execution_count": 9,
   "metadata": {},
   "outputs": [],
   "source": [
    "a = [p for p in range(0,20,2)]\n"
   ]
  },
  {
   "cell_type": "code",
   "execution_count": 10,
   "metadata": {},
   "outputs": [],
   "source": [
    "percentiles = [p for p in range(0,20,2)]+[p for p in range(20,60, 10)]"
   ]
  },
  {
   "cell_type": "code",
   "execution_count": 11,
   "metadata": {},
   "outputs": [
    {
     "name": "stderr",
     "output_type": "stream",
     "text": [
      "findfont: Font family ['normal'] not found. Falling back to DejaVu Sans.\n",
      "findfont: Font family ['normal'] not found. Falling back to DejaVu Sans.\n",
      "findfont: Font family ['normal'] not found. Falling back to DejaVu Sans.\n"
     ]
    },
    {
     "name": "stdout",
     "output_type": "stream",
     "text": [
      "experiments/priors_count_is_Caucasian_synth/\n",
      "experiments/priors_count_is_Caucasian_recid/\n",
      "experiments/priors_count_gender_factor_synth/\n",
      "experiments/priors_count_gender_factor_recid/\n",
      "experiments/two_year_recid_is_Caucasian_synth/\n",
      "experiments/two_year_recid_is_Caucasian_recid/\n",
      "experiments/two_year_recid_gender_factor_synth/\n",
      "experiments/two_year_recid_gender_factor_recid/\n",
      "experiments/is_Caucasian_is_Caucasian_synth/\n",
      "experiments/is_Caucasian_is_Caucasian_recid/\n",
      "experiments/is_Caucasian_gender_factor_synth/\n",
      "experiments/is_Caucasian_gender_factor_recid/\n",
      "experiments/gender_factor_is_Caucasian_synth/\n",
      "experiments/gender_factor_is_Caucasian_recid/\n",
      "experiments/gender_factor_gender_factor_synth/\n",
      "experiments/gender_factor_gender_factor_recid/\n"
     ]
    },
    {
     "data": {
      "text/plain": [
       "<Figure size 1332x756 with 0 Axes>"
      ]
     },
     "metadata": {},
     "output_type": "display_data"
    }
   ],
   "source": [
    "data = utils.plotting_multi(test, [\"log_reg\", \"rf_cat\", \"knn\"], percentiles)"
   ]
  },
  {
   "cell_type": "code",
   "execution_count": 12,
   "metadata": {},
   "outputs": [],
   "source": [
    "a = {\"Accuracy MAR 50%\": -1,\"Accuracy MAR 20%\": -1,\n",
    "                    \"Accuracy MCAR 50%\": -1,\"Accuracy MCAR 20%\": -1,\n",
    "                    \"SPD MAR 50%\": -1,\"SPD MAR 20%\": -1, \"SPD MCAR 50%\": -1,\n",
    "                    \"SPD MCAR 20%\": -1, \"PP MAR 50%\": -1, \"PP MAR 20%\": -1,\n",
    "                    \"PP MCAR 50%\": -1, \"PP MCAR 20%\": -1} "
   ]
  },
  {
   "cell_type": "code",
   "execution_count": 13,
   "metadata": {},
   "outputs": [
    {
     "data": {
      "text/plain": [
       "dict_keys(['priors_count_is_Caucasian_synth', 'priors_count_is_Caucasian_recid', 'priors_count_gender_factor_synth', 'priors_count_gender_factor_recid', 'two_year_recid_is_Caucasian_synth', 'two_year_recid_is_Caucasian_recid', 'two_year_recid_gender_factor_synth', 'two_year_recid_gender_factor_recid', 'is_Caucasian_is_Caucasian_synth', 'is_Caucasian_is_Caucasian_recid', 'is_Caucasian_gender_factor_synth', 'is_Caucasian_gender_factor_recid', 'gender_factor_is_Caucasian_synth', 'gender_factor_is_Caucasian_recid', 'gender_factor_gender_factor_synth', 'gender_factor_gender_factor_recid'])"
      ]
     },
     "execution_count": 13,
     "metadata": {},
     "output_type": "execute_result"
    }
   ],
   "source": [
    "data.keys()"
   ]
  },
  {
   "cell_type": "code",
   "execution_count": 14,
   "metadata": {},
   "outputs": [],
   "source": [
    "import pandas as pd\n",
    "dataframes = {}\n",
    "for k, table in data.items():\n",
    "    for key, value in table[\"log_regcca\"].items():\n",
    "        table[\"log_regcca\"][key] = [round(value,4)]\n",
    "    df = pd.DataFrame(table[\"log_regcca\"], columns = list(table[\"log_regcca\"].keys()))\n",
    "    for imp in [\"mean\", \"mice_def\"]:\n",
    "        for key, value in table[\"log_reg\"+imp].items():\n",
    "            table[\"log_reg\"+imp][key] = [round(value,4)]\n",
    "        df = pd.concat([df, pd.DataFrame(table[\"log_reg\"+imp], columns = list(table[\"log_reg\"+imp].keys()))], ignore_index=True)\n",
    "    df.index = [\"CCA\", \"Mean Imputation\", \"Chained Equation Imputation\"]\n",
    "    dataframes[k] = df\n"
   ]
  },
  {
   "cell_type": "code",
   "execution_count": 15,
   "metadata": {},
   "outputs": [
    {
     "data": {
      "text/html": [
       "<div>\n",
       "<style scoped>\n",
       "    .dataframe tbody tr th:only-of-type {\n",
       "        vertical-align: middle;\n",
       "    }\n",
       "\n",
       "    .dataframe tbody tr th {\n",
       "        vertical-align: top;\n",
       "    }\n",
       "\n",
       "    .dataframe thead th {\n",
       "        text-align: right;\n",
       "    }\n",
       "</style>\n",
       "<table border=\"1\" class=\"dataframe\">\n",
       "  <thead>\n",
       "    <tr style=\"text-align: right;\">\n",
       "      <th></th>\n",
       "      <th>Accuracy MAR 50%</th>\n",
       "      <th>Accuracy MAR 20%</th>\n",
       "      <th>Accuracy MCAR 50%</th>\n",
       "      <th>Accuracy MCAR 20%</th>\n",
       "      <th>SPD MAR 50%</th>\n",
       "      <th>SPD MAR 20%</th>\n",
       "      <th>SPD MCAR 50%</th>\n",
       "      <th>SPD MCAR 20%</th>\n",
       "      <th>PP MAR 50%</th>\n",
       "      <th>PP MAR 20%</th>\n",
       "      <th>PP MCAR 50%</th>\n",
       "      <th>PP MCAR 20%</th>\n",
       "    </tr>\n",
       "  </thead>\n",
       "  <tbody>\n",
       "    <tr>\n",
       "      <th>CCA</th>\n",
       "      <td>0.7879</td>\n",
       "      <td>0.967</td>\n",
       "      <td>1.0</td>\n",
       "      <td>1.0</td>\n",
       "      <td>0.2825</td>\n",
       "      <td>0.3587</td>\n",
       "      <td>0.3856</td>\n",
       "      <td>0.3856</td>\n",
       "      <td>0.2491</td>\n",
       "      <td>0.0525</td>\n",
       "      <td>0.2491</td>\n",
       "      <td>0.0525</td>\n",
       "    </tr>\n",
       "    <tr>\n",
       "      <th>Mean Imputation</th>\n",
       "      <td>1.0000</td>\n",
       "      <td>1.000</td>\n",
       "      <td>1.0</td>\n",
       "      <td>1.0</td>\n",
       "      <td>0.3856</td>\n",
       "      <td>0.3856</td>\n",
       "      <td>0.3856</td>\n",
       "      <td>0.3856</td>\n",
       "      <td>0.0000</td>\n",
       "      <td>0.0000</td>\n",
       "      <td>0.0000</td>\n",
       "      <td>0.0000</td>\n",
       "    </tr>\n",
       "    <tr>\n",
       "      <th>Chained Equation Imputation</th>\n",
       "      <td>1.0000</td>\n",
       "      <td>1.000</td>\n",
       "      <td>1.0</td>\n",
       "      <td>1.0</td>\n",
       "      <td>0.3856</td>\n",
       "      <td>0.3856</td>\n",
       "      <td>0.3856</td>\n",
       "      <td>0.3856</td>\n",
       "      <td>0.0000</td>\n",
       "      <td>0.0000</td>\n",
       "      <td>0.0000</td>\n",
       "      <td>0.0000</td>\n",
       "    </tr>\n",
       "  </tbody>\n",
       "</table>\n",
       "</div>"
      ],
      "text/plain": [
       "                             Accuracy MAR 50%  Accuracy MAR 20%  \\\n",
       "CCA                                    0.7879             0.967   \n",
       "Mean Imputation                        1.0000             1.000   \n",
       "Chained Equation Imputation            1.0000             1.000   \n",
       "\n",
       "                             Accuracy MCAR 50%  Accuracy MCAR 20%  \\\n",
       "CCA                                        1.0                1.0   \n",
       "Mean Imputation                            1.0                1.0   \n",
       "Chained Equation Imputation                1.0                1.0   \n",
       "\n",
       "                             SPD MAR 50%  SPD MAR 20%  SPD MCAR 50%  \\\n",
       "CCA                               0.2825       0.3587        0.3856   \n",
       "Mean Imputation                   0.3856       0.3856        0.3856   \n",
       "Chained Equation Imputation       0.3856       0.3856        0.3856   \n",
       "\n",
       "                             SPD MCAR 20%  PP MAR 50%  PP MAR 20%  \\\n",
       "CCA                                0.3856      0.2491      0.0525   \n",
       "Mean Imputation                    0.3856      0.0000      0.0000   \n",
       "Chained Equation Imputation        0.3856      0.0000      0.0000   \n",
       "\n",
       "                             PP MCAR 50%  PP MCAR 20%  \n",
       "CCA                               0.2491       0.0525  \n",
       "Mean Imputation                   0.0000       0.0000  \n",
       "Chained Equation Imputation       0.0000       0.0000  "
      ]
     },
     "execution_count": 15,
     "metadata": {},
     "output_type": "execute_result"
    }
   ],
   "source": [
    "dataframes['priors_count_is_Caucasian_synth'].head()"
   ]
  }
 ],
 "metadata": {
  "interpreter": {
   "hash": "f6b5d6a7d9324dc6141b12d74f79997d922c129aaadb2c82c0fa5c003a2c41f2"
  },
  "kernelspec": {
   "display_name": "Python 3.9.6 64-bit",
   "language": "python",
   "name": "python3"
  },
  "language_info": {
   "codemirror_mode": {
    "name": "ipython",
    "version": 3
   },
   "file_extension": ".py",
   "mimetype": "text/x-python",
   "name": "python",
   "nbconvert_exporter": "python",
   "pygments_lexer": "ipython3",
   "version": "3.9.6"
  },
  "orig_nbformat": 4
 },
 "nbformat": 4,
 "nbformat_minor": 2
}
