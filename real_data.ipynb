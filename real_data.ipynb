{
 "cells": [
  {
   "cell_type": "code",
   "execution_count": 1,
   "metadata": {},
   "outputs": [],
   "source": [
    "import numpy as np\n",
    "import pandas as pd\n",
    "import utils\n",
    "from sklearn.model_selection import train_test_split"
   ]
  },
  {
   "cell_type": "code",
   "execution_count": 2,
   "metadata": {},
   "outputs": [],
   "source": [
    "cols = [\"days_b_screening_arrest\",\n",
    "    \"is_recid\",\n",
    "    \"c_charge_degree\",\n",
    "    \"c_jail_out\",\n",
    "    \"c_jail_in\",\n",
    "    \"age_cat\",\n",
    "    \"race\",\n",
    "    \"sex\",\n",
    "    \"two_year_recid\",\n",
    "    ]\n",
    "recid = pd.read_csv(\"./compas_recid.csv\", usecols=cols+[\"score_text\"])\n",
    "violent_recid = pd.read_csv(\"./compas_violent_recid.csv\", usecols=cols+[\"v_score_text\"])"
   ]
  },
  {
   "cell_type": "code",
   "execution_count": 3,
   "metadata": {},
   "outputs": [],
   "source": [
    "def compas_cleaning(df, score_factor):\n",
    "    new_df = df.dropna()\n",
    "    new_df = new_df[(new_df[\"days_b_screening_arrest\"]<=30)&\n",
    "                    (new_df[\"days_b_screening_arrest\"]>=-30)&\n",
    "                    (new_df[\"is_recid\"]!=-1)&\n",
    "                    (new_df[\"c_charge_degree\"]!=\"O\")]\n",
    "    new_df[\"length_of_stay\"] = ((pd.to_datetime(df[\"c_jail_out\"])-pd.to_datetime(df[\"c_jail_in\"])).dt.days)\n",
    "    new_df[\"length_of_stay\"] = new_df[\"length_of_stay\"].astype(int)\n",
    "    \n",
    "    #Perhaps limit dataset to only black and white participants\n",
    "    new_df[\"is_Caucasian\"] = new_df[\"race\"].apply(lambda x: 1 if x==\"Caucasian\" else 0)\n",
    "    new_df.drop(labels = [\"c_jail_out\", \"c_jail_in\", \"days_b_screening_arrest\", \"is_recid\", \"race\"],axis = 1, inplace = True)\n",
    "    new_df[score_factor] = new_df[score_factor].apply(lambda x: 0 if x==\"High\" else 1)\n",
    "    \n",
    "    new_df = pd.get_dummies(new_df, \n",
    "                            columns = [\"c_charge_degree\",\n",
    "                                        \"age_cat\",\n",
    "                                        \"sex\"],\n",
    "                            drop_first=True)\n",
    "    return new_df\n",
    "\n",
    "    "
   ]
  },
  {
   "cell_type": "code",
   "execution_count": 4,
   "metadata": {},
   "outputs": [],
   "source": [
    "recid = compas_cleaning(recid, \"score_text\")\n",
    "violent_recid = compas_cleaning(violent_recid, \"v_score_text\")"
   ]
  },
  {
   "cell_type": "code",
   "execution_count": 5,
   "metadata": {},
   "outputs": [],
   "source": [
    "def splitter(x,y):\n",
    "    x_train, x_test, y_train, y_test = train_test_split(x, y, test_size=0.33, random_state=42)\n",
    "    return {\"x_train\":x_train, \"x_test\": x_test, \"y_train\":y_train, \"y_test\":y_test}"
   ]
  },
  {
   "cell_type": "code",
   "execution_count": 6,
   "metadata": {},
   "outputs": [
    {
     "name": "stdout",
     "output_type": "stream",
     "text": [
      "AAA\n"
     ]
    }
   ],
   "source": [
    "print(\"AAA\")"
   ]
  },
  {
   "cell_type": "code",
   "execution_count": 7,
   "metadata": {},
   "outputs": [
    {
     "name": "stdout",
     "output_type": "stream",
     "text": [
      "      two_year_recid  length_of_stay  is_Caucasian  c_charge_degree_M  \\\n",
      "5866               1               0             1                  1   \n",
      "3629               0               1             0                  0   \n",
      "1402               1               0             0                  0   \n",
      "6117               1              33             0                  0   \n",
      "4995               1               0             0                  1   \n",
      "\n",
      "      age_cat_Greater than 45  age_cat_Less than 25  sex_Male  score_text  \n",
      "5866                        0                     1         1           1  \n",
      "3629                        0                     1         0           1  \n",
      "1402                        0                     0         1           0  \n",
      "6117                        1                     0         1           0  \n",
      "4995                        1                     0         1           1  \n"
     ]
    }
   ],
   "source": [
    "#Missingness in the sensitive variable Race, and also in charge degree and length of stay\n",
    "RESPONSE = \"score_text\"\n",
    "a = splitter(recid.drop(RESPONSE, axis = 1), recid[RESPONSE])\n",
    "x = a[\"x_train\"]\n",
    "x[RESPONSE] = a[\"y_train\"]\n",
    "print(x.head())"
   ]
  },
  {
   "cell_type": "code",
   "execution_count": 8,
   "metadata": {},
   "outputs": [
    {
     "name": "stderr",
     "output_type": "stream",
     "text": [
      "100%|██████████| 4/4 [02:16<00:00, 34.08s/it]\n",
      "100%|██████████| 4/4 [02:16<00:00, 34.12s/it]\n",
      "100%|██████████| 4/4 [02:12<00:00, 33.17s/it]\n",
      "100%|██████████| 4/4 [02:20<00:00, 35.12s/it]\n",
      "100%|██████████| 4/4 [02:13<00:00, 33.35s/it]\n",
      "100%|██████████| 4/4 [02:19<00:00, 34.97s/it]\n",
      "100%|██████████| 4/4 [02:17<00:00, 34.50s/it]\n",
      "100%|██████████| 4/4 [02:22<00:00, 35.70s/it]\n",
      "100%|██████████| 4/4 [01:50<00:00, 27.61s/it]\n",
      "100%|██████████| 4/4 [02:12<00:00, 33.00s/it]\n",
      "100%|██████████| 4/4 [02:36<00:00, 39.04s/it]\n",
      "  0%|          | 0/4 [00:38<?, ?it/s]\n"
     ]
    },
    {
     "ename": "ValueError",
     "evalue": "This solver needs samples of at least 2 classes in the data, but the data contains only one class: 1",
     "output_type": "error",
     "traceback": [
      "\u001b[1;31m---------------------------------------------------------------------------\u001b[0m",
      "\u001b[1;31mValueError\u001b[0m                                Traceback (most recent call last)",
      "\u001b[1;32m~\\AppData\\Local\\Temp/ipykernel_10248/390790942.py\u001b[0m in \u001b[0;36m<module>\u001b[1;34m\u001b[0m\n\u001b[0;32m     13\u001b[0m             \u001b[0my\u001b[0m \u001b[1;33m=\u001b[0m \u001b[0mdata\u001b[0m\u001b[1;33m[\u001b[0m\u001b[1;34m\"x_test\"\u001b[0m\u001b[1;33m]\u001b[0m\u001b[1;33m\u001b[0m\u001b[1;33m\u001b[0m\u001b[0m\n\u001b[0;32m     14\u001b[0m             \u001b[0my\u001b[0m\u001b[1;33m[\u001b[0m\u001b[0mRESPONSE\u001b[0m\u001b[1;33m]\u001b[0m \u001b[1;33m=\u001b[0m \u001b[0mdata\u001b[0m\u001b[1;33m[\u001b[0m\u001b[1;34m\"y_test\"\u001b[0m\u001b[1;33m]\u001b[0m\u001b[1;33m\u001b[0m\u001b[1;33m\u001b[0m\u001b[0m\n\u001b[1;32m---> 15\u001b[1;33m             res = utils.test_bench(train = x,test = y, pred = RESPONSE, missing = miss, sensitive=sensitive,\n\u001b[0m\u001b[0;32m     16\u001b[0m                 percentiles = percentiles)\n\u001b[0;32m     17\u001b[0m \u001b[1;33m\u001b[0m\u001b[0m\n",
      "\u001b[1;32m~\\AppData\\Roaming\\Python\\Python39\\site-packages\\sklearn\\utils\\_testing.py\u001b[0m in \u001b[0;36mwrapper\u001b[1;34m(*args, **kwargs)\u001b[0m\n\u001b[0;32m    311\u001b[0m             \u001b[1;32mwith\u001b[0m \u001b[0mwarnings\u001b[0m\u001b[1;33m.\u001b[0m\u001b[0mcatch_warnings\u001b[0m\u001b[1;33m(\u001b[0m\u001b[1;33m)\u001b[0m\u001b[1;33m:\u001b[0m\u001b[1;33m\u001b[0m\u001b[1;33m\u001b[0m\u001b[0m\n\u001b[0;32m    312\u001b[0m                 \u001b[0mwarnings\u001b[0m\u001b[1;33m.\u001b[0m\u001b[0msimplefilter\u001b[0m\u001b[1;33m(\u001b[0m\u001b[1;34m\"ignore\"\u001b[0m\u001b[1;33m,\u001b[0m \u001b[0mself\u001b[0m\u001b[1;33m.\u001b[0m\u001b[0mcategory\u001b[0m\u001b[1;33m)\u001b[0m\u001b[1;33m\u001b[0m\u001b[1;33m\u001b[0m\u001b[0m\n\u001b[1;32m--> 313\u001b[1;33m                 \u001b[1;32mreturn\u001b[0m \u001b[0mfn\u001b[0m\u001b[1;33m(\u001b[0m\u001b[1;33m*\u001b[0m\u001b[0margs\u001b[0m\u001b[1;33m,\u001b[0m \u001b[1;33m**\u001b[0m\u001b[0mkwargs\u001b[0m\u001b[1;33m)\u001b[0m\u001b[1;33m\u001b[0m\u001b[1;33m\u001b[0m\u001b[0m\n\u001b[0m\u001b[0;32m    314\u001b[0m \u001b[1;33m\u001b[0m\u001b[0m\n\u001b[0;32m    315\u001b[0m         \u001b[1;32mreturn\u001b[0m \u001b[0mwrapper\u001b[0m\u001b[1;33m\u001b[0m\u001b[1;33m\u001b[0m\u001b[0m\n",
      "\u001b[1;32mc:\\Users\\mariu\\masters\\utils.py\u001b[0m in \u001b[0;36mtest_bench\u001b[1;34m(train, test, pred, missing, sensitive, pred_var_type, percentiles)\u001b[0m\n\u001b[0;32m    292\u001b[0m                 data_mar = impute(data_remover_cat(\n\u001b[0;32m    293\u001b[0m                     train, missing, p, missing=\"mar\"), missing, impute=imp)\n\u001b[1;32m--> 294\u001b[1;33m                 predictions_0 = MODELS[m].fit(data_mar.drop(pred, axis=1),\n\u001b[0m\u001b[0;32m    295\u001b[0m                                                    data_mar[pred]).predict(class_0_test.drop(pred, axis=1))\n\u001b[0;32m    296\u001b[0m                 predictions_1 = MODELS[m].fit(data_mar.drop(pred, axis=1),\n",
      "\u001b[1;32m~\\AppData\\Roaming\\Python\\Python39\\site-packages\\sklearn\\linear_model\\_logistic.py\u001b[0m in \u001b[0;36mfit\u001b[1;34m(self, X, y, sample_weight)\u001b[0m\n\u001b[0;32m   1552\u001b[0m         \u001b[0mclasses_\u001b[0m \u001b[1;33m=\u001b[0m \u001b[0mself\u001b[0m\u001b[1;33m.\u001b[0m\u001b[0mclasses_\u001b[0m\u001b[1;33m\u001b[0m\u001b[1;33m\u001b[0m\u001b[0m\n\u001b[0;32m   1553\u001b[0m         \u001b[1;32mif\u001b[0m \u001b[0mn_classes\u001b[0m \u001b[1;33m<\u001b[0m \u001b[1;36m2\u001b[0m\u001b[1;33m:\u001b[0m\u001b[1;33m\u001b[0m\u001b[1;33m\u001b[0m\u001b[0m\n\u001b[1;32m-> 1554\u001b[1;33m             raise ValueError(\n\u001b[0m\u001b[0;32m   1555\u001b[0m                 \u001b[1;34m\"This solver needs samples of at least 2 classes\"\u001b[0m\u001b[1;33m\u001b[0m\u001b[1;33m\u001b[0m\u001b[0m\n\u001b[0;32m   1556\u001b[0m                 \u001b[1;34m\" in the data, but the data contains only one\"\u001b[0m\u001b[1;33m\u001b[0m\u001b[1;33m\u001b[0m\u001b[0m\n",
      "\u001b[1;31mValueError\u001b[0m: This solver needs samples of at least 2 classes in the data, but the data contains only one class: 1"
     ]
    },
    {
     "data": {
      "text/plain": [
       "<Figure size 432x288 with 0 Axes>"
      ]
     },
     "metadata": {},
     "output_type": "display_data"
    }
   ],
   "source": [
    "\n",
    "percentiles = [i for i in range(1, 16)]+[j for j in range(20, 60, 10)]\n",
    "for i, frames in enumerate([recid]):#, violent_recid]):\n",
    "    if i == 0:\n",
    "        RESPONSE = \"score_text\"\n",
    "    else:\n",
    "        RESPONSE = \"v_score_text\"\n",
    "    for sensitive in [\"is_Caucasian\", \"sex_Male\"]:\n",
    "        for miss in [\"c_charge_degree_M\", \"is_Caucasian\", \"sex_Male\", \"two_year_recid\"]:\n",
    "            data = splitter(frames.drop(RESPONSE, axis = 1), frames[RESPONSE])\n",
    "            x = data[\"x_train\"]\n",
    "            x[RESPONSE] = data[\"y_train\"]\n",
    "\n",
    "            y = data[\"x_test\"]\n",
    "            y[RESPONSE] = data[\"y_test\"]\n",
    "            try:\n",
    "                res = utils.test_bench(train = x,test = y, pred = RESPONSE, missing = miss, sensitive=sensitive,\n",
    "                    percentiles = percentiles)\n",
    "            except:\n",
    "                print(data.head())\n",
    "                print(\"Responses:\", x[RESPONSE].sum(), y[RESPONSE].sum())\n",
    "\n",
    "            try:\n",
    "                utils.plotting_cf([\"log_reg\", \"rf_cat\", \"svm\", \"knn\"],[\"cca\", \"mice_def\", \"mean\"], res)\n",
    "                utils.plotting_others(res)\n",
    "            except Exception as e:\n",
    "                print(e)\n",
    "\n",
    "            "
   ]
  },
  {
   "cell_type": "code",
   "execution_count": null,
   "metadata": {},
   "outputs": [],
   "source": [
    "#test_bench(train, test, pred: str, missing: str, sensitive: str, pred_var_type: str = \"cat\"):\n",
    "#res = utils.test_bench(synth_cat_train, synth_cat_test, \"y\", \"x_2\", \"x_2\")"
   ]
  },
  {
   "cell_type": "code",
   "execution_count": null,
   "metadata": {},
   "outputs": [],
   "source": []
  }
 ],
 "metadata": {
  "interpreter": {
   "hash": "f6b5d6a7d9324dc6141b12d74f79997d922c129aaadb2c82c0fa5c003a2c41f2"
  },
  "kernelspec": {
   "display_name": "Python 3.9.6 64-bit",
   "language": "python",
   "name": "python3"
  },
  "language_info": {
   "codemirror_mode": {
    "name": "ipython",
    "version": 3
   },
   "file_extension": ".py",
   "mimetype": "text/x-python",
   "name": "python",
   "nbconvert_exporter": "python",
   "pygments_lexer": "ipython3",
   "version": "3.9.6"
  },
  "orig_nbformat": 4
 },
 "nbformat": 4,
 "nbformat_minor": 2
}
