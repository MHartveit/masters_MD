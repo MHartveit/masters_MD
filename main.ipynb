{
 "cells": [
  {
   "cell_type": "code",
   "execution_count": 1,
   "metadata": {},
   "outputs": [],
   "source": [
    "import numpy as np\n",
    "import utils\n",
    "import pandas as pd"
   ]
  },
  {
   "cell_type": "code",
   "execution_count": 2,
   "metadata": {},
   "outputs": [],
   "source": [
    "synth_regular = utils.load_synthetic()\n",
    "compas = utils.load_compas_alt()\n",
    "RESPONSE = \"score_factor\""
   ]
  },
  {
   "cell_type": "code",
   "execution_count": 3,
   "metadata": {},
   "outputs": [
    {
     "data": {
      "text/plain": [
       "dict_keys(['train', 'test'])"
      ]
     },
     "execution_count": 3,
     "metadata": {},
     "output_type": "execute_result"
    }
   ],
   "source": [
    "compas.keys()"
   ]
  },
  {
   "cell_type": "code",
   "execution_count": 4,
   "metadata": {},
   "outputs": [],
   "source": [
    "#compas[\"standard\"][\"train\"].keys()"
   ]
  },
  {
   "cell_type": "code",
   "execution_count": 5,
   "metadata": {},
   "outputs": [
    {
     "name": "stdout",
     "output_type": "stream",
     "text": [
      "Key:  test\n",
      "Caucasian = 1:  0.3353353353353353 \n",
      "Caucasian = 0:  0.6646646646646647\n",
      "Male = 1:  0.8118118118118118 \n",
      "Male = 0:  0.1881881881881882\n",
      "After 30% missing: \n",
      "Caucasian = 1:  0.2821997105643994 \n",
      "Caucasian = 0:  0.7178002894356006\n",
      "Male = 1:  0.8219971056439942 \n",
      "Male = 0:  0.17800289435600578\n",
      "Key:  train\n",
      "Caucasian = 1:  0.35132433783108447 \n",
      "Caucasian = 0:  0.6486756621689156\n",
      "Male = 1:  0.8118440779610195 \n",
      "Male = 0:  0.18815592203898052\n",
      "After 30% missing: \n",
      "Caucasian = 1:  0.31318252730109203 \n",
      "Caucasian = 0:  0.6868174726989079\n",
      "Male = 1:  0.8131825273010921 \n",
      "Male = 0:  0.18681747269890794\n"
     ]
    }
   ],
   "source": [
    "#Checking that the classes don't become too much more imbalanced when data is removed.\n",
    "\n",
    "#Synthetic data\n",
    "for key, value in synth_regular.items():\n",
    "    #print(value.columns)\n",
    "    print(\"Key: \", key)\n",
    "    print(\"Caucasian = 1: \",len(value[value[\"is_Caucasian\"]==1])/len(value) ,\n",
    "    \"\\nCaucasian = 0: \", len(value[value[\"is_Caucasian\"]==0])/len(value))\n",
    "    print(\"Male = 1: \",len(value[value[\"gender_factor\"]==1])/len(value) ,\n",
    "    \"\\nMale = 0: \", len(value[value[\"gender_factor\"]==0])/len(value))\n",
    "    print(\"After 30% missing: \")\n",
    "    temp = value.copy()\n",
    "    temp = utils.impute(utils.data_remover_cat(temp, \"is_Caucasian\", 30), \"is_Caucasian\")\n",
    "    print(\"Caucasian = 1: \",len(temp[temp[\"is_Caucasian\"]==1])/len(temp) ,\n",
    "        \"\\nCaucasian = 0: \", len(temp[temp[\"is_Caucasian\"]==0])/len(temp))\n",
    "    print(\"Male = 1: \",len(temp[temp[\"gender_factor\"]==1])/len(temp) ,\n",
    "        \"\\nMale = 0: \", len(temp[temp[\"gender_factor\"]==0])/len(temp))"
   ]
  },
  {
   "cell_type": "code",
   "execution_count": 6,
   "metadata": {},
   "outputs": [
    {
     "data": {
      "text/plain": [
       "array([ 2.5,  3.5, 29.5])"
      ]
     },
     "execution_count": 6,
     "metadata": {},
     "output_type": "execute_result"
    }
   ],
   "source": [
    "a = []\n",
    "b = [1,2,3]\n",
    "c = [4,5,56]\n",
    "a.append(b)\n",
    "a.append(c)\n",
    "np.mean(a, axis = 0)"
   ]
  },
  {
   "cell_type": "code",
   "execution_count": 7,
   "metadata": {},
   "outputs": [
    {
     "name": "stdout",
     "output_type": "stream",
     "text": [
      "Key:  train\n",
      "Caucasian = 1:  0.3388149939540508 \n",
      "Caucasian = 0:  0.6611850060459492\n",
      "Male = 1:  0.8099153567110037 \n",
      "Male = 0:  0.19008464328899638\n",
      "Score text:  0.44401451027811367\n",
      "After 30% missing: \n",
      "Caucasian = 1:  0.32952924393723254 \n",
      "Caucasian = 0:  0.6704707560627675\n",
      "Male = 1:  0.8088445078459344 \n",
      "Male = 0:  0.19115549215406563\n",
      "Score text:  0.44401451027811367\n",
      "Key:  test\n",
      "Caucasian = 1:  0.3446244477172312 \n",
      "Caucasian = 0:  0.6553755522827688\n",
      "Male = 1:  0.8090328915071183 \n",
      "Male = 0:  0.19096710849288168\n",
      "Score text:  0.4491899852724595\n",
      "After 30% missing: \n",
      "Caucasian = 1:  0.3361462728551336 \n",
      "Caucasian = 0:  0.6638537271448663\n",
      "Male = 1:  0.7883263009845288 \n",
      "Male = 0:  0.21167369901547117\n",
      "Score text:  0.4491899852724595\n"
     ]
    }
   ],
   "source": [
    "#Compas data\n",
    "\"\"\"for ver in [\"standard\", \"violent\"]:\n",
    "    print(\"Compas dataset type: \", ver)\"\"\"\n",
    "for key, value in compas.items():\n",
    "    #print(value.columns)\n",
    "    print(\"Key: \", key)\n",
    "    print(\"Caucasian = 1: \",len(value[value[\"is_Caucasian\"]==1])/len(value) ,\n",
    "    \"\\nCaucasian = 0: \", len(value[value[\"is_Caucasian\"]==0])/len(value))\n",
    "    print(\"Male = 1: \",len(value[value[\"gender_factor\"]==1])/len(value) ,\n",
    "    \"\\nMale = 0: \", len(value[value[\"gender_factor\"]==0])/len(value))\n",
    "    print(\"Score text: \", len(value[value[\"score_factor\"]==1])/len(value))\n",
    "    print(\"After 30% missing: \")\n",
    "    temp = value.copy()\n",
    "    temp = utils.impute(utils.data_remover_cat(temp, \"is_Caucasian\", 30), \"is_Caucasian\")\n",
    "    print(\"Caucasian = 1: \",len(temp[temp[\"is_Caucasian\"]==1])/len(temp) ,\n",
    "        \"\\nCaucasian = 0: \", len(temp[temp[\"is_Caucasian\"]==0])/len(temp))\n",
    "    print(\"Male = 1: \",len(temp[temp[\"gender_factor\"]==1])/len(temp) ,\n",
    "        \"\\nMale = 0: \", len(temp[temp[\"gender_factor\"]==0])/len(temp))\n",
    "    print(\"Score text: \", len(value[value[\"score_factor\"]==1])/len(value))\n"
   ]
  },
  {
   "cell_type": "code",
   "execution_count": 8,
   "metadata": {},
   "outputs": [
    {
     "data": {
      "text/html": [
       "<div>\n",
       "<style scoped>\n",
       "    .dataframe tbody tr th:only-of-type {\n",
       "        vertical-align: middle;\n",
       "    }\n",
       "\n",
       "    .dataframe tbody tr th {\n",
       "        vertical-align: top;\n",
       "    }\n",
       "\n",
       "    .dataframe thead th {\n",
       "        text-align: right;\n",
       "    }\n",
       "</style>\n",
       "<table border=\"1\" class=\"dataframe\">\n",
       "  <thead>\n",
       "    <tr style=\"text-align: right;\">\n",
       "      <th></th>\n",
       "      <th>a</th>\n",
       "      <th>b</th>\n",
       "    </tr>\n",
       "  </thead>\n",
       "  <tbody>\n",
       "    <tr>\n",
       "      <th>0</th>\n",
       "      <td>True</td>\n",
       "      <td>True</td>\n",
       "    </tr>\n",
       "    <tr>\n",
       "      <th>1</th>\n",
       "      <td>True</td>\n",
       "      <td>True</td>\n",
       "    </tr>\n",
       "    <tr>\n",
       "      <th>2</th>\n",
       "      <td>True</td>\n",
       "      <td>True</td>\n",
       "    </tr>\n",
       "  </tbody>\n",
       "</table>\n",
       "</div>"
      ],
      "text/plain": [
       "      a     b\n",
       "0  True  True\n",
       "1  True  True\n",
       "2  True  True"
      ]
     },
     "execution_count": 8,
     "metadata": {},
     "output_type": "execute_result"
    }
   ],
   "source": [
    "a = pd.DataFrame({\"a\":[1,2,3], \"b\":[3,4,5]})\n",
    "b = pd.DataFrame({\"a\":[1,2,3], \"b\":[3,4,5]})\n",
    "a==b"
   ]
  },
  {
   "cell_type": "code",
   "execution_count": 9,
   "metadata": {},
   "outputs": [
    {
     "name": "stderr",
     "output_type": "stream",
     "text": [
      "  0%|          | 0/5 [00:00<?, ?it/s]"
     ]
    }
   ],
   "source": [
    "percentiles = [p for p in range(0,20,2)]+[p for p in range(20,60, 10)]\n",
    "#TODO test missing = Sensitive in case code crashes\n",
    "missing=[\"priors_count\", \"two_year_recid\"]# \"is_Caucasian\"]#, \"gender_factor\", \"crime_factor\"]\n",
    "all_results = {}\n",
    "RUNS = 5\n",
    "for miss in missing:\n",
    "    for sensitive in [\"is_Caucasian\"]:#, \"gender_factor\"]:\n",
    "        #try:\n",
    "        recid_results = utils.test_bench(data = \"compas\", pred = RESPONSE, missing = miss, sensitive=sensitive,\n",
    "                        percentiles = percentiles, n_runs=RUNS)\n",
    "        synth_results = utils.test_bench(data = \"synthetic\", pred = RESPONSE, missing = miss, sensitive=sensitive,\n",
    "                            percentiles = percentiles, n_runs=RUNS)\n",
    "        #TODO and remember to fix data v_recid_results = utils.test_bench(train = compas[\"standard\"][\"train\"],test = compas[\"standard\"][\"test\"], pred = RESPONSE, missing = miss, sensitive=sensitive,\n",
    "                        #percentiles = percentiles)\n",
    "        all_results[miss+\"_\"+sensitive+\"_\"+\"synth\"] = synth_results \n",
    "        all_results[miss+\"_\"+sensitive+\"_\"+\"recid\"] = recid_results \n",
    "        #except:\n",
    "            #print(\"failed at \" + sensitive + miss)\n",
    "        \"\"\"try:\n",
    "            synth_results = utils.test_bench(train = synth_regular[\"train\"],test = synth_regular[\"test\"], pred = RESPONSE, missing = miss, sensitive=sensitive,\n",
    "                            percentiles = percentiles)\n",
    "            recid_results = utils.test_bench(train = compas[\"train\"],test = compas[\"test\"], pred = RESPONSE, missing = miss, sensitive=sensitive,\n",
    "                            percentiles = percentiles)\n",
    "            #TODO and remember to fix data v_recid_results = utils.test_bench(train = compas[\"standard\"][\"train\"],test = compas[\"standard\"][\"test\"], pred = RESPONSE, missing = miss, sensitive=sensitive,\n",
    "                            #percentiles = percentiles)\n",
    "            all_results[miss+\"_\"+sensitive+\"_\"+\"synth\"] = synth_results \n",
    "            all_results[miss+\"_\"+sensitive+\"_\"+\"recid\"] = recid_results \n",
    "            #all_results[miss+\"_\"+sensitive+\"_\"+\"v_recid\"] = v_recid_results\n",
    "        except Exception as e:\n",
    "            print(\"Exception: \", e)\n",
    "            print(\"Parameters: \", sensitive+\"_\"+miss) \n",
    "        \"\"\""
   ]
  },
  {
   "cell_type": "code",
   "execution_count": null,
   "metadata": {},
   "outputs": [],
   "source": [
    "import json\n",
    "from pathlib import Path\n",
    "with open(Path(\"raw_data/multi_02_07.json\"), 'w') as f:\n",
    "            json.dump(all_results, f)"
   ]
  },
  {
   "cell_type": "code",
   "execution_count": null,
   "metadata": {},
   "outputs": [],
   "source": []
  }
 ],
 "metadata": {
  "interpreter": {
   "hash": "f6b5d6a7d9324dc6141b12d74f79997d922c129aaadb2c82c0fa5c003a2c41f2"
  },
  "kernelspec": {
   "display_name": "Python 3.9.6 64-bit",
   "language": "python",
   "name": "python3"
  },
  "language_info": {
   "codemirror_mode": {
    "name": "ipython",
    "version": 3
   },
   "file_extension": ".py",
   "mimetype": "text/x-python",
   "name": "python",
   "nbconvert_exporter": "python",
   "pygments_lexer": "ipython3",
   "version": "3.9.6"
  },
  "orig_nbformat": 4
 },
 "nbformat": 4,
 "nbformat_minor": 2
}
